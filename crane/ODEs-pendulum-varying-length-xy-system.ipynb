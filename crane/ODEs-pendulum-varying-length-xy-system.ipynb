{
 "cells": [
  {
   "cell_type": "markdown",
   "id": "ef34f5ed",
   "metadata": {},
   "source": [
    "# Differential equations for a pendulum with time-varying length"
   ]
  },
  {
   "cell_type": "markdown",
   "id": "a6ed159a",
   "metadata": {},
   "source": [
    "Based on derivations from\n",
    " - https://en.wikipedia.org/wiki/Centripetal_force#Nonuniform_circular_motion"
   ]
  },
  {
   "cell_type": "code",
   "execution_count": 1,
   "id": "ad9b047d",
   "metadata": {},
   "outputs": [],
   "source": [
    "import numpy as np\n",
    "from scipy.integrate import solve_ivp\n",
    "import matplotlib.pyplot as plt"
   ]
  },
  {
   "cell_type": "code",
   "execution_count": 2,
   "id": "57142c66",
   "metadata": {},
   "outputs": [],
   "source": [
    "# This is needed to make debugger work\n",
    "import sys\n",
    "sys.breakpointhook = sys.__breakpointhook__"
   ]
  },
  {
   "cell_type": "markdown",
   "id": "dc88c2e5",
   "metadata": {},
   "source": [
    "## General planar motion\n",
    "(not limited to circular motion)"
   ]
  },
  {
   "cell_type": "markdown",
   "id": "25dfc2e1",
   "metadata": {},
   "source": [
    "Position of the point load at the end of pendulum arm relative to pivot:\n",
    "\n",
    "$$\\mathbf{r} = r \\cos{(\\theta)} \\mathbf{u}_x + r \\sin{(\\theta)} \\mathbf{u}_y$$\n",
    "\n",
    "where $\\mathbf{u}_x$ and $\\mathbf{u}_y$ are unit vectors in the cartesian plane, and $r$, $\\theta$ may be time varying"
   ]
  },
  {
   "cell_type": "markdown",
   "id": "d1c933c5",
   "metadata": {},
   "source": [
    "Translate into a polar co-ordinate system which has a radial unit vector $\\mathbf{u}_\\rho$ and an angular unit vector $\\mathbf{u}_\\theta$, and moves with the particle.\n",
    "\n",
    "<img src=\"images/Polar_unit_vectors.png\" width=\"40%\">\n",
    "\n",
    "\n",
    "$$\\mathbf{r} = \\rho \\mathbf{u}_\\rho$$\n",
    "\n",
    "The unit vector $\\mathbf{u}_p$ travels with the particle and always points in the same direction as $\\mathbf{r}(t)$. Unit vector $\\mathbf{u}_\\theta$ also travels with the particle and remains orthogonal to $\\mathbf{u}_\\rho$. Thus, $\\mathbf{u}_\\rho$ and $\\mathbf{u}_\\theta$ form a local Cartesian coordinate system attached to the particle, and tied to the path traveled by the particle."
   ]
  },
  {
   "cell_type": "code",
   "execution_count": 3,
   "id": "1a8991cc",
   "metadata": {},
   "outputs": [],
   "source": [
    "def xy_to_polar(x, y):\n",
    "    theta = np.arctan2(y, x)\n",
    "    L = np.sqrt(x**2 + y**2)\n",
    "    return [L, theta]\n",
    "\n",
    "assert(xy_to_polar(0, 0) == [0, 0])\n",
    "assert(xy_to_polar(1, 0) == [1, 0])\n",
    "assert(xy_to_polar(0, 2) == [2, 0.5*np.pi])\n",
    "assert(xy_to_polar(-3, 0) == [3, np.pi])\n",
    "assert(np.all(np.isclose(xy_to_polar(3, -4), [5, -np.radians(53.13)])))\n",
    "\n",
    "def polar_to_xy(L, theta):\n",
    "    x = L * np.cos(theta)\n",
    "    y = L * np.sin(theta)\n",
    "    return [x, y]"
   ]
  },
  {
   "cell_type": "markdown",
   "id": "18d8a50f",
   "metadata": {},
   "source": [
    "Velocity of the particle:\n",
    "\n",
    "$$\\mathbf{v} = \\frac{d\\rho}{dt} \\mathbf{u}_p + \\rho \\frac{d\\mathbf{u}_p}{dt}$$\n",
    "\n",
    "where $\\rho$ is used to describe the distance of the path from the origin instead of $r$ to emphasize that it is time-varying."
   ]
  },
  {
   "cell_type": "markdown",
   "id": "71293bbc",
   "metadata": {},
   "source": [
    "Considering that $\\mathbf{u}_p$ and $\\mathbf{u}_\\theta$ always form a right-angled pair with tips on the unit circle, their time derivatives are \n",
    "\n",
    "$$\\frac{d\\mathbf{u}_\\rho}{dt} = \\mathbf{u}_\\theta \\frac{d\\theta}{dt},\n",
    "\\frac{d\\mathbf{u}_\\theta}{dt} = - \\frac{d\\theta}{dt} \\mathbf{u}_\\rho$$\n",
    "\n",
    "Note: in the image above, to maintain orthogonality, if $d\\mathbf{u}_\\rho$ is positive with $d\\theta$, then $d\\mathbf{u}_\\theta$ must decrease."
   ]
  },
  {
   "cell_type": "markdown",
   "id": "91cedf72",
   "metadata": {},
   "source": [
    "Substituting above into the equation for velocity gives\n",
    "\n",
    "$$\\mathbf{v} = \\frac{d\\rho}{dt} \\mathbf{u}_\\rho + \\rho \\mathbf{u}_\\theta \\frac{d\\theta}{dt}$$"
   ]
  },
  {
   "cell_type": "markdown",
   "id": "43a04d66",
   "metadata": {},
   "source": [
    "To obtain the acceleration, differentiate again w.r.t. time\n",
    "\n",
    "$$\n",
    "\\begin{aligned}\n",
    "    \\mathbf{a} &= \\frac{d}{dt} \\left[ \n",
    "        \\frac{d\\rho}{dt} \\mathbf{u}_\\rho + \\rho \\mathbf{u}_\\theta \\frac{d\\theta}{dt}\n",
    "    \\right] \\\\\n",
    "    &= \\frac{d^2\\rho}{{dt}^2} \\mathbf{u}_\\rho \n",
    "        + \\frac{d\\rho}{dt} \\frac{d\\mathbf{u}_\\rho}{dt}\n",
    "        + \\frac{d\\rho}{dt} \\mathbf{u}_\\theta \\frac{d\\theta}{dt}\n",
    "        + \\rho \\frac{d\\mathbf{u}_\\theta}{dt} \\frac{d\\theta}{dt}\n",
    "        + \\rho \\mathbf{u}_\\theta \\frac{d^2\\theta}{{dt}^2} \\\\\n",
    "    &= \\frac{d^2\\rho}{{dt}^2} \\mathbf{u}_\\rho \n",
    "        + \\frac{d\\rho}{dt} \\mathbf{u}_\\theta \\frac{d\\theta}{dt}\n",
    "        + \\frac{d\\rho}{dt} \\mathbf{u}_\\theta \\frac{d\\theta}{dt}\n",
    "        - \\rho \\frac{d\\theta}{dt} \\mathbf{u}_\\rho \\frac{d\\theta}{dt}\n",
    "        + \\rho \\mathbf{u}_\\theta \\frac{d^2\\theta}{{dt}^2} \\\\\n",
    "    &= \\frac{d^2\\rho}{{dt}^2} \\mathbf{u}_\\rho\n",
    "        + 2 \\frac{d\\rho}{dt} \\mathbf{u}_\\theta \\frac{d\\theta}{dt}\n",
    "        - \\rho \\mathbf{u}_\\rho \\left(\\frac{d\\theta}{dt}\\right)^2\n",
    "        + \\rho \\mathbf{u}_\\theta \\frac{d^2\\theta}{{dt}^2} \\\\\n",
    "    &= \\mathbf{u}_\\rho \\left[ \n",
    "            \\frac{d^2\\rho}{{dt}^2}\n",
    "            - \\rho \\left(\\frac{d\\theta}{dt}\\right)^2 \\right]\n",
    "        + \\mathbf{u}_\\theta \\left[\n",
    "            2 \\frac{d\\rho}{dt} \\frac{d\\theta}{dt} \n",
    "            + \\rho \\frac{d^2\\theta}{{dt}^2} \\right]\n",
    "\\end{aligned}\n",
    "$$"
   ]
  },
  {
   "cell_type": "markdown",
   "id": "d5c20573",
   "metadata": {},
   "source": [
    "Since $\\frac{d\\rho}{dt} = v_p$ and $\\rho \\frac{d\\theta}{dt} = v_\\theta$, we can also write\n",
    "\n",
    "$$\n",
    "\\mathbf{a} = \\mathbf{u}_\\rho \\left[ \n",
    "            \\frac{dv_p}{dt}\n",
    "            - \\frac{v_\\theta^2}{\\rho} \\right]\n",
    "        + \\mathbf{u}_\\theta \\left[\n",
    "            \\frac{2 v_p v_\\theta}{\\rho} \n",
    "            + \\rho \\frac{d}{dt} \\left( \\frac{v_\\theta}{\\rho} \\right) \\right]\n",
    "$$"
   ]
  },
  {
   "cell_type": "markdown",
   "id": "6fd9d3e5",
   "metadata": {},
   "source": [
    "$$\n",
    "\\begin{aligned}\n",
    "a_\\rho &= \\frac{d^2\\rho}{{dt}^2}\n",
    "            - \\rho \\left(\\frac{d\\theta}{dt}\\right)^2 \\\\\n",
    "a_\\theta &= 2 \\frac{d\\rho}{dt} \\frac{d\\theta}{dt} \n",
    "            + \\rho \\frac{d^2\\theta}{{dt}^2}\n",
    "\\end{aligned}\n",
    "$$"
   ]
  },
  {
   "cell_type": "markdown",
   "id": "80c0ec80",
   "metadata": {},
   "source": [
    "therefore\n",
    "\n",
    "$$\n",
    "\\begin{aligned}\n",
    "\\frac{d^2\\rho}{{dt}^2} &= a_\\rho\n",
    "            + \\rho \\left(\\frac{d\\theta}{dt}\\right)^2 \\\\\n",
    "\\frac{d^2\\theta}{{dt}^2} &= \\frac{1}{\\rho} \\left[\n",
    "    a_\\theta - 2 \\frac{d\\rho}{dt} \\frac{d\\theta}{dt}\n",
    "\\right]\n",
    "\\end{aligned}\n",
    "$$"
   ]
  },
  {
   "cell_type": "code",
   "execution_count": 4,
   "id": "96690c05",
   "metadata": {},
   "outputs": [],
   "source": [
    "def centripetal_motion_polar_D2(a_r, r, D_r, a_theta, theta, D_theta):\n",
    "    \"\"\"Calculates the second derivatives of the\n",
    "    radius and angle of the position of a mass \n",
    "    (polar co-ordinates), with the given radial and\n",
    "    angular velocities, and subject to additional \n",
    "    accelerations, a_r and a_theta, due to applied\n",
    "    forces.\n",
    "    \"\"\"\n",
    "    D2_r = a_r + r * D_theta ** 2\n",
    "    D2_theta = (a_theta - 2 * D_r * D_theta) / r\n",
    "    return D2_r, D2_theta"
   ]
  },
  {
   "cell_type": "code",
   "execution_count": 5,
   "id": "df03ac02",
   "metadata": {},
   "outputs": [],
   "source": [
    "r = 5\n",
    "D_r = 0\n",
    "a_r = 0\n",
    "theta = 0  # horizontal (to right)\n",
    "D_theta = 0\n",
    "a_theta = 9.81\n",
    "D2_r, D2_theta = centripetal_motion_polar_D2(a_r, r, D_r, a_theta, theta, D_theta)\n",
    "assert((D2_r, D2_theta) == (0, a_theta / r))"
   ]
  },
  {
   "cell_type": "code",
   "execution_count": 6,
   "id": "38a82177",
   "metadata": {},
   "outputs": [],
   "source": [
    "r = 5\n",
    "D_r = 0\n",
    "a_r = 0\n",
    "theta = -np.pi / 2  # vertical (down)\n",
    "D_theta = 0\n",
    "a_theta = 9.81\n",
    "D2_r, D2_theta = centripetal_motion_polar_D2(a_r, r, D_r, a_theta, theta, D_theta)\n",
    "assert((D2_r, D2_theta) == (0, a_theta / r))"
   ]
  },
  {
   "cell_type": "code",
   "execution_count": 7,
   "id": "4693a7a2",
   "metadata": {},
   "outputs": [],
   "source": [
    "r = 5\n",
    "D_r = 1\n",
    "a_r = 0\n",
    "theta = np.degrees(45)\n",
    "D_theta = 0\n",
    "a_theta = 0\n",
    "D2_r, D2_theta = centripetal_motion_polar_D2(a_r, r, D_r, a_theta, theta, D_theta)\n",
    "assert((D2_r, D2_theta) == (0, 0))"
   ]
  },
  {
   "cell_type": "code",
   "execution_count": 8,
   "id": "61410641",
   "metadata": {},
   "outputs": [],
   "source": [
    "r = 5\n",
    "D_r = 1  # radius extending\n",
    "a_r = 0\n",
    "theta = np.degrees(45)\n",
    "D_theta = 1  # turning anti-clockwise\n",
    "a_theta = 0\n",
    "D2_r, D2_theta = centripetal_motion_polar_D2(a_r, r, D_r, a_theta, theta, D_theta)\n",
    "assert((D2_r, D2_theta) == (5, -0.4))"
   ]
  },
  {
   "cell_type": "markdown",
   "id": "57c31019",
   "metadata": {},
   "source": [
    "For comparison, the case of circular motion when $\\frac{d\\rho}{dt} = v_p = 0$, $\\mathbf{v} = \\mathbf{v_\\theta}$, and $v = v_\\theta = \\rho\\frac{d\\theta}{dt}$:\n",
    "\n",
    "$$\n",
    "\\begin{aligned}\n",
    "\\mathbf{a} &= \\mathbf{u}_\\rho \\left[ \n",
    "            - \\rho \\left( \\frac{d\\theta}{dt} \\right)^2 \\right]\n",
    "        + \\mathbf{u}_\\theta \\left[\n",
    "            \\rho \\frac{d^2\\theta}{{dt}^2} \\right] \\\\\n",
    "            &= \\mathbf{u}_\\rho \\left[ \n",
    "            - \\frac{v^2}{r} \\right]\n",
    "        + \\mathbf{u}_\\theta \\left[\n",
    "            \\frac{dv}{dt} \\right]\n",
    "\\end{aligned}\n",
    "$$"
   ]
  },
  {
   "cell_type": "markdown",
   "id": "1f106845",
   "metadata": {},
   "source": [
    "## Pendulum system equations\n",
    "\n",
    "Deriving the differential equation\n",
    "\n",
    "Using Newton's second law ($\\mathbf{F} = m \\mathbf{a})$)\n",
    "\n",
    "$$\\mathbf{N} + \\mathbf{G_p} = m_p \\mathbf{a}$$\n",
    "\n",
    "where $\\mathbf{N} = N_x \\mathbf{u}_x + N_y \\mathbf{u}_y$ is the force on the pendulum arm due to pivot, and $\\mathbf{G_p} = -m_p g \\mathbf{u}_y$ is the downwards force on the mass due to gravity."
   ]
  },
  {
   "cell_type": "markdown",
   "id": "e3e29079",
   "metadata": {},
   "source": [
    "$$\\mathbf{N} - m_p g \\mathbf{u}_y = m_p \\mathbf{a}$$"
   ]
  },
  {
   "cell_type": "markdown",
   "id": "460d5521",
   "metadata": {},
   "source": [
    "Equation from above is in the polar frame of reference:\n",
    "\n",
    "$$\n",
    "\\begin{aligned}\n",
    "\\mathbf{a} &= \\mathbf{u}_\\rho \\left[ \n",
    "            \\frac{d^2\\rho}{{dt}^2}\n",
    "            - \\rho \\left(\\frac{d\\theta}{dt}\\right)^2 \\right]\n",
    "        + \\mathbf{u}_\\theta \\left[\n",
    "            2 \\frac{d\\rho}{dt} \\frac{d\\theta}{dt} \n",
    "            + \\rho \\frac{d^2\\theta}{{dt}^2} \\right] \\\\\n",
    "            &= a_\\rho \\mathbf{u}_\\rho\n",
    "        + a_\\theta \\mathbf{u}_\\theta\n",
    "\\end{aligned}\n",
    "$$\n",
    "\n",
    "Translate it into cartesian co-ordinates."
   ]
  },
  {
   "cell_type": "markdown",
   "id": "e8e1c5ca",
   "metadata": {},
   "source": [
    "From the definition of the co-ordinate systems above,\n",
    "\n",
    "$$\n",
    "\\begin{aligned}\n",
    "\\mathbf{u}_\\rho &= \\mathbf{u}_x \\cos(\\theta) + \\mathbf{u}_y \\sin(\\theta) \\\\\n",
    "\\mathbf{u}_\\theta &= -\\mathbf{u}_x \\sin(\\theta) + \\mathbf{u}_y \\cos(\\theta)\n",
    "\\end{aligned}\n",
    "$$"
   ]
  },
  {
   "cell_type": "code",
   "execution_count": 9,
   "id": "6fbcf1df",
   "metadata": {},
   "outputs": [],
   "source": [
    "def xy_vector_to_polar(theta, v_x, v_y):\n",
    "    h = np.cos(theta) ** 2 + np.sin(theta) ** 2\n",
    "    v_L = (v_x * np.cos(theta) + v_y * np.sin(theta)) / h\n",
    "    v_theta = (v_y * np.cos(theta) - v_x * np.sin(theta)) / h\n",
    "    return [v_L, v_theta]\n",
    "\n",
    "assert(xy_vector_to_polar(0, 0, 0) == [0, 0])\n",
    "assert(xy_vector_to_polar(0, 1, 0) == [1, 0])\n",
    "assert(xy_vector_to_polar(0, 0, 2) == [0, 2])\n",
    "assert(np.all(np.isclose(xy_vector_to_polar(0.25*np.pi, 2, 0), [np.sqrt(2), -np.sqrt(2)])))\n",
    "assert(np.all(np.isclose(xy_vector_to_polar(0.5*np.pi, 4, 3), [3, -4])))\n",
    "assert(np.all(np.isclose(xy_vector_to_polar(1.5*np.pi, 2, 0), [0, 2])))\n",
    "\n",
    "def polar_vector_to_xy(theta, v_L, v_theta):\n",
    "    v_x = v_L * np.cos(theta) - v_theta * np.sin(theta)\n",
    "    v_y = v_L * np.sin(theta) + v_theta * np.cos(theta)\n",
    "    return [v_x, v_y]\n",
    "\n",
    "assert(polar_vector_to_xy(0, 0, 0) == [0, 0])\n",
    "assert(polar_vector_to_xy(0, 1, 0) == [1, 0])\n",
    "assert(polar_vector_to_xy(0, 0, 2) == [0, 2])\n",
    "assert(np.all(np.isclose(polar_vector_to_xy(0.25*np.pi, 2, 0), [np.sqrt(2), np.sqrt(2)])))\n",
    "assert(np.all(np.isclose(polar_vector_to_xy(0.5*np.pi, 4, 3), [-3, 4])))\n",
    "assert(np.all(np.isclose(polar_vector_to_xy(1.5*np.pi, 2, 0), [0, -2])))\n",
    "\n",
    "# Check round trip\n",
    "v1, v2 = np.random.randn(2)\n",
    "theta = np.random.random() * 2 * np.pi\n",
    "v_x, v_y = polar_vector_to_xy(theta, v1, v2)\n",
    "assert(np.all(np.isclose(xy_vector_to_polar(theta, v_x, v_y), [v1, v2])))\n",
    "v_L, v_theta = xy_vector_to_polar(theta, v1, v2)\n",
    "assert(np.all(np.isclose(polar_vector_to_xy(theta, v_L, v_theta), [v1, v2])))"
   ]
  },
  {
   "cell_type": "markdown",
   "id": "2a8128e8",
   "metadata": {},
   "source": [
    "Therefore we can write\n",
    "\n",
    "$$\n",
    "\\mathbf{a} = \n",
    "    \\left( \\mathbf{u}_x \\cos(\\theta) + \\mathbf{u}_y \\sin(\\theta) \\right) \n",
    "             \\left[ \\frac{d^2\\rho}{{dt}^2}\n",
    "                - \\rho \\left(\\frac{d\\theta}{dt}\\right)^2 \\right]\n",
    "    + \\left( -\\mathbf{u}_x \\sin(\\theta) + \\mathbf{u}_y \\cos(\\theta) \\right)\n",
    "             \\left[ 2 \\frac{d\\rho}{dt} \\frac{d\\theta}{dt} \n",
    "                + \\rho \\frac{d^2\\theta}{{dt}^2} \\right]\n",
    "$$"
   ]
  },
  {
   "cell_type": "markdown",
   "id": "d658e0ca",
   "metadata": {},
   "source": [
    "Decomposing into x and y directions,\n",
    "\n",
    "$$\n",
    "\\begin{aligned}\n",
    "a_x &= \n",
    "    \\cos(\\theta) \n",
    "             \\left[ \\frac{d^2\\rho}{{dt}^2}\n",
    "                - \\rho \\left(\\frac{d\\theta}{dt}\\right)^2 \\right]\n",
    "    - \\sin(\\theta)\n",
    "             \\left[ 2 \\frac{d\\rho}{dt} \\frac{d\\theta}{dt} \n",
    "                + \\rho \\frac{d^2\\theta}{{dt}^2} \\right] \\\\\n",
    "a_y &= \n",
    "    \\sin(\\theta) \n",
    "             \\left[ \\frac{d^2\\rho}{{dt}^2}\n",
    "                - \\rho \\left(\\frac{d\\theta}{dt}\\right)^2 \\right]\n",
    "    + \\cos(\\theta)\n",
    "             \\left[ 2 \\frac{d\\rho}{dt} \\frac{d\\theta}{dt} \n",
    "                + \\rho \\frac{d^2\\theta}{{dt}^2} \\right]\n",
    "\\end{aligned}\n",
    "$$"
   ]
  },
  {
   "cell_type": "markdown",
   "id": "582dd13b",
   "metadata": {},
   "source": [
    "or\n",
    "\n",
    "$$\n",
    "\\begin{aligned}\n",
    "a_x &= a_\\rho \\cos(\\theta)\n",
    "        - a_\\theta \\sin(\\theta) \\\\\n",
    "a_y &= a_\\rho \\sin(\\theta) \n",
    "        + a_\\theta \\cos(\\theta)\n",
    "\\end{aligned}\n",
    "$$\n",
    "\n",
    "where\n",
    "\n",
    "$$\n",
    "a_\\rho = \\frac{d^2\\rho}{{dt}^2}\n",
    "                - \\rho \\left(\\frac{d\\theta}{dt}\\right)^2 \\\\\n",
    "a_\\theta = 2 \\frac{d\\rho}{dt} \\frac{d\\theta}{dt} \n",
    "                + \\rho \\frac{d^2\\theta}{{dt}^2}   \n",
    "$$"
   ]
  },
  {
   "cell_type": "code",
   "execution_count": 10,
   "id": "e6fd033c",
   "metadata": {},
   "outputs": [],
   "source": [
    "def acceleration_components_polar(L, D_L, D2_L, theta, D_theta, \n",
    "                                  D2_theta):\n",
    "    \"\"\"Calculates radial and tangential acceleration \n",
    "    components needed to move a mass in the given \n",
    "    position (in polar co-ordinates), with given \n",
    "    radial and angular velocities, and accelerations.\n",
    "    \"\"\"\n",
    "    a_L = D2_L - L * (D_theta) ** 2\n",
    "    a_theta = 2 * D_L * D_theta + L * D2_theta\n",
    "    return a_L, a_theta"
   ]
  },
  {
   "cell_type": "markdown",
   "id": "bce84f9f",
   "metadata": {},
   "source": [
    "### Free (unforced) pendulum with fixed length\n",
    "\n",
    "Substituting these equations into the $(\\mathbf{F} = m \\mathbf{a})$ equation above and assuming $\\mathbf{N}=0$, \n",
    "\n",
    "$$- m_p g \\mathbf{u}_y = m_p \\mathbf{a}$$\n",
    "\n",
    "Therefore\n",
    "\n",
    "$$\n",
    "\\begin{aligned}\n",
    "0 &= a_\\rho \\cos(\\theta)\n",
    "        - a_\\theta \\sin(\\theta) \\\\\n",
    "-g &= a_\\rho \\sin(\\theta) \n",
    "        + a_\\theta \\cos(\\theta)\n",
    "\\end{aligned}\n",
    "$$"
   ]
  },
  {
   "cell_type": "markdown",
   "id": "975f78cc",
   "metadata": {},
   "source": [
    "Substituting $a_\\rho$ and $a_\\theta$ with expressions above\n",
    "\n",
    "$$\n",
    "\\begin{aligned}\n",
    "0 &= \\left( \\frac{d^2\\rho}{{dt}^2}\n",
    "                - \\rho \\left(\\frac{d\\theta}{dt}\\right)^2 \\right) \\cos(\\theta)\n",
    "        - \\left( 2 \\frac{d\\rho}{dt} \\frac{d\\theta}{dt} \n",
    "                + \\rho \\frac{d^2\\theta}{{dt}^2} \\right) \\sin(\\theta) \\\\\n",
    "-g &= \\left( \\frac{d^2\\rho}{{dt}^2}\n",
    "                - \\rho \\left(\\frac{d\\theta}{dt}\\right)^2 \\right) \\sin(\\theta) \n",
    "        + \\left( 2 \\frac{d\\rho}{dt} \\frac{d\\theta}{dt} \n",
    "                + \\rho \\frac{d^2\\theta}{{dt}^2} \\right) \\cos(\\theta)\n",
    "\\end{aligned}\n",
    "$$"
   ]
  },
  {
   "cell_type": "code",
   "execution_count": 11,
   "id": "669ee6e2",
   "metadata": {},
   "outputs": [],
   "source": [
    "# Free (unforced) pendulum with fixed length\n",
    "\n",
    "# For reasons that may later become clear, I am \n",
    "# adopting the x-y co-ordinate system for the state \n",
    "# representation:\n",
    "#\n",
    "# y[0] : x position of pendulum mass\n",
    "# y[1] : dx/dt\n",
    "# y[2] : y position of pendulum mass\n",
    "# y[3] : dy/dt\n",
    "#\n",
    "\n",
    "def free_pendulum_fixed_length(t, y, params):\n",
    "    \"\"\"\n",
    "    y[0] : x position of pendulum mass\n",
    "    y[1] : dx/dt\n",
    "    y[2] : y position of pendulum mass\n",
    "    y[3] : dy/dt\n",
    "    \"\"\"\n",
    "    g = params[\"g\"]\n",
    "\n",
    "    # Current states\n",
    "    x, D_x, y, D_y = y\n",
    "\n",
    "    # Convert position to polar co-ordinates\n",
    "    [L, theta] = xy_to_polar(x, y)\n",
    "\n",
    "    # Convert velocities to polar co-ordinates\n",
    "    D_L, v_theta = xy_vector_to_polar(theta, D_x, D_y)\n",
    "\n",
    "    # Convert tangential velocity to angular velocity\n",
    "    D_theta = v_theta / L\n",
    "\n",
    "    # Tangential component of acceleration due to gravity:\n",
    "    D2_theta = -g * np.cos(theta) / L\n",
    "\n",
    "    # Fix length of pendulum\n",
    "    D2_L = 0\n",
    "\n",
    "    a_r, a_theta = acceleration_components_polar(\n",
    "        L, D_L, D2_L, theta, D_theta, D2_theta\n",
    "    )\n",
    "\n",
    "    # Convert back to xy co-ordinates\n",
    "    D2_x, D2_y = polar_vector_to_xy(theta, a_r, a_theta)\n",
    "\n",
    "    return [D_x, D2_x, D_y, D2_y]"
   ]
  },
  {
   "cell_type": "code",
   "execution_count": 12,
   "id": "fde158d1",
   "metadata": {},
   "outputs": [
    {
     "name": "stdout",
     "output_type": "stream",
     "text": [
      "[0, -4.905, 0, -4.905000000000001]\n",
      "  message: The solver successfully reached the end of the integration interval.\n",
      "  success: True\n",
      "   status: 0\n",
      "        t: [ 0.000e+00  5.000e-02 ...  4.950e+00  5.000e+00]\n",
      "        y: [[ 3.536e+00  3.529e+00 ...  3.336e+00  3.258e+00]\n",
      "            [ 0.000e+00 -2.455e-01 ... -1.433e+00 -1.705e+00]\n",
      "            [-3.536e+00 -3.542e+00 ... -3.741e+00 -3.810e+00]\n",
      "            [ 0.000e+00 -2.447e-01 ... -1.287e+00 -1.467e+00]]\n",
      "      sol: None\n",
      " t_events: None\n",
      " y_events: None\n",
      "     nfev: 92\n",
      "     njev: 0\n",
      "      nlu: 0\n"
     ]
    }
   ],
   "source": [
    "params = {\n",
    "    \"L\": 5,  # length of cable\n",
    "    \"g\": 9.81  # acceleration due to gravity\n",
    "}\n",
    "\n",
    "x0, y0 = polar_to_xy(params[\"L\"], np.radians(-45))\n",
    "vx0, vy0 = 0, 0\n",
    "y0 = [x0, vx0, y0, vy0]\n",
    "y = y0\n",
    "t = 0\n",
    "\n",
    "# Choose ODE function\n",
    "fun = free_pendulum_fixed_length\n",
    "dy = fun(t, y, params)\n",
    "print(dy)\n",
    "\n",
    "# Simulation parameters\n",
    "t_stop = 5\n",
    "t_step = 0.05\n",
    "t_eval = np.arange(0, t_stop + t_step, t_step)\n",
    "t_span = [0, t_stop]\n",
    "\n",
    "sol = solve_ivp(fun, t_span, y0, t_eval=t_eval, args=(params, ))\n",
    "print(sol)\n",
    "assert(sol.status == 0)"
   ]
  },
  {
   "cell_type": "code",
   "execution_count": 13,
   "id": "f101295c",
   "metadata": {},
   "outputs": [
    {
     "data": {
      "image/png": "[encoded data removed]",
      "text/plain": [
       "<Figure size 640x480 with 1 Axes>"
      ]
     },
     "metadata": {},
     "output_type": "display_data"
    }
   ],
   "source": [
    "# Function to plot trajectory\n",
    "def plot_pendulum_trajectory(sol, params, labels=True):\n",
    "\n",
    "    x, vx, y, vy = sol.y\n",
    "    t = sol.t\n",
    "    nT = len(t)\n",
    "    selected_points = np.arange(0, nT, step=(nT - 1) // 10)\n",
    "    r_p = params.get('r_p', 0.25)\n",
    "    \n",
    "    ax = plt.gca()\n",
    "\n",
    "    circ = plt.Circle((0, 0), params['L'], facecolor='none', edgecolor='grey')\n",
    "    ax.add_patch(circ)\n",
    "\n",
    "    load = plt.Circle((y0[0], y0[2]), r_p, color='r')\n",
    "    ax.add_patch(load)\n",
    "\n",
    "    ax.plot(x, y)\n",
    "    ax.plot([0, y0[0]], [0, y0[2]], '-ro')\n",
    "    ax.plot(x[selected_points], y[selected_points], 'ko')\n",
    "    if labels:\n",
    "        for p in selected_points:\n",
    "            ax.annotate(f\"{t[p]:.1f}\", (x[p] - 0.25, y[p] - 0.4))\n",
    "    ax.set_xlim([-5.5, 5.5])\n",
    "    ax.set_ylim([-6, 0.5])\n",
    "    ax.set_xlabel(\"x\")\n",
    "    ax.set_ylabel(\"y\")\n",
    "    ax.set_aspect('equal')\n",
    "    ax.grid()\n",
    "\n",
    "plot_pendulum_trajectory(sol, params)\n",
    "plt.show()"
   ]
  },
  {
   "cell_type": "markdown",
   "id": "9a71deb1",
   "metadata": {},
   "source": [
    "## Add aerodynamic drag"
   ]
  },
  {
   "cell_type": "code",
   "execution_count": 14,
   "id": "505b4d19",
   "metadata": {},
   "outputs": [],
   "source": [
    "def free_pendulum_with_drag(t, y, params):\n",
    "    \"\"\"\n",
    "    y[0] : x position of pendulum mass\n",
    "    y[1] : dx/dt\n",
    "    y[2] : y position of pendulum mass\n",
    "    y[3] : dy/dt\n",
    "    \"\"\"\n",
    "    g = params[\"g\"]\n",
    "    rho_cd_A = params[\"rho_cd_A\"]\n",
    "    L = params[\"L\"]\n",
    "    m_p = params[\"m_p\"]\n",
    "\n",
    "    # Current states\n",
    "    x, D_x, y, D_y = y\n",
    "\n",
    "    # Convert position to polar co-ordinates\n",
    "    [L, theta] = xy_to_polar(x, y)\n",
    "\n",
    "    # Convert velocities to polar co-ordinates\n",
    "    D_L, v_theta = xy_vector_to_polar(theta, D_x, D_y)\n",
    "\n",
    "    # Convert tangential velocity to angular velocity\n",
    "    D_theta = v_theta / L\n",
    "\n",
    "    # Force due to aerodynamic drag\n",
    "    #F_d = 0.5 * rho_cd_A * (D_r ** 2 + v_theta ** 2)\n",
    "\n",
    "    # Tangential component of drag force\n",
    "    F_dtheta = 0.5 * rho_cd_A * v_theta ** 2\n",
    "\n",
    "    # Radial component of drag force\n",
    "    #F_dr = 0.5 * rho_cd_A * D_r ** 2\n",
    "\n",
    "    # Tangential component of acceleration due to forces applied:\n",
    "    #  - gravity\n",
    "    #  - aerodynamic drag\n",
    "    a_theta = -g * np.cos(theta) - np.sign(D_theta) * F_dtheta / m_p\n",
    "\n",
    "    # Fix length of pendulum\n",
    "    D2_L = 0\n",
    "\n",
    "    # Compute radial and tangential acceleration of pendulum mass\n",
    "    a_L, a_theta = acceleration_components_polar(L, D_L, D2_L, theta, D_theta, a_theta / L)\n",
    "\n",
    "    # Convert back to xy co-ordinates\n",
    "    D2_x, D2_y = polar_vector_to_xy(theta, a_L, a_theta)\n",
    "\n",
    "    return [D_x, D2_x, D_y, D2_y]"
   ]
  },
  {
   "cell_type": "code",
   "execution_count": 15,
   "id": "796cbe37",
   "metadata": {},
   "outputs": [
    {
     "name": "stdout",
     "output_type": "stream",
     "text": [
      "[0, -4.905, 0, -4.905000000000001]\n",
      "  message: The solver successfully reached the end of the integration interval.\n",
      "  success: True\n",
      "   status: 0\n",
      "        t: [ 0.000e+00  5.000e-02 ...  4.950e+00  5.000e+00]\n",
      "        y: [[ 3.536e+00  3.529e+00 ...  1.888e-01  2.066e-01]\n",
      "            [ 0.000e+00 -2.442e-01 ...  3.698e-01  3.444e-01]\n",
      "            [-3.536e+00 -3.542e+00 ... -5.023e+00 -5.022e+00]\n",
      "            [ 0.000e+00 -2.434e-01 ...  7.204e-03  7.474e-03]]\n",
      "      sol: None\n",
      " t_events: None\n",
      " y_events: None\n",
      "     nfev: 92\n",
      "     njev: 0\n",
      "      nlu: 0\n"
     ]
    }
   ],
   "source": [
    "params = {\n",
    "    \"L\": 5,  # length of cable\n",
    "    \"m_p\": 1,  # mass of load\n",
    "    \"g\": 9.81,  # acceleration due to gravity\n",
    "    \"r_p\": 1  # radius of load\n",
    "}\n",
    "params[\"rho_cd_A\"] = 1.293 * 0.47 * np.pi * params[\"r_p\"] ** 2\n",
    "\n",
    "x0, y0 = polar_to_xy(params[\"L\"], np.radians(-45))\n",
    "vx0, vy0 = 0, 0\n",
    "y0 = [x0, vx0, y0, vy0]\n",
    "y = y0\n",
    "t = 0\n",
    "\n",
    "# Choose ODE function\n",
    "fun = free_pendulum_with_drag\n",
    "dy = fun(t, y, params)\n",
    "print(dy)\n",
    "\n",
    "# Simulation parameters\n",
    "t_stop = 5\n",
    "t_step = 0.05\n",
    "t_eval = np.arange(0, t_stop + t_step, t_step)\n",
    "t_span = [0, t_stop]\n",
    "\n",
    "sol = solve_ivp(fun, t_span, y0, t_eval=t_eval, args=(params, ))\n",
    "print(sol)\n",
    "assert(sol.status == 0)"
   ]
  },
  {
   "cell_type": "code",
   "execution_count": 16,
   "id": "fce59391",
   "metadata": {},
   "outputs": [
    {
     "data": {
      "image/png": "[encoded data removed]",
      "text/plain": [
       "<Figure size 640x480 with 1 Axes>"
      ]
     },
     "metadata": {},
     "output_type": "display_data"
    }
   ],
   "source": [
    "plot_pendulum_trajectory(sol, params)\n",
    "plt.show()"
   ]
  },
  {
   "cell_type": "markdown",
   "id": "3da5ebe0",
   "metadata": {},
   "source": [
    "## Free pendulum with spring arm"
   ]
  },
  {
   "cell_type": "code",
   "execution_count": 17,
   "id": "4c6b0efc",
   "metadata": {},
   "outputs": [],
   "source": [
    "def free_pendulum_with_spring(t, y, params):\n",
    "    \"\"\"\n",
    "    y[0] : x position of pendulum mass\n",
    "    y[1] : dx/dt\n",
    "    y[2] : y position of pendulum mass\n",
    "    y[3] : dy/dt\n",
    "    \"\"\"\n",
    "    g = params[\"g\"]\n",
    "    rho_cd_A = params[\"rho_cd_A\"]\n",
    "    L = params[\"L\"]\n",
    "    m_p = params[\"m_p\"]\n",
    "    k_p = params[\"k_p\"]\n",
    "\n",
    "    # Current states\n",
    "    x, D_x, y, D_y = y\n",
    "\n",
    "    # Convert position to polar co-ordinates\n",
    "    [r, theta] = xy_to_polar(x, y)\n",
    "\n",
    "    # Convert velocity to polar co-ordinates\n",
    "    D_r, v_theta = xy_vector_to_polar(theta, D_x, D_y)\n",
    "\n",
    "    # Convert tangential velocity to angular velocity\n",
    "    D_theta = v_theta / r\n",
    "\n",
    "    # Calculate tension in spring (+ve = tension)\n",
    "    T = k_p * (r - L)\n",
    "\n",
    "    # Force due to aerodynamic drag\n",
    "    #F_d = 0.5 * rho_cd_A * (D_r ** 2 + v_theta ** 2)\n",
    "\n",
    "    # Tangential component of drag force\n",
    "    #F_dtheta = 0.5 * rho_cd_A * v_theta ** 2\n",
    "\n",
    "    # Radial component of drag force\n",
    "    #F_dr = 0.5 * rho_cd_A * D_r ** 2\n",
    "\n",
    "    # Radial component of acceleration due to forces applied:\n",
    "    #  - gravity\n",
    "    #  - spring tension\n",
    "    a_r = -g * np.sin(theta) - T / m_p\n",
    "\n",
    "    # Tangential component of acceleration due to forces applied:\n",
    "    #  - gravity\n",
    "    a_theta = -g * np.cos(theta)\n",
    "\n",
    "    D2_r, D2_theta = centripetal_motion_polar_D2(a_r, r, D_r, a_theta, theta, D_theta)\n",
    "\n",
    "    # Convert back to xy co-ordinates\n",
    "    D2_x, D2_y = polar_vector_to_xy(theta, D2_r, D2_theta * r)\n",
    "\n",
    "    return [D_x, D2_x, D_y, D2_y]"
   ]
  },
  {
   "cell_type": "code",
   "execution_count": 18,
   "id": "5e063f83",
   "metadata": {},
   "outputs": [
    {
     "name": "stdout",
     "output_type": "stream",
     "text": [
      "[0, 0.0, 0, -9.81]\n",
      "  message: The solver successfully reached the end of the integration interval.\n",
      "  success: True\n",
      "   status: 0\n",
      "        t: [ 0.000e+00  5.000e-02 ...  4.950e+00  5.000e+00]\n",
      "        y: [[ 3.536e+00  3.535e+00 ...  3.530e+00  3.535e+00]\n",
      "            [ 0.000e+00 -4.235e-03 ...  1.057e-01  1.052e-01]\n",
      "            [-3.536e+00 -3.548e+00 ... -3.550e+00 -3.535e+00]\n",
      "            [ 0.000e+00 -4.851e-01 ...  5.455e-01  5.693e-02]]\n",
      "      sol: None\n",
      " t_events: None\n",
      " y_events: None\n",
      "     nfev: 266\n",
      "     njev: 0\n",
      "      nlu: 0\n"
     ]
    }
   ],
   "source": [
    "params = {\n",
    "    \"L\": 5,  # length of cable\n",
    "    \"m_p\": 1,  # mass of load\n",
    "    \"g\": 9.81,  # acceleration due to gravity\n",
    "    \"r_p\": 0.5,  # radius of load\n",
    "    \"k_p\": 50  # spring constant of cable\n",
    "}\n",
    "params[\"rho_cd_A\"] = 1.293 * 0.47 * np.pi * params[\"r_p\"] ** 2\n",
    "\n",
    "x0, y0 = polar_to_xy(params[\"L\"], np.radians(-45))\n",
    "vx0, vy0 = 0, 0\n",
    "y0 = [x0, vx0, y0, vy0]\n",
    "y = y0\n",
    "t = 0\n",
    "\n",
    "# Choose ODE function\n",
    "fun = free_pendulum_with_spring\n",
    "dy = fun(t, y, params)\n",
    "print(dy)\n",
    "\n",
    "# Simulation parameters\n",
    "t_stop = 5\n",
    "t_step = 0.05\n",
    "t_eval = np.arange(0, t_stop + t_step, t_step)\n",
    "t_span = [0, t_stop]\n",
    "\n",
    "sol = solve_ivp(fun, t_span, y0, t_eval=t_eval, args=(params, ))\n",
    "print(sol)\n",
    "assert(sol.status == 0)"
   ]
  },
  {
   "cell_type": "code",
   "execution_count": 19,
   "id": "bd1486c5",
   "metadata": {},
   "outputs": [
    {
     "data": {
      "image/png": "[encoded data removed]",
      "text/plain": [
       "<Figure size 640x480 with 1 Axes>"
      ]
     },
     "metadata": {},
     "output_type": "display_data"
    }
   ],
   "source": [
    "plot_pendulum_trajectory(sol, params)\n",
    "plt.show()"
   ]
  },
  {
   "cell_type": "markdown",
   "id": "02bf1885",
   "metadata": {},
   "source": [
    "## Free pendulum with spring arm and aerodynamic drag"
   ]
  },
  {
   "cell_type": "code",
   "execution_count": 20,
   "id": "077c41bf",
   "metadata": {},
   "outputs": [],
   "source": [
    "def free_pendulum_with_spring_and_drag(t, y, params):\n",
    "    \"\"\"\n",
    "    y[0] : x position of pendulum mass\n",
    "    y[1] : dx/dt\n",
    "    y[2] : y position of pendulum mass\n",
    "    y[3] : dy/dt\n",
    "    \"\"\"\n",
    "    g = params[\"g\"]\n",
    "    rho_cd_A = params[\"rho_cd_A\"]\n",
    "    L = params[\"L\"]\n",
    "    m_p = params[\"m_p\"]\n",
    "    k_p = params[\"k_p\"]\n",
    "\n",
    "    # Current states\n",
    "    x, D_x, y, D_y = y\n",
    "\n",
    "    # Convert position to polar co-ordinates\n",
    "    [r, theta] = xy_to_polar(x, y)\n",
    "\n",
    "    # Convert velocity to polar co-ordinates\n",
    "    D_r, v_theta = xy_vector_to_polar(theta, D_x, D_y)\n",
    "\n",
    "    # Convert tangential velocity to angular velocity\n",
    "    D_theta = v_theta / r\n",
    "\n",
    "    # Calculate tension in spring (+ve = tension)\n",
    "    T = k_p * (r - L)\n",
    "\n",
    "    # Force due to aerodynamic drag\n",
    "    #F_d = 0.5 * rho_cd_A * (D_r ** 2 + v_theta ** 2)\n",
    "\n",
    "    # Tangential component of drag force\n",
    "    F_dtheta = 0.5 * rho_cd_A * v_theta ** 2\n",
    "\n",
    "    # Radial component of drag force\n",
    "    F_dr = 0.5 * rho_cd_A * D_r ** 2\n",
    "\n",
    "    # Radial component of acceleration due to forces applied:\n",
    "    #  - gravity\n",
    "    #  - spring tension\n",
    "    #  - aerodynamic drag\n",
    "    a_r = -g * np.sin(theta) - T / m_p - np.sign(D_r) * F_dr / m_p\n",
    "\n",
    "    # Tangential component of acceleration due to forces applied:\n",
    "    #  - gravity\n",
    "    #  - aerodynamic drag\n",
    "    a_theta = -g * np.cos(theta) - np.sign(D_theta) * F_dtheta / m_p\n",
    "\n",
    "    # Compute second derivatives of radius and angle\n",
    "    D2_r, D2_theta = centripetal_motion_polar_D2(a_r, r, D_r, a_theta, theta, D_theta)\n",
    "\n",
    "    # Convert back to xy co-ordinates\n",
    "    D2_x, D2_y = polar_vector_to_xy(theta, D2_r, D2_theta * r)\n",
    "\n",
    "    return [D_x, D2_x, D_y, D2_y]"
   ]
  },
  {
   "cell_type": "code",
   "execution_count": 21,
   "id": "91e4942a",
   "metadata": {},
   "outputs": [
    {
     "name": "stdout",
     "output_type": "stream",
     "text": [
      "[0, 0.0, 0, -9.81]\n",
      "  message: The solver successfully reached the end of the integration interval.\n",
      "  success: True\n",
      "   status: 0\n",
      "        t: [ 0.000e+00  5.000e-02 ...  4.950e+00  5.000e+00]\n",
      "        y: [[ 3.536e+00  3.535e+00 ...  1.104e+00  1.092e+00]\n",
      "            [ 0.000e+00 -4.228e-03 ... -1.675e-01 -2.771e-01]\n",
      "            [-3.536e+00 -3.548e+00 ... -5.101e+00 -5.078e+00]\n",
      "            [ 0.000e+00 -4.845e-01 ...  4.480e-01  4.606e-01]]\n",
      "      sol: None\n",
      " t_events: None\n",
      " y_events: None\n",
      "     nfev: 284\n",
      "     njev: 0\n",
      "      nlu: 0\n"
     ]
    }
   ],
   "source": [
    "params = {\n",
    "    \"L\": 5,  # length of cable\n",
    "    \"m_p\": 1,  # mass of load\n",
    "    \"g\": 9.81,  # acceleration due to gravity\n",
    "    \"r_p\": 0.5,  # radius of load\n",
    "    \"k_p\": 50  # spring constant of cable\n",
    "}\n",
    "params[\"rho_cd_A\"] = 1.293 * 0.47 * np.pi * params[\"r_p\"] ** 2\n",
    "\n",
    "x0, y0 = polar_to_xy(params[\"L\"], np.radians(-45))\n",
    "vx0, vy0 = 0, 0\n",
    "y0 = [x0, vx0, y0, vy0]\n",
    "y = y0\n",
    "t = 0\n",
    "\n",
    "# Choose ODE function\n",
    "fun = free_pendulum_with_spring_and_drag\n",
    "dy = fun(t, y, params)\n",
    "print(dy)\n",
    "\n",
    "# Simulation parameters\n",
    "t_stop = 5\n",
    "t_step = 0.05\n",
    "t_eval = np.arange(0, t_stop + t_step, t_step)\n",
    "t_span = [0, t_stop]\n",
    "\n",
    "sol = solve_ivp(fun, t_span, y0, t_eval=t_eval, args=(params, ))\n",
    "print(sol)\n",
    "assert sol.status == 0, sol.message"
   ]
  },
  {
   "cell_type": "code",
   "execution_count": 22,
   "id": "7342ac33",
   "metadata": {},
   "outputs": [
    {
     "data": {
      "image/png": "[encoded data removed]",
      "text/plain": [
       "<Figure size 640x480 with 1 Axes>"
      ]
     },
     "metadata": {},
     "output_type": "display_data"
    }
   ],
   "source": [
    "plot_pendulum_trajectory(sol, params)\n",
    "plt.show()"
   ]
  },
  {
   "cell_type": "markdown",
   "id": "9322fd08",
   "metadata": {},
   "source": [
    "## Free pendulum with damped spring arm and aerodynamic drag"
   ]
  },
  {
   "cell_type": "code",
   "execution_count": 23,
   "id": "21a2d20f",
   "metadata": {},
   "outputs": [],
   "source": [
    "def free_pendulum_with_damped_spring_and_drag(t, y, params):\n",
    "    \"\"\"\n",
    "    y[0] : x position of pendulum mass\n",
    "    y[1] : dx/dt\n",
    "    y[2] : y position of pendulum mass\n",
    "    y[3] : dy/dt\n",
    "    \"\"\"\n",
    "    g = params[\"g\"]\n",
    "    rho_cd_A = params[\"rho_cd_A\"]\n",
    "    L = params[\"L\"]\n",
    "    m_p = params[\"m_p\"]\n",
    "    k_p = params[\"k_p\"]\n",
    "    zeta = params[\"zeta\"]\n",
    "\n",
    "    # Current states\n",
    "    x, D_x, y, D_y = y\n",
    "\n",
    "    # Convert position to polar co-ordinates\n",
    "    [r, theta] = xy_to_polar(x, y)\n",
    "\n",
    "    # Convert velocity to polar co-ordinates\n",
    "    D_r, v_theta = xy_vector_to_polar(theta, D_x, D_y)\n",
    "\n",
    "    # Convert tangential velocity to angular velocity\n",
    "    D_theta = v_theta / r\n",
    "\n",
    "    # Undamped natural frequency of spring-mass system\n",
    "    omega_n = np.sqrt(k_p / m_p)\n",
    "\n",
    "    # Coefficient for damping term\n",
    "    c = 2 * m_p * omega_n * zeta\n",
    "\n",
    "    # Tension in cable (+ve = tension)\n",
    "    T = k_p * (r - L) + c * D_r\n",
    "\n",
    "    # Force due to aerodynamic drag\n",
    "    #F_d = 0.5 * rho_cd_A * (D_r ** 2 + v_theta ** 2)\n",
    "\n",
    "    # Tangential component of drag force\n",
    "    F_dtheta = 0.5 * rho_cd_A * v_theta ** 2\n",
    "\n",
    "    # Radial component of drag force\n",
    "    F_dr = 0.5 * rho_cd_A * D_r ** 2\n",
    "\n",
    "    # Radial component of acceleration due to forces applied:\n",
    "    #  - gravity\n",
    "    #  - spring tension\n",
    "    #  - aerodynamic drag\n",
    "    a_r = -g * np.sin(theta) - T / m_p - np.sign(D_r) * F_dr / m_p\n",
    "\n",
    "    # Tangential component of acceleration due to forces applied:\n",
    "    #  - gravity\n",
    "    #  - aerodynamic drag\n",
    "    a_theta = -g * np.cos(theta) - np.sign(D_theta) * F_dtheta / m_p\n",
    "\n",
    "    # Compute second derivatives of radius and angle\n",
    "    D2_r, D2_theta = centripetal_motion_polar_D2(a_r, r, D_r, a_theta, theta, D_theta)\n",
    "\n",
    "    # Convert back to xy co-ordinates\n",
    "    D2_x, D2_y = polar_vector_to_xy(theta, D2_r, D2_theta * r)\n",
    "\n",
    "    return [D_x, D2_x, D_y, D2_y]"
   ]
  },
  {
   "cell_type": "code",
   "execution_count": 24,
   "id": "c14cb1d9",
   "metadata": {},
   "outputs": [
    {
     "name": "stdout",
     "output_type": "stream",
     "text": [
      "[0, 0.0, 0, -9.81]\n",
      "  message: The solver successfully reached the end of the integration interval.\n",
      "  success: True\n",
      "   status: 0\n",
      "        t: [ 0.000e+00  5.000e-02 ...  4.950e+00  5.000e+00]\n",
      "        y: [[ 3.536e+00  3.535e+00 ...  1.088e+00  1.084e+00]\n",
      "            [ 0.000e+00 -2.043e-02 ... -3.457e-02 -1.340e-01]\n",
      "            [-3.536e+00 -3.547e+00 ... -5.075e+00 -5.076e+00]\n",
      "            [ 0.000e+00 -4.683e-01 ... -3.249e-03 -2.889e-02]]\n",
      "      sol: None\n",
      " t_events: None\n",
      " y_events: None\n",
      "     nfev: 236\n",
      "     njev: 0\n",
      "      nlu: 0\n"
     ]
    }
   ],
   "source": [
    "params = {\n",
    "    \"L\": 5,  # length of cable\n",
    "    \"m_p\": 1,  # mass of load\n",
    "    \"g\": 9.81,  # acceleration due to gravity\n",
    "    \"r_p\": 0.5,  # radius of load\n",
    "    \"k_p\": 50,  # spring constant of cable\n",
    "    \"zeta\": 0.2  # damping ratio\n",
    "}\n",
    "params[\"rho_cd_A\"] = 1.293 * 0.47 * np.pi * params[\"r_p\"] ** 2\n",
    "\n",
    "# Define initial condition\n",
    "x0, y0 = polar_to_xy(params[\"L\"], np.radians(-45))\n",
    "vx0, vy0 = 0, 0\n",
    "y0 = [x0, vx0, y0, vy0]\n",
    "y = y0\n",
    "t = 0\n",
    "\n",
    "# Choose ODE function\n",
    "fun = free_pendulum_with_damped_spring_and_drag\n",
    "dy = fun(t, y, params)\n",
    "print(dy)\n",
    "\n",
    "# Simulation parameters\n",
    "t_stop = 5\n",
    "t_step = 0.05\n",
    "t_eval = np.arange(0, t_stop + t_step, t_step)\n",
    "t_span = [0, t_stop]\n",
    "\n",
    "sol = solve_ivp(fun, t_span, y0, t_eval=t_eval, args=(params, ))\n",
    "print(sol)\n",
    "assert sol.status == 0, sol.message"
   ]
  },
  {
   "cell_type": "code",
   "execution_count": 25,
   "id": "a3878074",
   "metadata": {},
   "outputs": [
    {
     "data": {
      "image/png": "[encoded data removed]",
      "text/plain": [
       "<Figure size 640x480 with 1 Axes>"
      ]
     },
     "metadata": {},
     "output_type": "display_data"
    }
   ],
   "source": [
    "plot_pendulum_trajectory(sol, params)\n",
    "plt.show()"
   ]
  },
  {
   "cell_type": "markdown",
   "id": "a4992905",
   "metadata": {},
   "source": [
    "## Pendulum with forced arm tension"
   ]
  },
  {
   "cell_type": "code",
   "execution_count": 26,
   "id": "067ccf1e",
   "metadata": {},
   "outputs": [],
   "source": [
    "def pendulum_with_forced_arm_tension(t, y, params):\n",
    "    \"\"\"\n",
    "    y[0] : x position of pendulum mass\n",
    "    y[1] : dx/dt\n",
    "    y[2] : y position of pendulum mass\n",
    "    y[3] : dy/dt\n",
    "    \"\"\"\n",
    "    g = params[\"g\"]\n",
    "    rho_cd_A = params[\"rho_cd_A\"]\n",
    "    L = params[\"L\"]\n",
    "    m_p = params[\"m_p\"]\n",
    "    #k_p = params[\"k_p\"]\n",
    "    #zeta = params[\"zeta\"]\n",
    "    \n",
    "    assert rho_cd_A == 0\n",
    "\n",
    "    # Current states\n",
    "    x, D_x, y, D_y = y\n",
    "\n",
    "    # Convert position to polar co-ordinates\n",
    "    [r, theta] = xy_to_polar(x, y)\n",
    "\n",
    "    # Convert velocity to polar co-ordinates\n",
    "    D_r, v_theta = xy_vector_to_polar(theta, D_x, D_y)\n",
    "\n",
    "    # Convert tangential velocity to angular velocity\n",
    "    D_theta = v_theta / r\n",
    "\n",
    "    # Exogenous input - tension in cable (+ve = tension)\n",
    "    if t > 1 and t < 3:\n",
    "        T = 0\n",
    "    else:\n",
    "        T = 0\n",
    "\n",
    "    assert T == 0\n",
    "    # Undamped natural frequency of spring-mass system\n",
    "    #omega_n = np.sqrt(k_p / m_p)\n",
    "\n",
    "    # Coefficient for damping term\n",
    "    #c = 2 * m_p * omega_n * zeta\n",
    "\n",
    "    # Tension in cable (+ve = tension)\n",
    "    #T = k_p * (r - L) + c * D_r\n",
    "\n",
    "    # Force due to aerodynamic drag\n",
    "    #F_d = 0.5 * rho_cd_A * (D_r ** 2 + v_theta ** 2)\n",
    "\n",
    "    # Tangential component of drag force\n",
    "    F_dtheta = 0.5 * rho_cd_A * v_theta ** 2\n",
    "    if F_dtheta != 0:\n",
    "        breakpoint()\n",
    "\n",
    "    # Radial component of drag force\n",
    "    F_dr = 0.5 * rho_cd_A * D_r ** 2\n",
    "    assert F_dr == 0\n",
    "\n",
    "    # Radial component of acceleration due to forces applied:\n",
    "    #  - gravity\n",
    "    #  - cable tension\n",
    "    #  - aerodynamic drag\n",
    "    a_r = -g * np.sin(theta) - T / m_p - np.sign(D_r) * F_dr / m_p\n",
    "\n",
    "    # Tangential component of acceleration due to forces applied:\n",
    "    #  - gravity\n",
    "    #  - aerodynamic drag\n",
    "    a_theta = -g * np.cos(theta) - np.sign(D_theta) * F_dtheta / m_p\n",
    "\n",
    "    # Compute second derivatives of radius and angle\n",
    "    D2_r, D2_theta = centripetal_motion_polar_D2(a_r, r, D_r, a_theta, theta, D_theta)\n",
    "    \n",
    "    # TODO: Something wrong here, not sure translating accelerations back\n",
    "    #       to x-y co-ordinates works (u_rho and u_theta are rotating and accelerating!)\n",
    "\n",
    "    # Convert back to xy co-ordinates\n",
    "    D2_x, D2_y = polar_vector_to_xy(theta, D2_r, D2_theta * r)\n",
    "\n",
    "    return [D_x, D2_x, D_y, D2_y]"
   ]
  },
  {
   "cell_type": "code",
   "execution_count": 27,
   "id": "380de5fa",
   "metadata": {},
   "outputs": [
    {
     "name": "stdout",
     "output_type": "stream",
     "text": [
      "y0: [5.0, 0, 0.0, 0]\n",
      "dy0: [0, 0.0, 0, -9.81]\n",
      "  message: The solver successfully reached the end of the integration interval.\n",
      "  success: True\n",
      "   status: 0\n",
      "        t: [ 0.000e+00  5.000e-02 ...  1.450e+00  1.500e+00]\n",
      "        y: [[ 5.000e+00  5.000e+00 ...  8.408e+00  8.715e+00]\n",
      "            [ 0.000e+00  8.019e-04 ...  6.035e+00  6.250e+00]\n",
      "            [ 0.000e+00 -1.226e-02 ... -8.126e+00 -8.628e+00]\n",
      "            [ 0.000e+00 -4.905e-01 ... -9.864e+00 -1.018e+01]]\n",
      "      sol: None\n",
      " t_events: None\n",
      " y_events: None\n",
      "     nfev: 80\n",
      "     njev: 0\n",
      "      nlu: 0\n"
     ]
    }
   ],
   "source": [
    "params = {\n",
    "    \"L\": 5,  # length of cable\n",
    "    \"m_p\": 1,  # mass of load\n",
    "    \"g\": 9.81,  # acceleration due to gravity\n",
    "    \"r_p\": 0,  # radius of load\n",
    "    \"k_p\": 50,  # spring constant of cable\n",
    "    \"zeta\": 0.2  # damping ratio\n",
    "}\n",
    "params[\"rho_cd_A\"] = 1.293 * 0.47 * np.pi * params[\"r_p\"] ** 2\n",
    "\n",
    "# Define initial condition\n",
    "x0, y0 = polar_to_xy(params[\"L\"], np.radians(0))\n",
    "vx0, vy0 = 0, 0\n",
    "y0 = [x0, vx0, y0, vy0]\n",
    "y = y0\n",
    "t = 0\n",
    "\n",
    "# Choose ODE function\n",
    "fun = pendulum_with_forced_arm_tension\n",
    "dy0 = fun(t, y, params)\n",
    "print(f\"y0: {y0}\\ndy0: {dy0}\")\n",
    "\n",
    "# Simulation parameters\n",
    "t_stop = 1.5\n",
    "t_step = 0.05\n",
    "t_eval = np.arange(0, t_stop + t_step, t_step)\n",
    "t_span = [0, t_stop]\n",
    "\n",
    "rtol = 1e-5\n",
    "atol = 1e-8\n",
    "\n",
    "sol = solve_ivp(fun, t_span, y0, t_eval=t_eval, rtol=rtol, atol=atol, args=(params, ))\n",
    "print(sol)\n",
    "assert sol.status == 0, sol.message"
   ]
  },
  {
   "cell_type": "code",
   "execution_count": 28,
   "id": "1b6d058b",
   "metadata": {},
   "outputs": [
    {
     "data": {
      "image/png": "[encoded data removed]",
      "text/plain": [
       "<Figure size 640x480 with 1 Axes>"
      ]
     },
     "metadata": {},
     "output_type": "display_data"
    }
   ],
   "source": [
    "plot_pendulum_trajectory(sol, params)\n",
    "plt.xlim([-2, 10])\n",
    "plt.ylim([-10, 2])\n",
    "plt.show()"
   ]
  },
  {
   "cell_type": "code",
   "execution_count": 29,
   "id": "e7dfb8c7",
   "metadata": {},
   "outputs": [
    {
     "name": "stdout",
     "output_type": "stream",
     "text": [
      "    t     x   D_x     y   D_y\n",
      " 0.00  5.00  0.00  0.00  0.00\n",
      " 0.05  5.00  0.00  0.00 -0.49\n",
      " 0.10  5.00  0.00 -0.02 -0.98\n",
      " 0.15  5.00  0.01 -0.07 -1.47\n",
      " 0.20  5.00  0.03 -0.15 -1.96\n",
      " 0.25  5.00  0.07 -0.25 -2.45\n",
      " 0.30  5.01  0.13 -0.37 -2.93\n",
      " 0.35  5.01  0.22 -0.51 -3.41\n",
      " 0.40  5.02  0.33 -0.68 -3.87\n",
      " 0.45  5.04  0.48 -0.88 -4.32\n",
      " 0.50  5.06  0.67 -1.09 -4.74\n"
     ]
    }
   ],
   "source": [
    "t = 0\n",
    "dt = 0.05\n",
    "[x, D_x, y, D_y] = y0\n",
    "print(f\"{'t':>5s} {'x':>5s} {'D_x':>5s} {'y':>5s} {'D_y':>5s}\")\n",
    "print(f\"{t:5.2f} {x:5.2f} {D_x:5.2f} {y:5.2f} {D_y:5.2f}\")\n",
    "\n",
    "for i in range(10):\n",
    "    D_x, D2_x, D_y, D2_y = pendulum_with_forced_arm_tension(t, [x, D_x, y, D_y], params)\n",
    "    x += D_x * dt; y += D_y * dt\n",
    "    D_x += D2_x * dt; D_y += D2_y * dt\n",
    "    t += dt\n",
    "    print(f\"{t:5.2f} {x:5.2f} {D_x:5.2f} {y:5.2f} {D_y:5.2f}\")"
   ]
  },
  {
   "cell_type": "code",
   "execution_count": 30,
   "id": "57eb1f00",
   "metadata": {},
   "outputs": [
    {
     "name": "stdout",
     "output_type": "stream",
     "text": [
      "5.064381680164544 0.6680240869040566\n"
     ]
    }
   ],
   "source": [
    "print(x, D_x)"
   ]
  },
  {
   "cell_type": "code",
   "execution_count": 31,
   "id": "2504e4c6",
   "metadata": {},
   "outputs": [
    {
     "name": "stdout",
     "output_type": "stream",
     "text": [
      "    t     x   D_x     y   D_y\n",
      " 0.00  5.00  0.00  0.00  0.00\n",
      " 0.05  5.00  0.00 -0.01 -0.49\n",
      " 0.10  5.00  0.01 -0.05 -0.98\n",
      " 0.15  5.00  0.02 -0.11 -1.47\n",
      " 0.20  5.00  0.05 -0.20 -1.96\n",
      " 0.25  5.01  0.10 -0.31 -2.44\n",
      " 0.30  5.01  0.17 -0.44 -2.92\n",
      " 0.35  5.02  0.27 -0.60 -3.39\n",
      " 0.40  5.04  0.40 -0.78 -3.84\n",
      " 0.45  5.06  0.56 -0.98 -4.27\n",
      " 0.50  5.10  0.76 -1.21 -4.67\n"
     ]
    }
   ],
   "source": [
    "params = {\n",
    "    \"L\": 5,  # length of cable\n",
    "    \"m_p\": 1,  # mass of load\n",
    "    \"g\": 9.81,  # acceleration due to gravity\n",
    "    \"r_p\": 0  # radius of load\n",
    "}\n",
    "params[\"rho_cd_A\"] = 1.293 * 0.47 * np.pi * params[\"r_p\"] ** 2\n",
    "\n",
    "fun = pendulum_with_forced_arm_tension\n",
    "t_stop = 0.5\n",
    "t_step = 0.05\n",
    "t_eval = np.arange(0, t_stop + t_step, t_step)\n",
    "t_span = [0, t_stop]\n",
    "sol = solve_ivp(fun, t_span, y0, t_eval=t_eval,\n",
    "                rtol=1e-5, atol=1e-8, args=(params, ))\n",
    "assert sol.status == 0, sol.message\n",
    "x, D_x, y, D_y = sol.y[:, -1]\n",
    "print(f\"{'t':>5s} {'x':>5s} {'D_x':>5s} {'y':>5s} {'D_y':>5s}\")\n",
    "for t, (x, D_x, y, D_y) in zip(sol.t, sol.y.T):\n",
    "    print(f\"{t:5.2f} {x:5.2f} {D_x:5.2f} {y:5.2f} {D_y:5.2f}\")"
   ]
  },
  {
   "cell_type": "code",
   "execution_count": 32,
   "id": "fba01a45",
   "metadata": {},
   "outputs": [
    {
     "name": "stdout",
     "output_type": "stream",
     "text": [
      "5.09753143607141 0.7595240006838602\n"
     ]
    }
   ],
   "source": [
    "print(x, D_x)"
   ]
  },
  {
   "cell_type": "code",
   "execution_count": 33,
   "id": "86609256",
   "metadata": {},
   "outputs": [
    {
     "data": {
      "image/png": "[encoded data removed]",
      "text/plain": [
       "<Figure size 640x480 with 1 Axes>"
      ]
     },
     "metadata": {},
     "output_type": "display_data"
    }
   ],
   "source": [
    "plot_pendulum_trajectory(sol, params, labels=False)\n",
    "plt.xlim([4, 6])\n",
    "plt.ylim([-2, 0.5])\n",
    "plt.savefig(\"test_g.png\")\n",
    "plt.show()"
   ]
  },
  {
   "cell_type": "markdown",
   "id": "be7680ea",
   "metadata": {},
   "source": [
    "## Pendulum with controlled arm length"
   ]
  },
  {
   "cell_type": "code",
   "execution_count": 34,
   "id": "3d2b1958",
   "metadata": {},
   "outputs": [],
   "source": [
    "def pendulum_with_controlled_arm_length(t, y, params):\n",
    "    \"\"\"\n",
    "    y[0] : x position of pendulum mass\n",
    "    y[1] : dx/dt\n",
    "    y[2] : y position of pendulum mass\n",
    "    y[3] : dy/dt\n",
    "    \"\"\"\n",
    "    g = params[\"g\"]\n",
    "    rho_cd_A = params[\"rho_cd_A\"]\n",
    "    L = params[\"L\"]\n",
    "    m_p = params[\"m_p\"]\n",
    "    k_p = params[\"k_p\"]\n",
    "    zeta = params[\"zeta\"]\n",
    "    K_c = params[\"K_c\"]\n",
    "\n",
    "    # Current states\n",
    "    x, D_x, y, D_y = y\n",
    "\n",
    "    # Convert position to polar co-ordinates\n",
    "    [r, theta] = xy_to_polar(x, y)\n",
    "\n",
    "    # Convert velocity to polar co-ordinates\n",
    "    D_r, v_theta = xy_vector_to_polar(theta, D_x, D_y)\n",
    "\n",
    "    # Convert tangential velocity to angular velocity\n",
    "    D_theta = v_theta / r\n",
    "\n",
    "    # Arm length controller (T +ve = tension)\n",
    "    T = np.clip(K_c * (r - L), -2, 2)\n",
    "\n",
    "    # Coefficient for damping term\n",
    "    #c = 2 * m_p * omega_n * zeta\n",
    "\n",
    "    # Tension in cable (+ve = tension)\n",
    "    #T = k_p * (r - L) + c * D_r\n",
    "\n",
    "    # Force due to aerodynamic drag\n",
    "    #F_d = 0.5 * rho_cd_A * (D_r ** 2 + v_theta ** 2)\n",
    "\n",
    "    # Tangential component of drag force\n",
    "    F_dtheta = 0.5 * rho_cd_A * D_theta ** 2\n",
    "\n",
    "    # Radial component of drag force\n",
    "    F_dr = 0.5 * rho_cd_A * D_r ** 2\n",
    "\n",
    "    # Radial component of acceleration due to forces applied:\n",
    "    #  - gravity\n",
    "    #  - spring tension\n",
    "    #  - aerodynamic drag\n",
    "    a_r = -g * np.sin(theta) - T / m_p - np.sign(D_r) * F_dr / m_p\n",
    "\n",
    "    # Tangential component of acceleration due to forces applied:\n",
    "    #  - gravity\n",
    "    a_theta = -g * np.cos(theta) - np.sign(D_theta) * F_dtheta / m_p\n",
    "\n",
    "    # Compute radial and angular acceleration of pendulum mass\n",
    "    a_L, a_theta = acceleration_components_polar(r, D_L, a_r, theta, D_theta, a_theta / r)\n",
    "\n",
    "    # Convert back to xy co-ordinates\n",
    "    D2_x, D2_y = polar_vector_to_xy(theta, a_L, a_theta)\n",
    "\n",
    "    return [D_x, D2_x, D_y, D2_y]"
   ]
  },
  {
   "cell_type": "code",
   "execution_count": 35,
   "id": "7f99931c",
   "metadata": {},
   "outputs": [
    {
     "ename": "NameError",
     "evalue": "name 'D_L' is not defined",
     "output_type": "error",
     "traceback": [
      "\u001b[0;31m---------------------------------------------------------------------------\u001b[0m",
      "\u001b[0;31mNameError\u001b[0m                                 Traceback (most recent call last)",
      "Cell \u001b[0;32mIn[35], line 21\u001b[0m\n\u001b[1;32m     19\u001b[0m \u001b[38;5;66;03m# Choose ODE function\u001b[39;00m\n\u001b[1;32m     20\u001b[0m fun \u001b[38;5;241m=\u001b[39m pendulum_with_controlled_arm_length\n\u001b[0;32m---> 21\u001b[0m dy \u001b[38;5;241m=\u001b[39m \u001b[43mfun\u001b[49m\u001b[43m(\u001b[49m\u001b[43mt\u001b[49m\u001b[43m,\u001b[49m\u001b[43m \u001b[49m\u001b[43my\u001b[49m\u001b[43m,\u001b[49m\u001b[43m \u001b[49m\u001b[43mparams\u001b[49m\u001b[43m)\u001b[49m\n\u001b[1;32m     22\u001b[0m \u001b[38;5;28mprint\u001b[39m(\u001b[38;5;124mf\u001b[39m\u001b[38;5;124m\"\u001b[39m\u001b[38;5;124my0: \u001b[39m\u001b[38;5;132;01m{\u001b[39;00my0\u001b[38;5;132;01m}\u001b[39;00m\u001b[38;5;130;01m\\n\u001b[39;00m\u001b[38;5;124mdy0: \u001b[39m\u001b[38;5;132;01m{\u001b[39;00mdy\u001b[38;5;132;01m}\u001b[39;00m\u001b[38;5;124m\"\u001b[39m)\n\u001b[1;32m     24\u001b[0m \u001b[38;5;66;03m# Simulation parameters\u001b[39;00m\n",
      "Cell \u001b[0;32mIn[34], line 57\u001b[0m, in \u001b[0;36mpendulum_with_controlled_arm_length\u001b[0;34m(t, y, params)\u001b[0m\n\u001b[1;32m     54\u001b[0m a_theta \u001b[38;5;241m=\u001b[39m \u001b[38;5;241m-\u001b[39mg \u001b[38;5;241m*\u001b[39m np\u001b[38;5;241m.\u001b[39mcos(theta) \u001b[38;5;241m-\u001b[39m np\u001b[38;5;241m.\u001b[39msign(D_theta) \u001b[38;5;241m*\u001b[39m F_dtheta \u001b[38;5;241m/\u001b[39m m_p\n\u001b[1;32m     56\u001b[0m \u001b[38;5;66;03m# Compute radial and angular acceleration of pendulum mass\u001b[39;00m\n\u001b[0;32m---> 57\u001b[0m a_L, a_theta \u001b[38;5;241m=\u001b[39m acceleration_components_polar(r, \u001b[43mD_L\u001b[49m, a_r, theta, D_theta, a_theta \u001b[38;5;241m/\u001b[39m r)\n\u001b[1;32m     59\u001b[0m \u001b[38;5;66;03m# Convert back to xy co-ordinates\u001b[39;00m\n\u001b[1;32m     60\u001b[0m D2_x, D2_y \u001b[38;5;241m=\u001b[39m polar_vector_to_xy(theta, a_L, a_theta)\n",
      "\u001b[0;31mNameError\u001b[0m: name 'D_L' is not defined"
     ]
    }
   ],
   "source": [
    "params = {\n",
    "    \"L\": 5,  # length of cable (m)\n",
    "    \"m_p\": 1,  # mass of load (kg)\n",
    "    \"g\": 9.81,  # acceleration due to gravity (m.s^-2)\n",
    "    \"r_p\": 0.5,  # radius of load (m)\n",
    "    \"k_p\": 10,  # spring constant of cable\n",
    "    \"zeta\": 0.15,  # damping ratio\n",
    "    \"K_c\": 50  # gain of arm length controller\n",
    "}\n",
    "params[\"rho_cd_A\"] = 1.293 * 0.47 * np.pi * params[\"r_p\"] ** 2\n",
    "\n",
    "# Define initial condition\n",
    "x0, y0 = polar_to_xy(params[\"L\"], -np.pi/2) # polar_to_xy(params[\"L\"], np.radians(-45))\n",
    "vx0, vy0 = 0, 0\n",
    "y0 = [x0, vx0, y0, vy0]\n",
    "y = y0\n",
    "t = 0\n",
    "\n",
    "# Choose ODE function\n",
    "fun = pendulum_with_controlled_arm_length\n",
    "dy = fun(t, y, params)\n",
    "print(f\"y0: {y0}\\ndy0: {dy}\")\n",
    "\n",
    "# Simulation parameters\n",
    "t_stop = 10\n",
    "t_step = 0.05\n",
    "t_eval = np.arange(0, t_stop + t_step, t_step)\n",
    "t_span = [0, t_stop]\n",
    "\n",
    "sol = solve_ivp(fun, t_span, y0, t_eval=t_eval, args=(params, ))\n",
    "print(sol)\n",
    "assert sol.status == 0, sol.message"
   ]
  },
  {
   "cell_type": "code",
   "execution_count": null,
   "id": "6a8f18b7",
   "metadata": {},
   "outputs": [],
   "source": [
    "plot_pendulum_trajectory(sol, params)\n",
    "plt.show()"
   ]
  },
  {
   "cell_type": "code",
   "execution_count": null,
   "id": "1c1cc303",
   "metadata": {},
   "outputs": [],
   "source": []
  },
  {
   "cell_type": "code",
   "execution_count": null,
   "id": "16f1994d",
   "metadata": {},
   "outputs": [],
   "source": []
  },
  {
   "cell_type": "code",
   "execution_count": null,
   "id": "46b40c97",
   "metadata": {},
   "outputs": [],
   "source": []
  }
 ],
 "metadata": {
  "kernelspec": {
   "display_name": "Python (torch)",
   "language": "python",
   "name": "torch"
  },
  "language_info": {
   "codemirror_mode": {
    "name": "ipython",
    "version": 3
   },
   "file_extension": ".py",
   "mimetype": "text/x-python",
   "name": "python",
   "nbconvert_exporter": "python",
   "pygments_lexer": "ipython3",
   "version": "3.9.15"
  }
 },
 "nbformat": 4,
 "nbformat_minor": 5
}

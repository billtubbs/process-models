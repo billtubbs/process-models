{
 "cells": [
  {
   "cell_type": "markdown",
   "id": "ef34f5ed",
   "metadata": {},
   "source": [
    "# Differential equations for a pendulum with time-varying length"
   ]
  },
  {
   "cell_type": "markdown",
   "id": "a6ed159a",
   "metadata": {},
   "source": [
    "Based on derivations from\n",
    " - https://en.wikipedia.org/wiki/Centripetal_force#Nonuniform_circular_motion"
   ]
  },
  {
   "cell_type": "code",
   "execution_count": 1,
   "id": "ad9b047d",
   "metadata": {},
   "outputs": [],
   "source": [
    "import numpy as np\n",
    "from scipy.integrate import solve_ivp\n",
    "import matplotlib.pyplot as plt"
   ]
  },
  {
   "cell_type": "code",
   "execution_count": 2,
   "id": "57142c66",
   "metadata": {},
   "outputs": [],
   "source": [
    "# This is needed to make debugger work\n",
    "import sys\n",
    "sys.breakpointhook = sys.__breakpointhook__"
   ]
  },
  {
   "cell_type": "markdown",
   "id": "dc88c2e5",
   "metadata": {},
   "source": [
    "## General planar motion\n",
    "(not limited to circular motion)"
   ]
  },
  {
   "cell_type": "markdown",
   "id": "25dfc2e1",
   "metadata": {},
   "source": [
    "Position of the point load at the end of pendulum arm relative to pivot:\n",
    "\n",
    "$$\\mathbf{r} = r \\cos{(\\theta)} \\mathbf{u}_x + r \\sin{(\\theta)} \\mathbf{u}_y$$\n",
    "\n",
    "where $\\mathbf{u}_x$ and $\\mathbf{u}_y$ are unit vectors in the cartesian plane, and $r$, $\\theta$ may be time varying"
   ]
  },
  {
   "cell_type": "markdown",
   "id": "d1c933c5",
   "metadata": {},
   "source": [
    "Translate into a polar co-ordinate system which has a radial unit vector $\\mathbf{u}_\\rho$ and an angular unit vector $\\mathbf{u}_\\theta$, and moves with the particle.\n",
    "\n",
    "<img src=\"images/Polar_unit_vectors.png\" width=\"40%\">\n",
    "\n",
    "\n",
    "$$\\mathbf{r} = \\rho \\mathbf{u}_\\rho$$\n",
    "\n",
    "The unit vector $\\mathbf{u}_p$ travels with the particle and always points in the same direction as $\\mathbf{r}(t)$. Unit vector $\\mathbf{u}_\\theta$ also travels with the particle and remains orthogonal to $\\mathbf{u}_\\rho$. Thus, $\\mathbf{u}_\\rho$ and $\\mathbf{u}_\\theta$ form a local Cartesian coordinate system attached to the particle, and tied to the path traveled by the particle."
   ]
  },
  {
   "cell_type": "code",
   "execution_count": 3,
   "id": "1a8991cc",
   "metadata": {},
   "outputs": [],
   "source": [
    "def xy_to_polar(x, y):\n",
    "    theta = np.arctan2(y, x)\n",
    "    L = np.sqrt(x**2 + y**2)\n",
    "    return [L, theta]\n",
    "\n",
    "assert(xy_to_polar(0, 0) == [0, 0])\n",
    "assert(xy_to_polar(1, 0) == [1, 0])\n",
    "assert(xy_to_polar(0, 2) == [2, 0.5*np.pi])\n",
    "assert(xy_to_polar(-3, 0) == [3, np.pi])\n",
    "assert(np.all(np.isclose(xy_to_polar(3, -4), [5, -np.radians(53.13)])))\n",
    "\n",
    "def polar_to_xy(L, theta):\n",
    "    x = L * np.cos(theta)\n",
    "    y = L * np.sin(theta)\n",
    "    return [x, y]"
   ]
  },
  {
   "cell_type": "markdown",
   "id": "18d8a50f",
   "metadata": {},
   "source": [
    "Velocity of the particle:\n",
    "\n",
    "$$\\mathbf{v} = \\frac{d\\rho}{dt} \\mathbf{u}_p + \\rho \\frac{d\\mathbf{u}_p}{dt}$$\n",
    "\n",
    "where $\\rho$ is used to describe the distance of the path from the origin instead of $r$ to emphasize that it is time-varying."
   ]
  },
  {
   "cell_type": "markdown",
   "id": "71293bbc",
   "metadata": {},
   "source": [
    "Considering that $\\mathbf{u}_p$ and $\\mathbf{u}_\\theta$ always form a right-angled pair with tips on the unit circle, their time derivatives are \n",
    "\n",
    "$$\\frac{d\\mathbf{u}_\\rho}{dt} = \\mathbf{u}_\\theta \\frac{d\\theta}{dt},\n",
    "\\frac{d\\mathbf{u}_\\theta}{dt} = - \\frac{d\\theta}{dt} \\mathbf{u}_\\rho$$\n",
    "\n",
    "Note: in the image above, to maintain orthogonality, if $d\\mathbf{u}_\\rho$ is positive with $d\\theta$, then $d\\mathbf{u}_\\theta$ must decrease."
   ]
  },
  {
   "cell_type": "markdown",
   "id": "91cedf72",
   "metadata": {},
   "source": [
    "Substituting above into the equation for velocity gives\n",
    "\n",
    "$$\\mathbf{v} = \\frac{d\\rho}{dt} \\mathbf{u}_\\rho + \\rho \\mathbf{u}_\\theta \\frac{d\\theta}{dt}$$"
   ]
  },
  {
   "cell_type": "markdown",
   "id": "43a04d66",
   "metadata": {},
   "source": [
    "To obtain the acceleration, differentiate again w.r.t. time\n",
    "\n",
    "$$\n",
    "\\begin{aligned}\n",
    "    \\mathbf{a} &= \\frac{d}{dt} \\left[ \n",
    "        \\frac{d\\rho}{dt} \\mathbf{u}_\\rho + \\rho \\mathbf{u}_\\theta \\frac{d\\theta}{dt}\n",
    "    \\right] \\\\\n",
    "    &= \\frac{d^2\\rho}{{dt}^2} \\mathbf{u}_\\rho \n",
    "        + \\frac{d\\rho}{dt} \\frac{d\\mathbf{u}_\\rho}{dt}\n",
    "        + \\frac{d\\rho}{dt} \\mathbf{u}_\\theta \\frac{d\\theta}{dt}\n",
    "        + \\rho \\frac{d\\mathbf{u}_\\theta}{dt} \\frac{d\\theta}{dt}\n",
    "        + \\rho \\mathbf{u}_\\theta \\frac{d^2\\theta}{{dt}^2} \\\\\n",
    "    &= \\frac{d^2\\rho}{{dt}^2} \\mathbf{u}_\\rho \n",
    "        + \\frac{d\\rho}{dt} \\mathbf{u}_\\theta \\frac{d\\theta}{dt}\n",
    "        + \\frac{d\\rho}{dt} \\mathbf{u}_\\theta \\frac{d\\theta}{dt}\n",
    "        - \\rho \\frac{d\\theta}{dt} \\mathbf{u}_\\rho \\frac{d\\theta}{dt}\n",
    "        + \\rho \\mathbf{u}_\\theta \\frac{d^2\\theta}{{dt}^2} \\\\\n",
    "    &= \\frac{d^2\\rho}{{dt}^2} \\mathbf{u}_\\rho\n",
    "        + 2 \\frac{d\\rho}{dt} \\mathbf{u}_\\theta \\frac{d\\theta}{dt}\n",
    "        - \\rho \\mathbf{u}_\\rho \\left(\\frac{d\\theta}{dt}\\right)^2\n",
    "        + \\rho \\mathbf{u}_\\theta \\frac{d^2\\theta}{{dt}^2} \\\\\n",
    "    &= \\mathbf{u}_\\rho \\left[ \n",
    "            \\frac{d^2\\rho}{{dt}^2}\n",
    "            - \\rho \\left(\\frac{d\\theta}{dt}\\right)^2 \\right]\n",
    "        + \\mathbf{u}_\\theta \\left[\n",
    "            2 \\frac{d\\rho}{dt} \\frac{d\\theta}{dt} \n",
    "            + \\rho \\frac{d^2\\theta}{{dt}^2} \\right]\n",
    "\\end{aligned}\n",
    "$$"
   ]
  },
  {
   "cell_type": "markdown",
   "id": "d5c20573",
   "metadata": {},
   "source": [
    "Since $\\frac{d\\rho}{dt} = v_p$ and $\\rho \\frac{d\\theta}{dt} = v_\\theta$, we can also write\n",
    "\n",
    "$$\n",
    "\\mathbf{a} = \\mathbf{u}_\\rho \\left[ \n",
    "            \\frac{dv_p}{dt}\n",
    "            - \\frac{v_\\theta^2}{\\rho} \\right]\n",
    "        + \\mathbf{u}_\\theta \\left[\n",
    "            \\frac{2 v_p v_\\theta}{\\rho} \n",
    "            + \\rho \\frac{d}{dt} \\left( \\frac{v_\\theta}{\\rho} \\right) \\right]\n",
    "$$"
   ]
  },
  {
   "cell_type": "markdown",
   "id": "6fd9d3e5",
   "metadata": {},
   "source": [
    "$$\n",
    "\\begin{aligned}\n",
    "a_\\rho &= \\frac{d^2\\rho}{{dt}^2}\n",
    "            - \\rho \\left(\\frac{d\\theta}{dt}\\right)^2 \\\\\n",
    "a_\\theta &= 2 \\frac{d\\rho}{dt} \\frac{d\\theta}{dt} \n",
    "            + \\rho \\frac{d^2\\theta}{{dt}^2}\n",
    "\\end{aligned}\n",
    "$$"
   ]
  },
  {
   "cell_type": "markdown",
   "id": "80c0ec80",
   "metadata": {},
   "source": [
    "therefore\n",
    "\n",
    "$$\n",
    "\\begin{aligned}\n",
    "\\frac{d^2\\rho}{{dt}^2} &= a_\\rho\n",
    "            + \\rho \\left(\\frac{d\\theta}{dt}\\right)^2 \\\\\n",
    "\\frac{d^2\\theta}{{dt}^2} &= \\frac{1}{\\rho} \\left[\n",
    "    a_\\theta - 2 \\frac{d\\rho}{dt} \\frac{d\\theta}{dt}\n",
    "\\right]\n",
    "\\end{aligned}\n",
    "$$"
   ]
  },
  {
   "cell_type": "code",
   "execution_count": 4,
   "id": "96690c05",
   "metadata": {},
   "outputs": [],
   "source": [
    "def centripetal_motion_polar_D2(a_r, r, D_r, a_theta, theta, D_theta):\n",
    "    \"\"\"Calculates the second derivatives of the\n",
    "    radius and angle of the position of a mass \n",
    "    (polar co-ordinates), with the given radial and\n",
    "    angular velocities, and subject to additional \n",
    "    accelerations, a_r and a_theta, due to applied\n",
    "    forces.\n",
    "    \"\"\"\n",
    "    D2_r = a_r + r * D_theta ** 2\n",
    "    D2_theta = (a_theta - 2 * D_r * D_theta) / r\n",
    "    return D2_r, D2_theta"
   ]
  },
  {
   "cell_type": "code",
   "execution_count": 5,
   "id": "df03ac02",
   "metadata": {},
   "outputs": [],
   "source": [
    "r = 5\n",
    "D_r = 0\n",
    "a_r = 0\n",
    "theta = 0  # horizontal (to right)\n",
    "D_theta = 0\n",
    "a_theta = 9.81\n",
    "D2_r, D2_theta = centripetal_motion_polar_D2(a_r, r, D_r, a_theta, theta, D_theta)\n",
    "assert((D2_r, D2_theta) == (0, a_theta / r))"
   ]
  },
  {
   "cell_type": "code",
   "execution_count": 6,
   "id": "38a82177",
   "metadata": {},
   "outputs": [],
   "source": [
    "r = 5\n",
    "D_r = 0\n",
    "a_r = 0\n",
    "theta = -np.pi / 2  # vertical (down)\n",
    "D_theta = 0\n",
    "a_theta = 9.81\n",
    "D2_r, D2_theta = centripetal_motion_polar_D2(a_r, r, D_r, a_theta, theta, D_theta)\n",
    "assert((D2_r, D2_theta) == (0, a_theta / r))"
   ]
  },
  {
   "cell_type": "code",
   "execution_count": 7,
   "id": "4693a7a2",
   "metadata": {},
   "outputs": [],
   "source": [
    "r = 5\n",
    "D_r = 0\n",
    "a_r = 0\n",
    "theta = np.degrees(45)\n",
    "D_theta = 0\n",
    "a_theta = 0\n",
    "D2_r, D2_theta = centripetal_motion_polar_D2(a_r, r, D_r, a_theta, theta, D_theta)\n",
    "assert((D2_r, D2_theta) == (0, 0))"
   ]
  },
  {
   "cell_type": "code",
   "execution_count": 8,
   "id": "61410641",
   "metadata": {},
   "outputs": [],
   "source": [
    "r = 5\n",
    "D_r = 0  # fixed radius\n",
    "a_r = -5  # tension\n",
    "theta = np.degrees(45)\n",
    "D_theta = 1  # turning anti-clockwise\n",
    "a_theta = -9.81 * np.cos(theta)\n",
    "D2_r, D2_theta = centripetal_motion_polar_D2(a_r, r, D_r, a_theta, theta, D_theta)\n",
    "assert((D2_r, D2_theta) == (0, 1.16113656835677))"
   ]
  },
  {
   "cell_type": "markdown",
   "id": "57c31019",
   "metadata": {},
   "source": [
    "For comparison, the case of circular motion when $\\frac{d\\rho}{dt} = v_p = 0$, $\\mathbf{v} = \\mathbf{v_\\theta}$, and $v = v_\\theta = \\rho\\frac{d\\theta}{dt}$:\n",
    "\n",
    "$$\n",
    "\\begin{aligned}\n",
    "\\mathbf{a} &= \\mathbf{u}_\\rho \\left[ \n",
    "            - \\rho \\left( \\frac{d\\theta}{dt} \\right)^2 \\right]\n",
    "        + \\mathbf{u}_\\theta \\left[\n",
    "            \\rho \\frac{d^2\\theta}{{dt}^2} \\right] \\\\\n",
    "            &= \\mathbf{u}_\\rho \\left[ \n",
    "            - \\frac{v^2}{r} \\right]\n",
    "        + \\mathbf{u}_\\theta \\left[\n",
    "            \\frac{dv}{dt} \\right]\n",
    "\\end{aligned}\n",
    "$$"
   ]
  },
  {
   "cell_type": "markdown",
   "id": "1f106845",
   "metadata": {},
   "source": [
    "## Pendulum system equations\n",
    "\n",
    "Deriving the differential equation\n",
    "\n",
    "Using Newton's second law ($\\mathbf{F} = m \\mathbf{a})$)\n",
    "\n",
    "$$\\mathbf{N} + \\mathbf{G_p} = m_p \\mathbf{a}$$\n",
    "\n",
    "where $\\mathbf{N} = N_x \\mathbf{u}_x + N_y \\mathbf{u}_y$ is the force on the pendulum arm due to pivot, and $\\mathbf{G_p} = -m_p g \\mathbf{u}_y$ is the downwards force on the mass due to gravity."
   ]
  },
  {
   "cell_type": "markdown",
   "id": "e3e29079",
   "metadata": {},
   "source": [
    "$$\\mathbf{N} - m_p g \\mathbf{u}_y = m_p \\mathbf{a}$$"
   ]
  },
  {
   "cell_type": "markdown",
   "id": "460d5521",
   "metadata": {},
   "source": [
    "Equation from above is in the polar frame of reference:\n",
    "\n",
    "$$\n",
    "\\begin{aligned}\n",
    "\\mathbf{a} &= \\mathbf{u}_\\rho \\left[ \n",
    "            \\frac{d^2\\rho}{{dt}^2}\n",
    "            - \\rho \\left(\\frac{d\\theta}{dt}\\right)^2 \\right]\n",
    "        + \\mathbf{u}_\\theta \\left[\n",
    "            2 \\frac{d\\rho}{dt} \\frac{d\\theta}{dt} \n",
    "            + \\rho \\frac{d^2\\theta}{{dt}^2} \\right] \\\\\n",
    "            &= a_\\rho \\mathbf{u}_\\rho\n",
    "        + a_\\theta \\mathbf{u}_\\theta\n",
    "\\end{aligned}\n",
    "$$\n",
    "\n",
    "Translate it into cartesian co-ordinates."
   ]
  },
  {
   "cell_type": "markdown",
   "id": "e8e1c5ca",
   "metadata": {},
   "source": [
    "From the definition of the co-ordinate systems above,\n",
    "\n",
    "$$\n",
    "\\begin{aligned}\n",
    "\\mathbf{u}_\\rho &= \\mathbf{u}_x \\cos(\\theta) + \\mathbf{u}_y \\sin(\\theta) \\\\\n",
    "\\mathbf{u}_\\theta &= -\\mathbf{u}_x \\sin(\\theta) + \\mathbf{u}_y \\cos(\\theta)\n",
    "\\end{aligned}\n",
    "$$"
   ]
  },
  {
   "cell_type": "code",
   "execution_count": 9,
   "id": "6fbcf1df",
   "metadata": {},
   "outputs": [],
   "source": [
    "def xy_vector_to_polar(theta, v_x, v_y):\n",
    "    h = np.cos(theta) ** 2 + np.sin(theta) ** 2\n",
    "    v_L = (v_x * np.cos(theta) + v_y * np.sin(theta)) / h\n",
    "    v_theta = (v_y * np.cos(theta) - v_x * np.sin(theta)) / h\n",
    "    return [v_L, v_theta]\n",
    "\n",
    "assert(xy_vector_to_polar(0, 0, 0) == [0, 0])\n",
    "assert(xy_vector_to_polar(0, 1, 0) == [1, 0])\n",
    "assert(xy_vector_to_polar(0, 0, 2) == [0, 2])\n",
    "assert(np.all(np.isclose(xy_vector_to_polar(0.25*np.pi, 2, 0), [np.sqrt(2), -np.sqrt(2)])))\n",
    "assert(np.all(np.isclose(xy_vector_to_polar(0.5*np.pi, 4, 3), [3, -4])))\n",
    "assert(np.all(np.isclose(xy_vector_to_polar(1.5*np.pi, 2, 0), [0, 2])))\n",
    "\n",
    "def polar_vector_to_xy(theta, v_L, v_theta):\n",
    "    v_x = v_L * np.cos(theta) - v_theta * np.sin(theta)\n",
    "    v_y = v_L * np.sin(theta) + v_theta * np.cos(theta)\n",
    "    return [v_x, v_y]\n",
    "\n",
    "assert(polar_vector_to_xy(0, 0, 0) == [0, 0])\n",
    "assert(polar_vector_to_xy(0, 1, 0) == [1, 0])\n",
    "assert(polar_vector_to_xy(0, 0, 2) == [0, 2])\n",
    "assert(np.all(np.isclose(polar_vector_to_xy(0.25*np.pi, 2, 0), [np.sqrt(2), np.sqrt(2)])))\n",
    "assert(np.all(np.isclose(polar_vector_to_xy(0.5*np.pi, 4, 3), [-3, 4])))\n",
    "assert(np.all(np.isclose(polar_vector_to_xy(1.5*np.pi, 2, 0), [0, -2])))\n",
    "\n",
    "# Check round trip\n",
    "v1, v2 = np.random.randn(2)\n",
    "theta = np.random.random() * 2 * np.pi\n",
    "v_x, v_y = polar_vector_to_xy(theta, v1, v2)\n",
    "assert(np.all(np.isclose(xy_vector_to_polar(theta, v_x, v_y), [v1, v2])))\n",
    "v_L, v_theta = xy_vector_to_polar(theta, v1, v2)\n",
    "assert(np.all(np.isclose(polar_vector_to_xy(theta, v_L, v_theta), [v1, v2])))"
   ]
  },
  {
   "cell_type": "markdown",
   "id": "2a8128e8",
   "metadata": {},
   "source": [
    "Therefore we can write\n",
    "\n",
    "$$\n",
    "\\mathbf{a} = \n",
    "    \\left( \\mathbf{u}_x \\cos(\\theta) + \\mathbf{u}_y \\sin(\\theta) \\right) \n",
    "             \\left[ \\frac{d^2\\rho}{{dt}^2}\n",
    "                - \\rho \\left(\\frac{d\\theta}{dt}\\right)^2 \\right]\n",
    "    + \\left( -\\mathbf{u}_x \\sin(\\theta) + \\mathbf{u}_y \\cos(\\theta) \\right)\n",
    "             \\left[ 2 \\frac{d\\rho}{dt} \\frac{d\\theta}{dt} \n",
    "                + \\rho \\frac{d^2\\theta}{{dt}^2} \\right]\n",
    "$$"
   ]
  },
  {
   "cell_type": "markdown",
   "id": "d658e0ca",
   "metadata": {},
   "source": [
    "Decomposing into x and y directions,\n",
    "\n",
    "$$\n",
    "\\begin{aligned}\n",
    "a_x &= \n",
    "    \\cos(\\theta) \n",
    "             \\left[ \\frac{d^2\\rho}{{dt}^2}\n",
    "                - \\rho \\left(\\frac{d\\theta}{dt}\\right)^2 \\right]\n",
    "    - \\sin(\\theta)\n",
    "             \\left[ 2 \\frac{d\\rho}{dt} \\frac{d\\theta}{dt} \n",
    "                + \\rho \\frac{d^2\\theta}{{dt}^2} \\right] \\\\\n",
    "a_y &= \n",
    "    \\sin(\\theta) \n",
    "             \\left[ \\frac{d^2\\rho}{{dt}^2}\n",
    "                - \\rho \\left(\\frac{d\\theta}{dt}\\right)^2 \\right]\n",
    "    + \\cos(\\theta)\n",
    "             \\left[ 2 \\frac{d\\rho}{dt} \\frac{d\\theta}{dt} \n",
    "                + \\rho \\frac{d^2\\theta}{{dt}^2} \\right]\n",
    "\\end{aligned}\n",
    "$$"
   ]
  },
  {
   "cell_type": "markdown",
   "id": "582dd13b",
   "metadata": {},
   "source": [
    "or\n",
    "\n",
    "$$\n",
    "\\begin{aligned}\n",
    "a_x &= a_\\rho \\cos(\\theta)\n",
    "        - a_\\theta \\sin(\\theta) \\\\\n",
    "a_y &= a_\\rho \\sin(\\theta) \n",
    "        + a_\\theta \\cos(\\theta)\n",
    "\\end{aligned}\n",
    "$$\n",
    "\n",
    "where\n",
    "\n",
    "$$\n",
    "a_\\rho = \\frac{d^2\\rho}{{dt}^2}\n",
    "                - \\rho \\left(\\frac{d\\theta}{dt}\\right)^2 \\\\\n",
    "a_\\theta = 2 \\frac{d\\rho}{dt} \\frac{d\\theta}{dt} \n",
    "                + \\rho \\frac{d^2\\theta}{{dt}^2}   \n",
    "$$"
   ]
  },
  {
   "cell_type": "code",
   "execution_count": 10,
   "id": "e6fd033c",
   "metadata": {},
   "outputs": [],
   "source": [
    "def acceleration_components_polar(L, D_L, D2_L, theta, D_theta, \n",
    "                                  D2_theta):\n",
    "    \"\"\"Calculates radial and tangential acceleration \n",
    "    components needed to move a mass in the given \n",
    "    position (in polar co-ordinates), with given \n",
    "    radial and angular velocities, and accelerations.\n",
    "    \"\"\"\n",
    "    a_L = D2_L - L * (D_theta) ** 2\n",
    "    a_theta = 2 * D_L * D_theta + L * D2_theta\n",
    "    return a_L, a_theta"
   ]
  },
  {
   "cell_type": "markdown",
   "id": "bce84f9f",
   "metadata": {},
   "source": [
    "### Free (unforced) pendulum with fixed length\n",
    "\n",
    "Substituting these equations into the $(\\mathbf{F} = m \\mathbf{a})$ equation above and assuming $\\mathbf{N}=0$, \n",
    "\n",
    "$$- m_p g \\mathbf{u}_y = m_p \\mathbf{a}$$\n",
    "\n",
    "Therefore\n",
    "\n",
    "$$\n",
    "\\begin{aligned}\n",
    "0 &= a_\\rho \\cos(\\theta)\n",
    "        - a_\\theta \\sin(\\theta) \\\\\n",
    "-g &= a_\\rho \\sin(\\theta) \n",
    "        + a_\\theta \\cos(\\theta)\n",
    "\\end{aligned}\n",
    "$$"
   ]
  },
  {
   "cell_type": "markdown",
   "id": "975f78cc",
   "metadata": {},
   "source": [
    "Substituting $a_\\rho$ and $a_\\theta$ with expressions above\n",
    "\n",
    "$$\n",
    "\\begin{aligned}\n",
    "0 &= \\left( \\frac{d^2\\rho}{{dt}^2}\n",
    "                - \\rho \\left(\\frac{d\\theta}{dt}\\right)^2 \\right) \\cos(\\theta)\n",
    "        - \\left( 2 \\frac{d\\rho}{dt} \\frac{d\\theta}{dt} \n",
    "                + \\rho \\frac{d^2\\theta}{{dt}^2} \\right) \\sin(\\theta) \\\\\n",
    "-g &= \\left( \\frac{d^2\\rho}{{dt}^2}\n",
    "                - \\rho \\left(\\frac{d\\theta}{dt}\\right)^2 \\right) \\sin(\\theta) \n",
    "        + \\left( 2 \\frac{d\\rho}{dt} \\frac{d\\theta}{dt} \n",
    "                + \\rho \\frac{d^2\\theta}{{dt}^2} \\right) \\cos(\\theta)\n",
    "\\end{aligned}\n",
    "$$"
   ]
  },
  {
   "cell_type": "code",
   "execution_count": 11,
   "id": "669ee6e2",
   "metadata": {},
   "outputs": [],
   "source": [
    "# Free (unforced) pendulum with fixed length\n",
    "\n",
    "# Define states of the system:\n",
    "#\n",
    "# y[0] : angle theta of the pendulum arm (anticlockwise from u_x)\n",
    "# y[1] : dtheta/dt\n",
    "# y[2] : length r of pendulum arm\n",
    "# y[3] : dr/dt\n",
    "#\n",
    "\n",
    "def free_pendulum_fixed_length(t, y, params):\n",
    "    \"\"\"\n",
    "    y[0] : angle theta of the pendulum arm (anticlockwise from u_x)\n",
    "    y[1] : dtheta/dt\n",
    "    y[2] : length r of pendulum arm\n",
    "    y[3] : dr/dt\n",
    "    \"\"\"\n",
    "    g = params[\"g\"]\n",
    "    m_p = params[\"m_p\"]\n",
    "\n",
    "    # Note the calculations below could be simplified but\n",
    "    # I am setting up the general case to allow for more \n",
    "    # complex cases later\n",
    "\n",
    "    # Current states\n",
    "    theta, D_theta, r, D_r = y\n",
    "\n",
    "    # Tangential and radial components of acceleration \n",
    "    # due to gravity:\n",
    "    a_gt = -g * np.cos(theta)\n",
    "    a_gr = -g * np.sin(theta)\n",
    "\n",
    "    # Sum of tangential components of acceleration due \n",
    "    # to forces applied (only gravity here):\n",
    "    a_theta = a_gt\n",
    "\n",
    "    # Centripetal force due to circular motion of mass\n",
    "    F_c = m_p * r * D_theta ** 2    \n",
    "\n",
    "    # To maintain a fixed length pendulum, need to apply a\n",
    "    # force (via tension in arm) equal and opposite to\n",
    "    # the centripetal and gravitational forces:\n",
    "    T = F_c + m_p * a_gr\n",
    "\n",
    "    # Radial component of acceleration due to forces\n",
    "    # applied:\n",
    "    a_r = a_gr - T / m_p\n",
    "\n",
    "    D2_r, D2_theta = centripetal_motion_polar_D2(\n",
    "        a_r, r, D_r, a_theta, theta,D_theta)\n",
    "\n",
    "    return [D_theta, D2_theta, D_r, D2_r]"
   ]
  },
  {
   "cell_type": "code",
   "execution_count": 12,
   "id": "fde158d1",
   "metadata": {},
   "outputs": [
    {
     "name": "stdout",
     "output_type": "stream",
     "text": [
      "[0, -1.3873435046880065, 0, 0.0]\n",
      "  message: The solver successfully reached the end of the integration interval.\n",
      "  success: True\n",
      "   status: 0\n",
      "        t: [ 0.000e+00  1.000e-01 ...  4.900e+00  5.000e+00]\n",
      "        y: [[-7.854e-01 -7.923e-01 ... -8.262e-01 -8.657e-01]\n",
      "            [ 0.000e+00 -1.384e-01 ... -3.291e-01 -4.594e-01]\n",
      "            [ 5.000e+00  5.000e+00 ...  5.000e+00  5.000e+00]\n",
      "            [ 0.000e+00 -1.331e-17 ...  1.735e-16  2.573e-16]]\n",
      "      sol: None\n",
      " t_events: None\n",
      " y_events: None\n",
      "     nfev: 74\n",
      "     njev: 0\n",
      "      nlu: 0\n"
     ]
    }
   ],
   "source": [
    "params = {\n",
    "    \"L\": 5,  # length of cable\n",
    "    \"m_p\": 1,  # mass of load\n",
    "    \"g\": 9.81  # acceleration due to gravity\n",
    "}\n",
    "\n",
    "# Define initial conditions\n",
    "theta0, r0 = np.radians(-45), params[\"L\"]\n",
    "D_theta0, D_r0 = 0, 0\n",
    "y0 = [theta0, D_theta0, r0, D_r0]\n",
    "y = y0\n",
    "t = 0\n",
    "\n",
    "# Choose ODE function\n",
    "fun = free_pendulum_fixed_length\n",
    "dy = fun(t, y, params)\n",
    "print(dy)\n",
    "\n",
    "# Simulation parameters\n",
    "t_stop = 5\n",
    "t_step = 0.1\n",
    "t_eval = np.arange(0, t_stop + t_step, t_step)\n",
    "t_span = [0, t_stop]\n",
    "\n",
    "sol = solve_ivp(fun, t_span, y0, t_eval=t_eval, args=(params, ))\n",
    "print(sol)\n",
    "assert(sol.status == 0)"
   ]
  },
  {
   "cell_type": "code",
   "execution_count": 13,
   "id": "f101295c",
   "metadata": {},
   "outputs": [
    {
     "data": {
      "image/png": "[encoded data removed]",
      "text/plain": [
       "<Figure size 640x480 with 1 Axes>"
      ]
     },
     "metadata": {},
     "output_type": "display_data"
    }
   ],
   "source": [
    "# Function to plot trajectory\n",
    "def plot_pendulum_trajectory(sol, params, labels=True):\n",
    "\n",
    "    if sol.y.shape[0] == 4:\n",
    "        theta, D_theta, r, D_r = sol.y\n",
    "        L = params['L']\n",
    "    else:\n",
    "        theta, D_theta, r, D_r = sol.y[:4]\n",
    "        L = sol.y[4, 0]\n",
    "\n",
    "    # Convert to x-y co-ordinates\n",
    "    x, y = r * np.cos(theta), r * np.sin(theta)\n",
    "\n",
    "    t = sol.t\n",
    "    nT = len(t)\n",
    "    selected_points = np.arange(0, nT, step=(nT - 1) // 10)\n",
    "    r_p = params.get('r_p', 0.25)\n",
    "    \n",
    "    ax = plt.gca()\n",
    "\n",
    "    circ = plt.Circle((0, 0), L, facecolor='none', edgecolor='grey')\n",
    "    ax.add_patch(circ)\n",
    "\n",
    "    load = plt.Circle((x[0], y[0]), r_p, color='r')\n",
    "    ax.add_patch(load)\n",
    "\n",
    "    ax.plot(x, y)\n",
    "    ax.plot([0, x[0]], [0, y[0]], '-ro')\n",
    "    ax.plot(x[selected_points], y[selected_points], 'ko')\n",
    "    if labels:\n",
    "        for p in selected_points:\n",
    "            ax.annotate(f\"{t[p]:.1f}\", (x[p] - 0.25, y[p] - 0.4))\n",
    "    ax.set_xlim([-5.5, 5.5])\n",
    "    ax.set_ylim([-6, 0.5])\n",
    "    ax.set_xlabel(\"x\")\n",
    "    ax.set_ylabel(\"y\")\n",
    "    ax.set_aspect('equal')\n",
    "    ax.grid()\n",
    "\n",
    "plot_pendulum_trajectory(sol, params)\n",
    "plt.show()"
   ]
  },
  {
   "cell_type": "markdown",
   "id": "9a71deb1",
   "metadata": {},
   "source": [
    "## Add aerodynamic drag"
   ]
  },
  {
   "cell_type": "code",
   "execution_count": 14,
   "id": "505b4d19",
   "metadata": {},
   "outputs": [],
   "source": [
    "def free_pendulum_with_drag(t, y, params):\n",
    "    \"\"\"\n",
    "    y[0] : angle theta of the pendulum arm (anticlockwise from u_x)\n",
    "    y[1] : dtheta/dt\n",
    "    y[2] : length r of pendulum arm\n",
    "    y[3] : dr/dt\n",
    "    \"\"\"\n",
    "    g = params[\"g\"]\n",
    "    m_p = params[\"m_p\"]\n",
    "    rho_cd_A = params[\"rho_cd_A\"]\n",
    "\n",
    "    # Current states\n",
    "    theta, D_theta, r, D_r = y\n",
    "\n",
    "    # Tangential and radial components of acceleration \n",
    "    # due to gravity:\n",
    "    a_gt = -g * np.cos(theta)\n",
    "    a_gr = -g * np.sin(theta)\n",
    "\n",
    "    # Tangential velocity\n",
    "    v_theta = r * D_theta\n",
    "\n",
    "    # Force due to aerodynamic drag\n",
    "    #F_d = 0.5 * rho_cd_A * (D_r ** 2 + v_theta ** 2)\n",
    "\n",
    "    # Tangential component of drag force\n",
    "    F_dt = 0.5 * rho_cd_A * v_theta ** 2\n",
    "\n",
    "    # Radial component of drag force - this is zero\n",
    "    # for a fixed-length pendulum so can be ignored\n",
    "    #F_dr = 0.5 * rho_cd_A * D_r ** 2\n",
    "\n",
    "    # Sum of tangential components of acceleration due \n",
    "    # to forces applied:\n",
    "    #  - gravity\n",
    "    #  - aerodynamic drag\n",
    "    a_theta = a_gt - np.sign(D_theta) * F_dt / m_p\n",
    "\n",
    "    # Centripetal force due to circular motion of mass\n",
    "    F_c = m_p * r * D_theta ** 2    \n",
    "\n",
    "    # To maintain a fixed length pendulum, need to apply a\n",
    "    # force (via tension in arm) equal and opposite to\n",
    "    # the centripetal and gravitational forces:\n",
    "    T = F_c + m_p * a_gr\n",
    "\n",
    "    # Radial component of acceleration due to forces\n",
    "    # applied:\n",
    "    a_r = a_gr - T / m_p\n",
    "\n",
    "    D2_r, D2_theta = centripetal_motion_polar_D2(\n",
    "        a_r, r, D_r, a_theta, theta,D_theta)\n",
    "\n",
    "    return [D_theta, D2_theta, D_r, D2_r]"
   ]
  },
  {
   "cell_type": "code",
   "execution_count": 15,
   "id": "796cbe37",
   "metadata": {},
   "outputs": [
    {
     "name": "stdout",
     "output_type": "stream",
     "text": [
      "[0, -1.3873435046880065, 0, 0.0]\n",
      "  message: The solver successfully reached the end of the integration interval.\n",
      "  success: True\n",
      "   status: 0\n",
      "        t: [ 0.000e+00  5.000e-02 ...  4.950e+00  5.000e+00]\n",
      "        y: [[-7.854e-01 -7.871e-01 ... -1.360e+00 -1.365e+00]\n",
      "            [ 0.000e+00 -6.923e-02 ... -8.904e-02 -1.088e-01]\n",
      "            [ 5.000e+00  5.000e+00 ...  5.000e+00  5.000e+00]\n",
      "            [ 0.000e+00 -7.305e-18 ...  6.882e-16  6.857e-16]]\n",
      "      sol: None\n",
      " t_events: None\n",
      " y_events: None\n",
      "     nfev: 62\n",
      "     njev: 0\n",
      "      nlu: 0\n"
     ]
    }
   ],
   "source": [
    "params = {\n",
    "    \"L\": 5,  # length of cable\n",
    "    \"m_p\": 1,  # mass of load\n",
    "    \"g\": 9.81,  # acceleration due to gravity\n",
    "    \"r_p\": 0.5  # radius of load\n",
    "}\n",
    "params[\"rho_cd_A\"] = 1.293 * 0.47 * np.pi * params[\"r_p\"] ** 2\n",
    "\n",
    "# Define initial conditions\n",
    "theta0, r0 = np.radians(-45), params[\"L\"]\n",
    "D_theta0, D_r0 = 0, 0\n",
    "y0 = [theta0, D_theta0, r0, D_r0]\n",
    "y = y0\n",
    "t = 0\n",
    "\n",
    "# Choose ODE function\n",
    "fun = free_pendulum_with_drag\n",
    "dy = fun(t, y, params)\n",
    "print(dy)\n",
    "\n",
    "# Simulation parameters\n",
    "t_stop = 5\n",
    "t_step = 0.05\n",
    "t_eval = np.arange(0, t_stop + t_step, t_step)\n",
    "t_span = [0, t_stop]\n",
    "\n",
    "sol = solve_ivp(fun, t_span, y0, t_eval=t_eval, args=(params, ))\n",
    "print(sol)\n",
    "assert(sol.status == 0)"
   ]
  },
  {
   "cell_type": "code",
   "execution_count": 16,
   "id": "fce59391",
   "metadata": {},
   "outputs": [
    {
     "data": {
      "image/png": "[encoded data removed]",
      "text/plain": [
       "<Figure size 640x480 with 1 Axes>"
      ]
     },
     "metadata": {},
     "output_type": "display_data"
    }
   ],
   "source": [
    "plot_pendulum_trajectory(sol, params)\n",
    "plt.show()"
   ]
  },
  {
   "cell_type": "markdown",
   "id": "3da5ebe0",
   "metadata": {},
   "source": [
    "## Free pendulum with spring arm"
   ]
  },
  {
   "cell_type": "code",
   "execution_count": 17,
   "id": "4c6b0efc",
   "metadata": {},
   "outputs": [],
   "source": [
    "def free_pendulum_with_spring(t, y, params):\n",
    "    \"\"\"\n",
    "    y[0] : angle theta of the pendulum arm (anticlockwise from u_x)\n",
    "    y[1] : dtheta/dt\n",
    "    y[2] : length r of pendulum arm\n",
    "    y[3] : dr/dt\n",
    "    \"\"\"\n",
    "    g = params[\"g\"]\n",
    "    m_p = params[\"m_p\"]\n",
    "    rho_cd_A = params[\"rho_cd_A\"]\n",
    "    L = params[\"L\"]\n",
    "    k_p = params[\"k_p\"]\n",
    "\n",
    "    # Current states\n",
    "    theta, D_theta, r, D_r = y\n",
    "\n",
    "    # Tangential and radial components of acceleration \n",
    "    # due to gravity:\n",
    "    a_gt = -g * np.cos(theta)\n",
    "    a_gr = -g * np.sin(theta)\n",
    "\n",
    "    # Sum of tangential components of acceleration due \n",
    "    # to forces applied:\n",
    "    #  - gravity\n",
    "    a_theta = a_gt\n",
    "\n",
    "    # Calculate tension in spring (+ve = tension)\n",
    "    T = k_p * (r - L)\n",
    "\n",
    "    # Radial component of acceleration due to forces\n",
    "    # applied:\n",
    "    #  - gravity\n",
    "    #  - spring tension\n",
    "    a_r = a_gr - T / m_p\n",
    "\n",
    "    D2_r, D2_theta = centripetal_motion_polar_D2(\n",
    "        a_r, r, D_r, a_theta, theta,D_theta)\n",
    "\n",
    "    return [D_theta, D2_theta, D_r, D2_r]"
   ]
  },
  {
   "cell_type": "code",
   "execution_count": 18,
   "id": "5e063f83",
   "metadata": {},
   "outputs": [
    {
     "name": "stdout",
     "output_type": "stream",
     "text": [
      "[0, -1.3873435046880065, 0, 6.936717523440031]\n",
      "  message: The solver successfully reached the end of the integration interval.\n",
      "  success: True\n",
      "   status: 0\n",
      "        t: [ 0.000e+00  5.000e-02 ...  4.950e+00  5.000e+00]\n",
      "        y: [[-7.854e-01 -7.871e-01 ... -7.904e-01 -8.001e-01]\n",
      "            [ 0.000e+00 -6.913e-02 ... -1.610e-01 -2.303e-01]\n",
      "            [ 5.000e+00  5.009e+00 ...  5.192e+00  5.155e+00]\n",
      "            [ 0.000e+00  3.403e-01 ... -6.997e-01 -7.733e-01]]\n",
      "      sol: None\n",
      " t_events: None\n",
      " y_events: None\n",
      "     nfev: 266\n",
      "     njev: 0\n",
      "      nlu: 0\n"
     ]
    }
   ],
   "source": [
    "params = {\n",
    "    \"L\": 5,  # length of cable\n",
    "    \"m_p\": 1,  # mass of load\n",
    "    \"g\": 9.81,  # acceleration due to gravity\n",
    "    \"r_p\": 0.5,  # radius of load\n",
    "    \"k_p\": 50  # spring constant of cable\n",
    "}\n",
    "params[\"rho_cd_A\"] = 1.293 * 0.47 * np.pi * params[\"r_p\"] ** 2\n",
    "\n",
    "# Define initial conditions\n",
    "theta0, r0 = np.radians(-45), params[\"L\"]\n",
    "D_theta0, D_r0 = 0, 0\n",
    "y0 = [theta0, D_theta0, r0, D_r0]\n",
    "y = y0\n",
    "t = 0\n",
    "\n",
    "# Choose ODE function\n",
    "fun = free_pendulum_with_spring\n",
    "dy = fun(t, y, params)\n",
    "print(dy)\n",
    "\n",
    "# Simulation parameters\n",
    "t_stop = 5\n",
    "t_step = 0.05\n",
    "t_eval = np.arange(0, t_stop + t_step, t_step)\n",
    "t_span = [0, t_stop]\n",
    "\n",
    "sol = solve_ivp(fun, t_span, y0, t_eval=t_eval, args=(params, ))\n",
    "print(sol)\n",
    "assert(sol.status == 0)"
   ]
  },
  {
   "cell_type": "code",
   "execution_count": 19,
   "id": "bd1486c5",
   "metadata": {},
   "outputs": [
    {
     "data": {
      "image/png": "[encoded data removed]",
      "text/plain": [
       "<Figure size 640x480 with 1 Axes>"
      ]
     },
     "metadata": {},
     "output_type": "display_data"
    }
   ],
   "source": [
    "plot_pendulum_trajectory(sol, params)\n",
    "plt.show()"
   ]
  },
  {
   "cell_type": "markdown",
   "id": "02bf1885",
   "metadata": {},
   "source": [
    "## Free pendulum with spring arm and aerodynamic drag"
   ]
  },
  {
   "cell_type": "code",
   "execution_count": 20,
   "id": "077c41bf",
   "metadata": {},
   "outputs": [],
   "source": [
    "def free_pendulum_with_spring_and_drag(t, y, params):\n",
    "    \"\"\"\n",
    "    y[0] : angle theta of the pendulum arm (anticlockwise from u_x)\n",
    "    y[1] : dtheta/dt\n",
    "    y[2] : length r of pendulum arm\n",
    "    y[3] : dr/dt\n",
    "    \"\"\"\n",
    "    g = params[\"g\"]\n",
    "    m_p = params[\"m_p\"]\n",
    "    rho_cd_A = params[\"rho_cd_A\"]\n",
    "    L = params[\"L\"]\n",
    "    k_p = params[\"k_p\"]\n",
    "\n",
    "    # Current states\n",
    "    theta, D_theta, r, D_r = y\n",
    "\n",
    "    # Tangential and radial components of acceleration \n",
    "    # due to gravity:\n",
    "    a_gt = -g * np.cos(theta)\n",
    "    a_gr = -g * np.sin(theta)\n",
    "\n",
    "    # Tangential velocity\n",
    "    v_theta = r * D_theta\n",
    "\n",
    "    # Force due to aerodynamic drag\n",
    "    #F_d = 0.5 * rho_cd_A * (D_r ** 2 + v_theta ** 2)\n",
    "\n",
    "    # Tangential component of drag force\n",
    "    F_dt = 0.5 * rho_cd_A * v_theta ** 2\n",
    "\n",
    "    # Radial component of drag force\n",
    "    F_dr = 0.5 * rho_cd_A * D_r ** 2\n",
    "\n",
    "    # Sum of tangential components of acceleration due \n",
    "    # to forces applied:\n",
    "    #  - gravity\n",
    "    #  - aerodynamic drag\n",
    "    a_theta = a_gt - np.sign(D_theta) * F_dt / m_p\n",
    "\n",
    "    # Calculate tension in spring (+ve = tension)\n",
    "    T = k_p * (r - L)\n",
    "\n",
    "    # Radial component of acceleration due to forces\n",
    "    # applied:\n",
    "    #  - gravity\n",
    "    #  - spring tension\n",
    "    #  - aerodynamic drag\n",
    "    a_r = a_gr - T / m_p - np.sign(D_r) * F_dr / m_p\n",
    "\n",
    "    D2_r, D2_theta = centripetal_motion_polar_D2(\n",
    "        a_r, r, D_r, a_theta, theta,D_theta)\n",
    "\n",
    "    return [D_theta, D2_theta, D_r, D2_r]"
   ]
  },
  {
   "cell_type": "code",
   "execution_count": 21,
   "id": "91e4942a",
   "metadata": {},
   "outputs": [
    {
     "name": "stdout",
     "output_type": "stream",
     "text": [
      "[0, -1.3873435046880065, 0, 6.936717523440031]\n",
      "  message: The solver successfully reached the end of the integration interval.\n",
      "  success: True\n",
      "   status: 0\n",
      "        t: [ 0.000e+00  5.000e-02 ...  4.950e+00  5.000e+00]\n",
      "        y: [[-7.854e-01 -7.871e-01 ... -1.362e+00 -1.364e+00]\n",
      "            [ 0.000e+00 -6.904e-02 ... -3.074e-02 -5.025e-02]\n",
      "            [ 5.000e+00  5.009e+00 ...  5.261e+00  5.240e+00]\n",
      "            [ 0.000e+00  3.398e-01 ... -3.352e-01 -4.803e-01]]\n",
      "      sol: None\n",
      " t_events: None\n",
      " y_events: None\n",
      "     nfev: 272\n",
      "     njev: 0\n",
      "      nlu: 0\n"
     ]
    }
   ],
   "source": [
    "params = {\n",
    "    \"L\": 5,  # length of cable\n",
    "    \"m_p\": 1,  # mass of load\n",
    "    \"g\": 9.81,  # acceleration due to gravity\n",
    "    \"r_p\": 0.5,  # radius of load\n",
    "    \"k_p\": 50  # spring constant of cable\n",
    "}\n",
    "params[\"rho_cd_A\"] = 1.293 * 0.47 * np.pi * params[\"r_p\"] ** 2\n",
    "\n",
    "# Define initial conditions\n",
    "theta0, r0 = np.radians(-45), params[\"L\"]\n",
    "D_theta0, D_r0 = 0, 0\n",
    "y0 = [theta0, D_theta0, r0, D_r0]\n",
    "y = y0\n",
    "t = 0\n",
    "\n",
    "# Choose ODE function\n",
    "fun = free_pendulum_with_spring_and_drag\n",
    "dy = fun(t, y, params)\n",
    "print(dy)\n",
    "\n",
    "# Simulation parameters\n",
    "t_stop = 5\n",
    "t_step = 0.05\n",
    "t_eval = np.arange(0, t_stop + t_step, t_step)\n",
    "t_span = [0, t_stop]\n",
    "\n",
    "sol = solve_ivp(fun, t_span, y0, t_eval=t_eval, args=(params, ))\n",
    "print(sol)\n",
    "assert sol.status == 0, sol.message"
   ]
  },
  {
   "cell_type": "code",
   "execution_count": 22,
   "id": "7342ac33",
   "metadata": {},
   "outputs": [
    {
     "data": {
      "image/png": "[encoded data removed]",
      "text/plain": [
       "<Figure size 640x480 with 1 Axes>"
      ]
     },
     "metadata": {},
     "output_type": "display_data"
    }
   ],
   "source": [
    "plot_pendulum_trajectory(sol, params)\n",
    "plt.show()"
   ]
  },
  {
   "cell_type": "markdown",
   "id": "9322fd08",
   "metadata": {},
   "source": [
    "## Free pendulum with damped spring arm and aerodynamic drag"
   ]
  },
  {
   "cell_type": "code",
   "execution_count": 23,
   "id": "21a2d20f",
   "metadata": {},
   "outputs": [],
   "source": [
    "def free_pendulum_with_damped_spring_and_drag(t, y, params):\n",
    "    \"\"\"\n",
    "    y[0] : angle theta of the pendulum arm (anticlockwise from u_x)\n",
    "    y[1] : dtheta/dt\n",
    "    y[2] : length r of pendulum arm\n",
    "    y[3] : dr/dt\n",
    "    \"\"\"\n",
    "    g = params[\"g\"]\n",
    "    m_p = params[\"m_p\"]\n",
    "    rho_cd_A = params[\"rho_cd_A\"]\n",
    "    L = params[\"L\"]\n",
    "    k_p = params[\"k_p\"]\n",
    "    zeta = params[\"zeta\"]\n",
    "\n",
    "    # Current states\n",
    "    theta, D_theta, r, D_r = y\n",
    "\n",
    "    # Tangential and radial components of acceleration \n",
    "    # due to gravity:\n",
    "    a_gt = -g * np.cos(theta)\n",
    "    a_gr = -g * np.sin(theta)\n",
    "\n",
    "    # Tangential velocity\n",
    "    v_theta = r * D_theta\n",
    "\n",
    "    # Force due to aerodynamic drag\n",
    "    #F_d = 0.5 * rho_cd_A * (D_r ** 2 + v_theta ** 2)\n",
    "\n",
    "    # Tangential component of drag force\n",
    "    F_dt = 0.5 * rho_cd_A * v_theta ** 2\n",
    "\n",
    "    # Radial component of drag force\n",
    "    F_dr = 0.5 * rho_cd_A * D_r ** 2\n",
    "\n",
    "    # Sum of tangential components of acceleration due \n",
    "    # to forces applied:\n",
    "    #  - gravity\n",
    "    #  - aerodynamic drag\n",
    "    a_theta = a_gt - np.sign(D_theta) * F_dt / m_p\n",
    "\n",
    "    # Undamped natural frequency of spring-mass system\n",
    "    omega_n = np.sqrt(k_p / m_p)\n",
    "\n",
    "    # Coefficient for damping term\n",
    "    c = 2 * m_p * omega_n * zeta\n",
    "\n",
    "    # Tension in cable (+ve = tension)\n",
    "    T = k_p * (r - L) + c * D_r\n",
    "\n",
    "    # Radial component of acceleration due to forces\n",
    "    # applied:\n",
    "    #  - gravity\n",
    "    #  - spring tension\n",
    "    #  - aerodynamic drag\n",
    "    a_r = a_gr - T / m_p - np.sign(D_r) * F_dr / m_p\n",
    "\n",
    "    D2_r, D2_theta = centripetal_motion_polar_D2(\n",
    "        a_r, r, D_r, a_theta, theta,D_theta)\n",
    "\n",
    "    return [D_theta, D2_theta, D_r, D2_r]"
   ]
  },
  {
   "cell_type": "code",
   "execution_count": 24,
   "id": "c14cb1d9",
   "metadata": {},
   "outputs": [
    {
     "name": "stdout",
     "output_type": "stream",
     "text": [
      "[0, -1.3873435046880065, 0, 6.936717523440031]\n",
      "  message: The solver successfully reached the end of the integration interval.\n",
      "  success: True\n",
      "   status: 0\n",
      "        t: [ 0.000e+00  5.000e-02 ...  4.950e+00  5.000e+00]\n",
      "        y: [[-7.854e-01 -7.871e-01 ... -1.363e+00 -1.365e+00]\n",
      "            [ 0.000e+00 -6.904e-02 ... -2.966e-02 -4.900e-02]\n",
      "            [ 5.000e+00  5.008e+00 ...  5.191e+00  5.191e+00]\n",
      "            [ 0.000e+00  3.170e-01 ...  7.983e-04  3.237e-03]]\n",
      "      sol: None\n",
      " t_events: None\n",
      " y_events: None\n",
      "     nfev: 272\n",
      "     njev: 0\n",
      "      nlu: 0\n"
     ]
    }
   ],
   "source": [
    "params = {\n",
    "    \"L\": 5,  # length of cable\n",
    "    \"m_p\": 1,  # mass of load\n",
    "    \"g\": 9.81,  # acceleration due to gravity\n",
    "    \"r_p\": 0.5,  # radius of load\n",
    "    \"k_p\": 50,  # spring constant of cable\n",
    "    \"zeta\": 0.2  # damping ratio\n",
    "}\n",
    "params[\"rho_cd_A\"] = 1.293 * 0.47 * np.pi * params[\"r_p\"] ** 2\n",
    "\n",
    "# Define initial conditions\n",
    "theta0, r0 = np.radians(-45), params[\"L\"]\n",
    "D_theta0, D_r0 = 0, 0\n",
    "y0 = [theta0, D_theta0, r0, D_r0]\n",
    "y = y0\n",
    "t = 0\n",
    "\n",
    "# Choose ODE function\n",
    "fun = free_pendulum_with_damped_spring_and_drag\n",
    "dy = fun(t, y, params)\n",
    "print(dy)\n",
    "\n",
    "# Simulation parameters\n",
    "t_stop = 5\n",
    "t_step = 0.05\n",
    "t_eval = np.arange(0, t_stop + t_step, t_step)\n",
    "t_span = [0, t_stop]\n",
    "\n",
    "sol = solve_ivp(fun, t_span, y0, t_eval=t_eval, args=(params, ))\n",
    "print(sol)\n",
    "assert sol.status == 0, sol.message"
   ]
  },
  {
   "cell_type": "code",
   "execution_count": 25,
   "id": "a3878074",
   "metadata": {},
   "outputs": [
    {
     "data": {
      "image/png": "[encoded data removed]",
      "text/plain": [
       "<Figure size 640x480 with 1 Axes>"
      ]
     },
     "metadata": {},
     "output_type": "display_data"
    }
   ],
   "source": [
    "plot_pendulum_trajectory(sol, params)\n",
    "plt.show()"
   ]
  },
  {
   "cell_type": "markdown",
   "id": "a4992905",
   "metadata": {},
   "source": [
    "## Pendulum with forced arm tension"
   ]
  },
  {
   "cell_type": "code",
   "execution_count": 26,
   "id": "067ccf1e",
   "metadata": {},
   "outputs": [],
   "source": [
    "def pendulum_with_forced_arm_tension(t, y, params):\n",
    "    \"\"\"\n",
    "    y[0] : angle theta of the pendulum arm (anticlockwise from u_x)\n",
    "    y[1] : dtheta/dt\n",
    "    y[2] : length r of pendulum arm\n",
    "    y[3] : dr/dt\n",
    "    \"\"\"\n",
    "    g = params[\"g\"]\n",
    "    m_p = params[\"m_p\"]\n",
    "    rho_cd_A = params[\"rho_cd_A\"]\n",
    "    L = params[\"L\"]\n",
    "    k_p = params[\"k_p\"]\n",
    "\n",
    "    # Current states\n",
    "    theta, D_theta, r, D_r = y\n",
    "\n",
    "    # Tangential and radial components of acceleration \n",
    "    # due to gravity:\n",
    "    a_gt = -g * np.cos(theta)\n",
    "    a_gr = -g * np.sin(theta)\n",
    "\n",
    "    # Sum of tangential components of acceleration due \n",
    "    # to forces applied:\n",
    "    #  - gravity\n",
    "    a_theta = a_gt\n",
    "\n",
    "    # Exogenous input - tension in cable (+ve = tension)\n",
    "    if t > 1 and t < 3:\n",
    "        T = 20\n",
    "    else:\n",
    "        T = 0\n",
    "\n",
    "    # Radial component of acceleration due to forces\n",
    "    # applied:\n",
    "    #  - gravity\n",
    "    #  - spring tension\n",
    "    a_r = a_gr - T / m_p\n",
    "\n",
    "    D2_r, D2_theta = centripetal_motion_polar_D2(\n",
    "        a_r, r, D_r, a_theta, theta,D_theta)\n",
    "\n",
    "    return [D_theta, D2_theta, D_r, D2_r]"
   ]
  },
  {
   "cell_type": "code",
   "execution_count": 27,
   "id": "380de5fa",
   "metadata": {},
   "outputs": [
    {
     "name": "stdout",
     "output_type": "stream",
     "text": [
      "y0: [-0.7853981633974483, 0, 5, 0]\n",
      "dy0: [0, -1.3873435046880065, 0, 6.936717523440031]\n",
      "  message: The solver successfully reached the end of the integration interval.\n",
      "  success: True\n",
      "   status: 0\n",
      "        t: [ 0.000e+00  5.000e-02 ...  4.950e+00  5.000e+00]\n",
      "        y: [[-7.854e-01 -7.871e-01 ... -2.260e+00 -2.240e+00]\n",
      "            [ 0.000e+00 -6.913e-02 ...  4.068e-01  4.026e-01]\n",
      "            [ 5.000e+00  5.009e+00 ...  1.090e+01  1.133e+01]\n",
      "            [ 0.000e+00  3.474e-01 ...  8.533e+00  9.005e+00]]\n",
      "      sol: None\n",
      " t_events: None\n",
      " y_events: None\n",
      "     nfev: 344\n",
      "     njev: 0\n",
      "      nlu: 0\n"
     ]
    }
   ],
   "source": [
    "params = {\n",
    "    \"L\": 5,  # length of cable\n",
    "    \"m_p\": 1,  # mass of load\n",
    "    \"g\": 9.81,  # acceleration due to gravity\n",
    "    \"r_p\": 0,  # radius of load\n",
    "    \"k_p\": 50,  # spring constant of cable\n",
    "    \"zeta\": 0.2  # damping ratio\n",
    "}\n",
    "params[\"rho_cd_A\"] = 1.293 * 0.47 * np.pi * params[\"r_p\"] ** 2\n",
    "\n",
    "# Define initial conditions\n",
    "theta0, r0 = np.radians(-45), params[\"L\"]\n",
    "D_theta0, D_r0 = 0, 0\n",
    "y0 = [theta0, D_theta0, r0, D_r0]\n",
    "y = y0\n",
    "t = 0\n",
    "\n",
    "# Choose ODE function\n",
    "fun = pendulum_with_forced_arm_tension\n",
    "dy0 = fun(t, y, params)\n",
    "print(f\"y0: {y0}\\ndy0: {dy0}\")\n",
    "\n",
    "# Simulation parameters\n",
    "t_stop = 5\n",
    "t_step = 0.05\n",
    "t_eval = np.arange(0, t_stop + t_step, t_step)\n",
    "t_span = [0, t_stop]\n",
    "\n",
    "rtol = 1e-5\n",
    "atol = 1e-8\n",
    "\n",
    "sol = solve_ivp(fun, t_span, y0, t_eval=t_eval, rtol=rtol, atol=atol, args=(params, ))\n",
    "print(sol)\n",
    "assert sol.status == 0, sol.message"
   ]
  },
  {
   "cell_type": "code",
   "execution_count": 28,
   "id": "1b6d058b",
   "metadata": {},
   "outputs": [
    {
     "data": {
      "image/png": "[encoded data removed]",
      "text/plain": [
       "<Figure size 640x480 with 1 Axes>"
      ]
     },
     "metadata": {},
     "output_type": "display_data"
    }
   ],
   "source": [
    "plot_pendulum_trajectory(sol, params)\n",
    "plt.xlim([-6, 6])\n",
    "plt.ylim([-15, 0.5])\n",
    "plt.show()"
   ]
  },
  {
   "cell_type": "markdown",
   "id": "bca162a8",
   "metadata": {},
   "source": [
    "## Hoist with controlled cable length"
   ]
  },
  {
   "cell_type": "code",
   "execution_count": 29,
   "id": "40b01acd",
   "metadata": {},
   "outputs": [],
   "source": [
    "def hoist_with_controlled_length(t, y, params):\n",
    "    \"\"\"\n",
    "    y[0] : angle theta of the pendulum arm (anticlockwise from u_x)\n",
    "    y[1] : dtheta/dt\n",
    "    y[2] : r, actual length of cable\n",
    "    y[3] : dr/dt\n",
    "    y[4] : L, unstretched length of cable\n",
    "    \"\"\"\n",
    "    g = params[\"g\"]\n",
    "    m_p = params[\"m_p\"]\n",
    "    rho_cd_A = params[\"rho_cd_A\"]\n",
    "    k_p = params[\"k_p\"]\n",
    "    zeta = params[\"zeta\"]\n",
    "    omega_n = params[\"omega_n\"] \n",
    "    K_c = params[\"K_c\"]\n",
    "\n",
    "    # Current states\n",
    "    theta, D_theta, r, D_r, L = y\n",
    "\n",
    "    # Tangential and radial components of acceleration \n",
    "    # due to gravity:\n",
    "    a_gt = -g * np.cos(theta)\n",
    "    a_gr = -g * np.sin(theta)\n",
    "\n",
    "    # Sum of tangential components of acceleration due \n",
    "    # to forces applied:\n",
    "    #  - gravity\n",
    "    a_theta = a_gt\n",
    "\n",
    "    # Centripetal force due to circular motion of mass\n",
    "    F_c = m_p * r * D_theta ** 2\n",
    "\n",
    "    # Set point for cable length\n",
    "    if t < 6:\n",
    "        r_sp = 4\n",
    "    else:\n",
    "        r_sp = 6\n",
    "\n",
    "    # Winch speed controller (d_L -ve = hauling in)\n",
    "    # TODO: Need to make it a PI controller because \n",
    "    # system is an integrator.\n",
    "    # The term F_c / k_p is added to the reference to \n",
    "    # allow for stretch due to centripetal force.\n",
    "    D_L = -np.clip(K_c * (r - (r_sp + F_c / k_p)), -500, 500)\n",
    "    assert(-20 < D_L < 20)\n",
    "\n",
    "    # Coefficient for cable damping term\n",
    "    c = 2 * m_p * omega_n * zeta\n",
    "\n",
    "    # Tension in cable\n",
    "    T = k_p * (r - L) + c * D_r\n",
    "\n",
    "    # Radial component of acceleration due to forces\n",
    "    # applied:\n",
    "    #  - gravity\n",
    "    #  - cable tension\n",
    "    a_r = a_gr - T / m_p\n",
    "\n",
    "    D2_r, D2_theta = centripetal_motion_polar_D2(\n",
    "        a_r, r, D_r, a_theta, theta,D_theta)\n",
    "\n",
    "    return [D_theta, D2_theta, D_r, D2_r, D_L]"
   ]
  },
  {
   "cell_type": "code",
   "execution_count": 30,
   "id": "ac56fc64",
   "metadata": {},
   "outputs": [
    {
     "name": "stdout",
     "output_type": "stream",
     "text": [
      "y0: [-0.7853981633974483, 0, 5, 0, 5]\n",
      "dy0: [0, -1.3873435046880065, 0, 6.936717523440031, -0.5]\n",
      "  message: The solver successfully reached the end of the integration interval.\n",
      "  success: True\n",
      "   status: 0\n",
      "        t: [ 0.000e+00  5.000e-02 ...  1.995e+01  2.000e+01]\n",
      "        y: [[-7.854e-01 -7.871e-01 ... -9.634e-01 -9.900e-01]\n",
      "            [ 0.000e+00 -6.915e-02 ... -5.084e-01 -5.523e-01]\n",
      "            ...\n",
      "            [ 0.000e+00  2.930e-01 ...  1.899e-01  1.984e-01]\n",
      "            [ 5.000e+00  4.975e+00 ...  5.835e+00  5.835e+00]]\n",
      "      sol: None\n",
      " t_events: None\n",
      " y_events: None\n",
      "     nfev: 854\n",
      "     njev: 0\n",
      "      nlu: 0\n"
     ]
    }
   ],
   "source": [
    "params = {\n",
    "    \"m_p\": 1,  # mass of load (kg)\n",
    "    \"g\": 9.81,  # acceleration due to gravity (m.s^-2)\n",
    "    \"r_p\": 0.5,  # radius of load (m)\n",
    "    \"k_p\": 50,  # spring constant of cable\n",
    "    \"zeta\": 0.15,  # damping ratio\n",
    "    \"K_c\": 0.5  # gain of winch controller\n",
    "}\n",
    "\n",
    "# Constants used in aerodynamic drag equation\n",
    "params[\"rho_cd_A\"] = 1.293 * 0.47 * np.pi * params[\"r_p\"] ** 2\n",
    "\n",
    "# Undamped natural frequency of spring-mass system\n",
    "params[\"omega_n\"] = np.sqrt(params[\"k_p\"] / params[\"m_p\"])\n",
    "\n",
    "# Define initial conditions\n",
    "theta0, r0, L0 = np.radians(-45), 5, 5\n",
    "D_theta0, D_r0 = 0, 0\n",
    "y0 = [theta0, D_theta0, r0, D_r0, L0]\n",
    "y = y0\n",
    "t = 0\n",
    "\n",
    "# Choose ODE function\n",
    "fun = hoist_with_controlled_length\n",
    "dy = fun(t, y, params)\n",
    "print(f\"y0: {y0}\\ndy0: {dy}\")\n",
    "\n",
    "# Simulation parameters\n",
    "t_stop = 20\n",
    "t_step = 0.05\n",
    "t_eval = np.arange(0, t_stop + t_step, t_step)\n",
    "t_span = [0, t_stop]\n",
    "\n",
    "sol = solve_ivp(fun, t_span, y0, t_eval=t_eval, args=(params, ))\n",
    "print(sol)\n",
    "assert sol.status == 0, sol.message"
   ]
  },
  {
   "cell_type": "code",
   "execution_count": 31,
   "id": "3d598472",
   "metadata": {},
   "outputs": [
    {
     "data": {
      "image/png": "[encoded data removed]",
      "text/plain": [
       "<Figure size 640x480 with 1 Axes>"
      ]
     },
     "metadata": {},
     "output_type": "display_data"
    }
   ],
   "source": [
    "plot_pendulum_trajectory(sol, params)\n",
    "plt.ylim([-6.5, 0.5])\n",
    "plt.show()"
   ]
  },
  {
   "cell_type": "markdown",
   "id": "22684ad6",
   "metadata": {},
   "source": [
    "## Hoist with controlled cable length and aerodynamic drag"
   ]
  },
  {
   "cell_type": "code",
   "execution_count": 32,
   "id": "fd78265a",
   "metadata": {},
   "outputs": [],
   "source": [
    "def hoist_with_controlled_length_and_drag(t, y, params):\n",
    "    \"\"\"\n",
    "    y[0] : angle theta of the pendulum arm (anticlockwise from u_x)\n",
    "    y[1] : dtheta/dt\n",
    "    y[2] : r, actual length of cable\n",
    "    y[3] : dr/dt\n",
    "    y[4] : L, unstretched length of cable\n",
    "    \"\"\"\n",
    "    g = params[\"g\"]\n",
    "    m_p = params[\"m_p\"]\n",
    "    rho_cd_A = params[\"rho_cd_A\"]\n",
    "    k_p = params[\"k_p\"]\n",
    "    zeta = params[\"zeta\"]\n",
    "    omega_n = params[\"omega_n\"] \n",
    "    K_c = params[\"K_c\"]\n",
    "\n",
    "    # Current states\n",
    "    theta, D_theta, r, D_r, L = y\n",
    "\n",
    "    # Tangential and radial components of acceleration \n",
    "    # due to gravity:\n",
    "    a_gt = -g * np.cos(theta)\n",
    "    a_gr = -g * np.sin(theta)\n",
    "\n",
    "    # Tangential velocity\n",
    "    v_theta = r * D_theta\n",
    "\n",
    "    # Force due to aerodynamic drag\n",
    "    #F_d = 0.5 * rho_cd_A * (D_r ** 2 + v_theta ** 2)\n",
    "\n",
    "    # Tangential component of drag force\n",
    "    F_dt = 0.5 * rho_cd_A * v_theta ** 2\n",
    "\n",
    "    # Radial component of drag force\n",
    "    F_dr = 0.5 * rho_cd_A * D_r ** 2\n",
    "\n",
    "    # Sum of tangential components of acceleration due \n",
    "    # to forces applied:\n",
    "    #  - gravity\n",
    "    #  - aerodynamic drag\n",
    "    a_theta = a_gt - np.sign(D_theta) * F_dt / m_p\n",
    "\n",
    "    # Centripetal force due to circular motion of mass\n",
    "    F_c = m_p * r * D_theta ** 2\n",
    "\n",
    "    # Set point for cable length\n",
    "    if t < 6:\n",
    "        r_sp = 4\n",
    "    else:\n",
    "        r_sp = 6\n",
    "\n",
    "    # Winch speed controller (d_L -ve = hauling in)\n",
    "    # TODO: Need to make it a PI controller because system\n",
    "    # is an integrator\n",
    "    # Allow for stretch due to centripetal force\n",
    "    D_L = -np.clip(K_c * (r - (r_sp + F_c / k_p)), -500, 500)\n",
    "    assert(-20 < D_L < 20)\n",
    "\n",
    "    # Coefficient for cable damping term\n",
    "    c = 2 * m_p * omega_n * zeta\n",
    "\n",
    "    # Tension in cable\n",
    "    T = k_p * (r - L) + c * D_r\n",
    "\n",
    "    # Radial component of acceleration due to forces\n",
    "    # applied:\n",
    "    #  - gravity\n",
    "    #  - cable tension\n",
    "    #  - aerodynamic drag\n",
    "    a_r = a_gr - T / m_p - np.sign(D_r) * F_dr / m_p\n",
    "\n",
    "    D2_r, D2_theta = centripetal_motion_polar_D2(\n",
    "        a_r, r, D_r, a_theta, theta,D_theta)\n",
    "\n",
    "    return [D_theta, D2_theta, D_r, D2_r, D_L]\n"
   ]
  },
  {
   "cell_type": "code",
   "execution_count": 33,
   "id": "f4e19e2e",
   "metadata": {},
   "outputs": [
    {
     "name": "stdout",
     "output_type": "stream",
     "text": [
      "y0: [-0.7853981633974483, 0, 5, 0, 5]\n",
      "dy0: [0, -1.3873435046880065, 0, 6.936717523440031, -0.5]\n",
      "  message: The solver successfully reached the end of the integration interval.\n",
      "  success: True\n",
      "   status: 0\n",
      "        t: [ 0.000e+00  5.000e-02 ...  1.995e+01  2.000e+01]\n",
      "        y: [[-7.854e-01 -7.871e-01 ... -1.576e+00 -1.580e+00]\n",
      "            [ 0.000e+00 -6.905e-02 ... -7.473e-02 -7.373e-02]\n",
      "            ...\n",
      "            [ 0.000e+00  2.927e-01 ...  3.475e-04  1.582e-04]\n",
      "            [ 5.000e+00  4.975e+00 ...  5.802e+00  5.802e+00]]\n",
      "      sol: None\n",
      " t_events: None\n",
      " y_events: None\n",
      "     nfev: 818\n",
      "     njev: 0\n",
      "      nlu: 0\n"
     ]
    }
   ],
   "source": [
    "params = {\n",
    "    \"m_p\": 1,  # mass of load (kg)\n",
    "    \"g\": 9.81,  # acceleration due to gravity (m.s^-2)\n",
    "    \"r_p\": 0.5,  # radius of load (m)\n",
    "    \"k_p\": 50,  # spring constant of cable\n",
    "    \"zeta\": 0.15,  # damping ratio\n",
    "    \"K_c\": 0.5  # gain of winch controller\n",
    "}\n",
    "\n",
    "# Constants used in aerodynamic drag equation\n",
    "params[\"rho_cd_A\"] = 1.293 * 0.47 * np.pi * params[\"r_p\"] ** 2\n",
    "\n",
    "# Undamped natural frequency of spring-mass system\n",
    "params[\"omega_n\"] = np.sqrt(params[\"k_p\"] / params[\"m_p\"])\n",
    "\n",
    "# Define initial conditions\n",
    "theta0, r0, L0 = np.radians(-45), 5, 5\n",
    "D_theta0, D_r0 = 0, 0\n",
    "y0 = [theta0, D_theta0, r0, D_r0, L0]\n",
    "y = y0\n",
    "t = 0\n",
    "\n",
    "# Choose ODE function\n",
    "fun = hoist_with_controlled_length_and_drag\n",
    "dy = fun(t, y, params)\n",
    "print(f\"y0: {y0}\\ndy0: {dy}\")\n",
    "\n",
    "# Simulation parameters\n",
    "t_stop = 20\n",
    "t_step = 0.05\n",
    "t_eval = np.arange(0, t_stop + t_step, t_step)\n",
    "t_span = [0, t_stop]\n",
    "\n",
    "sol = solve_ivp(fun, t_span, y0, t_eval=t_eval, args=(params, ))\n",
    "print(sol)\n",
    "assert sol.status == 0, sol.message"
   ]
  },
  {
   "cell_type": "code",
   "execution_count": 34,
   "id": "d0cc85bc",
   "metadata": {},
   "outputs": [
    {
     "data": {
      "image/png": "[encoded data removed]",
      "text/plain": [
       "<Figure size 640x480 with 1 Axes>"
      ]
     },
     "metadata": {},
     "output_type": "display_data"
    }
   ],
   "source": [
    "plot_pendulum_trajectory(sol, params)\n",
    "plt.ylim([-6.5, 0.5])\n",
    "plt.show()"
   ]
  },
  {
   "cell_type": "code",
   "execution_count": null,
   "id": "eccdc928",
   "metadata": {},
   "outputs": [],
   "source": []
  },
  {
   "cell_type": "code",
   "execution_count": null,
   "id": "115b5417",
   "metadata": {},
   "outputs": [],
   "source": []
  },
  {
   "cell_type": "code",
   "execution_count": null,
   "id": "16f1994d",
   "metadata": {},
   "outputs": [],
   "source": []
  },
  {
   "cell_type": "code",
   "execution_count": null,
   "id": "46b40c97",
   "metadata": {},
   "outputs": [],
   "source": []
  }
 ],
 "metadata": {
  "kernelspec": {
   "display_name": "Python (torch)",
   "language": "python",
   "name": "torch"
  },
  "language_info": {
   "codemirror_mode": {
    "name": "ipython",
    "version": 3
   },
   "file_extension": ".py",
   "mimetype": "text/x-python",
   "name": "python",
   "nbconvert_exporter": "python",
   "pygments_lexer": "ipython3",
   "version": "3.9.15"
  }
 },
 "nbformat": 4,
 "nbformat_minor": 5
}

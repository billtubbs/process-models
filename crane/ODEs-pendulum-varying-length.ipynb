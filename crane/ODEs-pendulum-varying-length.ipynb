{
 "cells": [
  {
   "cell_type": "markdown",
   "id": "ef34f5ed",
   "metadata": {},
   "source": [
    "# Differential equations for a pendulum with time-varying length"
   ]
  },
  {
   "cell_type": "markdown",
   "id": "a6ed159a",
   "metadata": {},
   "source": [
    "Based on derivations from\n",
    " - https://en.wikipedia.org/wiki/Centripetal_force#Nonuniform_circular_motion"
   ]
  },
  {
   "cell_type": "code",
   "execution_count": 1,
   "id": "ad9b047d",
   "metadata": {},
   "outputs": [],
   "source": [
    "import numpy as np\n",
    "from scipy.integrate import solve_ivp\n",
    "import matplotlib.pyplot as plt"
   ]
  },
  {
   "cell_type": "markdown",
   "id": "dc88c2e5",
   "metadata": {},
   "source": [
    "## General planar motion\n",
    "(not limited to circular motion)"
   ]
  },
  {
   "cell_type": "markdown",
   "id": "25dfc2e1",
   "metadata": {},
   "source": [
    "Position of the point load at the end of pendulum arm relative to pivot:\n",
    "\n",
    "$$\\mathbf{r} = r \\cos{(\\theta)} \\mathbf{u}_x + r \\sin{(\\theta)} \\mathbf{u}_y$$\n",
    "\n",
    "where $\\mathbf{u}_x$ and $\\mathbf{u}_y$ are unit vectors in the cartesian plane, and $r$, $\\theta$ may be time varying"
   ]
  },
  {
   "cell_type": "markdown",
   "id": "d1c933c5",
   "metadata": {},
   "source": [
    "Translate into a polar co-ordinate system which has a radial unit vector $\\mathbf{u}_\\rho$ and an angular unit vector $\\mathbf{u}_\\theta$, and moves with the particle.\n",
    "\n",
    "<img src=\"images/Polar_unit_vectors.png\" width=\"40%\">\n",
    "\n",
    "\n",
    "$$\\mathbf{r} = \\rho \\mathbf{u}_\\rho$$\n",
    "\n",
    "The unit vector $\\mathbf{u}_p$ travels with the particle and always points in the same direction as $\\mathbf{r}(t)$. Unit vector $\\mathbf{u}_\\theta$ also travels with the particle and remains orthogonal to $\\mathbf{u}_\\rho$. Thus, $\\mathbf{u}_\\rho$ and $\\mathbf{u}_\\theta$ form a local Cartesian coordinate system attached to the particle, and tied to the path traveled by the particle."
   ]
  },
  {
   "cell_type": "code",
   "execution_count": 2,
   "id": "1a8991cc",
   "metadata": {},
   "outputs": [],
   "source": [
    "def xy_to_polar(x, y):\n",
    "    theta = np.arctan2(y, x)\n",
    "    L = np.sqrt(x**2 + y**2)\n",
    "    return [L, theta]\n",
    "\n",
    "assert(xy_to_polar(0, 0) == [0, 0])\n",
    "assert(xy_to_polar(1, 0) == [1, 0])\n",
    "assert(xy_to_polar(0, 2) == [2, 0.5*np.pi])\n",
    "assert(xy_to_polar(-3, 0) == [3, np.pi])\n",
    "assert(np.all(np.isclose(xy_to_polar(3, -4), [5, -np.radians(53.13)])))\n",
    "\n",
    "def polar_to_xy(L, theta):\n",
    "    x = L * np.cos(theta)\n",
    "    y = L * np.sin(theta)\n",
    "    return [x, y]"
   ]
  },
  {
   "cell_type": "markdown",
   "id": "18d8a50f",
   "metadata": {},
   "source": [
    "Velocity of the particle:\n",
    "\n",
    "$$\\mathbf{v} = \\frac{d\\rho}{dt} \\mathbf{u}_p + \\rho \\frac{d\\mathbf{u}_p}{dt}$$\n",
    "\n",
    "where $\\rho$ is used to describe the distance of the path from the origin instead of $r$ to emphasize that it is time-varying."
   ]
  },
  {
   "cell_type": "markdown",
   "id": "71293bbc",
   "metadata": {},
   "source": [
    "Considering that $\\mathbf{u}_p$ and $\\mathbf{u}_\\theta$ always form a right-angled pair with tips on the unit circle, their time derivatives are \n",
    "\n",
    "$$\\frac{d\\mathbf{u}_\\rho}{dt} = \\mathbf{u}_\\theta \\frac{d\\theta}{dt},\n",
    "\\frac{d\\mathbf{u}_\\theta}{dt} = - \\frac{d\\theta}{dt} \\mathbf{u}_\\rho$$\n",
    "\n",
    "Note: in the image above, to maintain orthogonality, if $d\\mathbf{u}_\\rho$ is positive with $d\\theta$, then $d\\mathbf{u}_\\theta$ must decrease."
   ]
  },
  {
   "cell_type": "markdown",
   "id": "91cedf72",
   "metadata": {},
   "source": [
    "Substituting above into the equation for velocity gives\n",
    "\n",
    "$$\\mathbf{v} = \\frac{d\\rho}{dt} \\mathbf{u}_\\rho + \\rho \\mathbf{u}_\\theta \\frac{d\\theta}{dt}$$"
   ]
  },
  {
   "cell_type": "markdown",
   "id": "43a04d66",
   "metadata": {},
   "source": [
    "To obtain the acceleration, differentiate again w.r.t. time\n",
    "\n",
    "$$\n",
    "\\begin{aligned}\n",
    "    \\mathbf{a} &= \\frac{d}{dt} \\left[ \n",
    "        \\frac{d\\rho}{dt} \\mathbf{u}_\\rho + \\rho \\mathbf{u}_\\theta \\frac{d\\theta}{dt}\n",
    "    \\right] \\\\\n",
    "    &= \\frac{d^2\\rho}{{dt}^2} \\mathbf{u}_\\rho \n",
    "        + \\frac{d\\rho}{dt} \\frac{d\\mathbf{u}_\\rho}{dt}\n",
    "        + \\frac{d\\rho}{dt} \\mathbf{u}_\\theta \\frac{d\\theta}{dt}\n",
    "        + \\rho \\frac{d\\mathbf{u}_\\theta}{dt} \\frac{d\\theta}{dt}\n",
    "        + \\rho \\mathbf{u}_\\theta \\frac{d^2\\theta}{{dt}^2} \\\\\n",
    "    &= \\frac{d^2\\rho}{{dt}^2} \\mathbf{u}_\\rho \n",
    "        + \\frac{d\\rho}{dt} \\mathbf{u}_\\theta \\frac{d\\theta}{dt}\n",
    "        + \\frac{d\\rho}{dt} \\mathbf{u}_\\theta \\frac{d\\theta}{dt}\n",
    "        - \\rho \\frac{d\\theta}{dt} \\mathbf{u}_\\rho \\frac{d\\theta}{dt}\n",
    "        + \\rho \\mathbf{u}_\\theta \\frac{d^2\\theta}{{dt}^2} \\\\\n",
    "    &= \\frac{d^2\\rho}{{dt}^2} \\mathbf{u}_\\rho\n",
    "        + 2 \\frac{d\\rho}{dt} \\mathbf{u}_\\theta \\frac{d\\theta}{dt}\n",
    "        - \\rho \\mathbf{u}_\\rho \\left(\\frac{d\\theta}{dt}\\right)^2\n",
    "        + \\rho \\mathbf{u}_\\theta \\frac{d^2\\theta}{{dt}^2} \\\\\n",
    "    &= \\mathbf{u}_\\rho \\left[ \n",
    "            \\frac{d^2\\rho}{{dt}^2}\n",
    "            - \\rho \\left(\\frac{d\\theta}{dt}\\right)^2 \\right]\n",
    "        + \\mathbf{u}_\\theta \\left[\n",
    "            2 \\frac{d\\rho}{dt} \\frac{d\\theta}{dt} \n",
    "            + \\rho \\frac{d^2\\theta}{{dt}^2} \\right]\n",
    "\\end{aligned}\n",
    "$$"
   ]
  },
  {
   "cell_type": "markdown",
   "id": "d5c20573",
   "metadata": {},
   "source": [
    "Since $\\frac{d\\rho}{dt} = v_p$ and $\\rho \\frac{d\\theta}{dt} = v_\\theta$, we can also write\n",
    "\n",
    "$$\n",
    "\\mathbf{a} = \\mathbf{u}_\\rho \\left[ \n",
    "            \\frac{dv_p}{dt}\n",
    "            - \\frac{v_\\theta^2}{\\rho} \\right]\n",
    "        + \\mathbf{u}_\\theta \\left[\n",
    "            \\frac{2 v_p v_\\theta}{\\rho} \n",
    "            + \\rho \\frac{d}{dt} \\left( \\frac{v_\\theta}{\\rho} \\right) \\right]\n",
    "$$"
   ]
  },
  {
   "cell_type": "markdown",
   "id": "57c31019",
   "metadata": {},
   "source": [
    "For comparison, the case of circular motion when $\\frac{d\\rho}{dt} = v_p = 0$, $\\mathbf{v} = \\mathbf{v_\\theta}$, and $v = v_\\theta = \\rho\\frac{d\\theta}{dt}$:\n",
    "\n",
    "$$\n",
    "\\begin{aligned}\n",
    "\\mathbf{a} &= \\mathbf{u}_\\rho \\left[ \n",
    "            - \\rho \\left( \\frac{d\\theta}{dt} \\right)^2 \\right]\n",
    "        + \\mathbf{u}_\\theta \\left[\n",
    "            \\rho \\frac{d^2\\theta}{{dt}^2} \\right] \\\\\n",
    "            &= \\mathbf{u}_\\rho \\left[ \n",
    "            - \\frac{v^2}{r} \\right]\n",
    "        + \\mathbf{u}_\\theta \\left[\n",
    "            \\frac{dv}{dt} \\right]\n",
    "\\end{aligned}\n",
    "$$"
   ]
  },
  {
   "cell_type": "markdown",
   "id": "1f106845",
   "metadata": {},
   "source": [
    "## Pendulum system equations\n",
    "\n",
    "Deriving the differential equation\n",
    "\n",
    "Using Newton's second law ($\\mathbf{F} = m \\mathbf{a})$)\n",
    "\n",
    "$$\\mathbf{N} + \\mathbf{G_p} = m_p \\mathbf{a}$$\n",
    "\n",
    "where $\\mathbf{N} = N_x \\mathbf{u}_x + N_y \\mathbf{u}_y$ is the force on the pendulum arm due to pivot, and $\\mathbf{G_p} = -m_p g \\mathbf{u}_y$ is the downwards force on the mass due to gravity."
   ]
  },
  {
   "cell_type": "markdown",
   "id": "e3e29079",
   "metadata": {},
   "source": [
    "$$\\mathbf{N} - m_p g \\mathbf{u}_y = m_p \\mathbf{a}$$"
   ]
  },
  {
   "cell_type": "markdown",
   "id": "460d5521",
   "metadata": {},
   "source": [
    "Equation from above is in the polar frame of refernce:\n",
    "\n",
    "$$\n",
    "\\begin{aligned}\n",
    "\\mathbf{a} &= \\mathbf{u}_\\rho \\left[ \n",
    "            \\frac{d^2\\rho}{{dt}^2}\n",
    "            - \\rho \\left(\\frac{d\\theta}{dt}\\right)^2 \\right]\n",
    "        + \\mathbf{u}_\\theta \\left[\n",
    "            2 \\frac{d\\rho}{dt} \\frac{d\\theta}{dt} \n",
    "            + \\rho \\frac{d^2\\theta}{{dt}^2} \\right] \\\\\n",
    "            &= a_\\rho \\mathbf{u}_\\rho\n",
    "        + a_\\theta \\mathbf{u}_\\theta\n",
    "\\end{aligned}\n",
    "$$\n",
    "\n",
    "Translate it into cartesian co-ordinates."
   ]
  },
  {
   "cell_type": "markdown",
   "id": "e8e1c5ca",
   "metadata": {},
   "source": [
    "From the definition of the co-ordinate systems above,\n",
    "\n",
    "$$\n",
    "\\begin{aligned}\n",
    "\\mathbf{u}_\\rho &= \\mathbf{u}_x \\cos(\\theta) + \\mathbf{u}_y \\sin(\\theta) \\\\\n",
    "\\mathbf{u}_\\theta &= -\\mathbf{u}_x \\sin(\\theta) + \\mathbf{u}_y \\cos(\\theta)\n",
    "\\end{aligned}\n",
    "$$"
   ]
  },
  {
   "cell_type": "code",
   "execution_count": 3,
   "id": "6fbcf1df",
   "metadata": {},
   "outputs": [],
   "source": [
    "def xy_vector_to_polar(theta, v_x, v_y):\n",
    "    h = np.cos(theta) ** 2 + np.sin(theta) ** 2\n",
    "    u_L = (v_x * np.cos(theta) + v_y * np.sin(theta)) / h\n",
    "    u_theta = (v_y * np.cos(theta) - v_x * np.sin(theta)) / h\n",
    "    return [u_L, u_theta]\n",
    "\n",
    "assert(xy_vector_to_polar(0, 0, 0) == [0, 0])\n",
    "assert(xy_vector_to_polar(0, 1, 0) == [1, 0])\n",
    "assert(xy_vector_to_polar(0, 0, 2) == [0, 2])\n",
    "assert(np.all(np.isclose(xy_vector_to_polar(0.25*np.pi, 2, 0), [np.sqrt(2), -np.sqrt(2)])))\n",
    "assert(np.all(np.isclose(xy_vector_to_polar(0.5*np.pi, 4, 3), [3, -4])))\n",
    "assert(np.all(np.isclose(xy_vector_to_polar(1.5*np.pi, 2, 0), [0, 2])))\n",
    "\n",
    "def polar_vector_to_xy(theta, u_L, u_theta):\n",
    "    v_x = u_L * np.cos(theta) - u_theta * np.sin(theta)\n",
    "    v_y = u_L * np.sin(theta) + u_theta * np.cos(theta)\n",
    "    return [v_x, v_y]\n",
    "\n",
    "assert(polar_vector_to_xy(0, 0, 0) == [0, 0])\n",
    "assert(polar_vector_to_xy(0, 1, 0) == [1, 0])\n",
    "assert(polar_vector_to_xy(0, 0, 2) == [0, 2])\n",
    "assert(np.all(np.isclose(polar_vector_to_xy(0.25*np.pi, 2, 0), [np.sqrt(2), np.sqrt(2)])))\n",
    "assert(np.all(np.isclose(polar_vector_to_xy(0.5*np.pi, 4, 3), [-3, 4])))\n",
    "assert(np.all(np.isclose(polar_vector_to_xy(1.5*np.pi, 2, 0), [0, -2])))\n",
    "\n",
    "# Check round trip\n",
    "v1, v2 = np.random.randn(2)\n",
    "theta = np.random.random() * 2 * np.pi\n",
    "v_x, v_y = polar_vector_to_xy(theta, v1, v2)\n",
    "assert(np.all(np.isclose(xy_vector_to_polar(theta, v_x, v_y), [v1, v2])))\n",
    "v_L, v_theta = xy_vector_to_polar(theta, v1, v2)\n",
    "assert(np.all(np.isclose(polar_vector_to_xy(theta, v_L, v_theta), [v1, v2])))"
   ]
  },
  {
   "cell_type": "markdown",
   "id": "2a8128e8",
   "metadata": {},
   "source": [
    "Therefore we can write\n",
    "\n",
    "$$\n",
    "\\mathbf{a} = \n",
    "    \\left( \\mathbf{u}_x \\cos(\\theta) + \\mathbf{u}_y \\sin(\\theta) \\right) \n",
    "             \\left[ \\frac{d^2\\rho}{{dt}^2}\n",
    "                - \\rho \\left(\\frac{d\\theta}{dt}\\right)^2 \\right]\n",
    "    + \\left( -\\mathbf{u}_x \\sin(\\theta) + \\mathbf{u}_y \\cos(\\theta) \\right)\n",
    "             \\left[ 2 \\frac{d\\rho}{dt} \\frac{d\\theta}{dt} \n",
    "                + \\rho \\frac{d^2\\theta}{{dt}^2} \\right]\n",
    "$$"
   ]
  },
  {
   "cell_type": "markdown",
   "id": "d658e0ca",
   "metadata": {},
   "source": [
    "Decomposing into x and y directions,\n",
    "\n",
    "$$\n",
    "\\begin{aligned}\n",
    "a_x &= \n",
    "    \\cos(\\theta) \n",
    "             \\left[ \\frac{d^2\\rho}{{dt}^2}\n",
    "                - \\rho \\left(\\frac{d\\theta}{dt}\\right)^2 \\right]\n",
    "    - \\sin(\\theta)\n",
    "             \\left[ 2 \\frac{d\\rho}{dt} \\frac{d\\theta}{dt} \n",
    "                + \\rho \\frac{d^2\\theta}{{dt}^2} \\right] \\\\\n",
    "a_y &= \n",
    "    \\sin(\\theta) \n",
    "             \\left[ \\frac{d^2\\rho}{{dt}^2}\n",
    "                - \\rho \\left(\\frac{d\\theta}{dt}\\right)^2 \\right]\n",
    "    + \\cos(\\theta)\n",
    "             \\left[ 2 \\frac{d\\rho}{dt} \\frac{d\\theta}{dt} \n",
    "                + \\rho \\frac{d^2\\theta}{{dt}^2} \\right]\n",
    "\\end{aligned}\n",
    "$$"
   ]
  },
  {
   "cell_type": "markdown",
   "id": "582dd13b",
   "metadata": {},
   "source": [
    "or\n",
    "\n",
    "$$\n",
    "\\begin{aligned}\n",
    "a_x &= a_\\rho \\cos(\\theta)\n",
    "        - a_\\theta \\sin(\\theta) \\\\\n",
    "a_y &= a_\\rho \\sin(\\theta) \n",
    "        + a_\\theta \\cos(\\theta)\n",
    "\\end{aligned}\n",
    "$$\n",
    "\n",
    "where\n",
    "\n",
    "$$\n",
    "a_\\rho = \\frac{d^2\\rho}{{dt}^2}\n",
    "                - \\rho \\left(\\frac{d\\theta}{dt}\\right)^2 \\\\\n",
    "a_\\theta = 2 \\frac{d\\rho}{dt} \\frac{d\\theta}{dt} \n",
    "                + \\rho \\frac{d^2\\theta}{{dt}^2}   \n",
    "$$"
   ]
  },
  {
   "cell_type": "code",
   "execution_count": 4,
   "id": "96690c05",
   "metadata": {},
   "outputs": [],
   "source": [
    "def acceleration_components_polar(L, D_L, D2_L, theta, D_theta, D2_theta):\n",
    "    a_L = D2_L - L * (D_theta) ** 2\n",
    "    a_theta = 2 * D_L * D_theta + L * D2_theta\n",
    "    return a_L, a_theta"
   ]
  },
  {
   "cell_type": "code",
   "execution_count": 5,
   "id": "38a82177",
   "metadata": {},
   "outputs": [
    {
     "data": {
      "text/plain": [
       "(0, 5)"
      ]
     },
     "execution_count": 5,
     "metadata": {},
     "output_type": "execute_result"
    }
   ],
   "source": [
    "L = 5\n",
    "D_L = 0\n",
    "D2_L = 0\n",
    "theta = 0\n",
    "D_theta = 0\n",
    "D2_theta = 1\n",
    "a_L, a_theta = acceleration_components_polar(L, D_L, D2_L, theta, D_theta, D2_theta)\n",
    "a_L, a_theta"
   ]
  },
  {
   "cell_type": "markdown",
   "id": "bce84f9f",
   "metadata": {},
   "source": [
    "### Free (unforced) pendulum\n",
    "\n",
    "Substituting these equations into the $(\\mathbf{F} = m \\mathbf{a})$ equation above and assuming $\\mathbf{N}=0$, \n",
    "\n",
    "$$- m_p g \\mathbf{u}_y = m_p \\mathbf{a}$$\n",
    "\n",
    "Therefore\n",
    "\n",
    "$$\n",
    "\\begin{aligned}\n",
    "0 &= a_\\rho \\cos(\\theta)\n",
    "        - a_\\theta \\sin(\\theta) \\\\\n",
    "-g &= a_\\rho \\sin(\\theta) \n",
    "        + a_\\theta \\cos(\\theta)\n",
    "\\end{aligned}\n",
    "$$"
   ]
  },
  {
   "cell_type": "markdown",
   "id": "975f78cc",
   "metadata": {},
   "source": [
    "Substituting $a_\\rho$ and $a_\\theta$ with expressions above\n",
    "\n",
    "$$\n",
    "\\begin{aligned}\n",
    "0 &= \\left( \\frac{d^2\\rho}{{dt}^2}\n",
    "                - \\rho \\left(\\frac{d\\theta}{dt}\\right)^2 \\right) \\cos(\\theta)\n",
    "        - \\left( 2 \\frac{d\\rho}{dt} \\frac{d\\theta}{dt} \n",
    "                + \\rho \\frac{d^2\\theta}{{dt}^2} \\right) \\sin(\\theta) \\\\\n",
    "-g &= \\left( \\frac{d^2\\rho}{{dt}^2}\n",
    "                - \\rho \\left(\\frac{d\\theta}{dt}\\right)^2 \\right) \\sin(\\theta) \n",
    "        + \\left( 2 \\frac{d\\rho}{dt} \\frac{d\\theta}{dt} \n",
    "                + \\rho \\frac{d^2\\theta}{{dt}^2} \\right) \\cos(\\theta)\n",
    "\\end{aligned}\n",
    "$$"
   ]
  },
  {
   "cell_type": "code",
   "execution_count": 6,
   "id": "669ee6e2",
   "metadata": {},
   "outputs": [],
   "source": [
    "# Free unforced pendulum with no friction, and fixed length\n",
    "\n",
    "# For reasons that may later turn out to true, I am \n",
    "# adopting the x-y co-ordinate system for the state \n",
    "# representation:\n",
    "#\n",
    "# y[0] : x position of pendulum mass\n",
    "# y[1] : dx/dt\n",
    "# y[2] : y position of pendulum mass\n",
    "# y[3] : dy/dt\n",
    "#\n",
    "\n",
    "def free_pendulum_fixed_length(t, y, params):\n",
    "    \"\"\"\n",
    "    y[0] : x position of pendulum mass\n",
    "    y[1] : dx/dt\n",
    "    y[2] : y position of pendulum mass\n",
    "    y[3] : dy/dt\n",
    "    \"\"\"\n",
    "    g = params[\"g\"]\n",
    "\n",
    "    # Current states\n",
    "    x, D_x, y, D_y = y\n",
    "\n",
    "    # Convert position to polar co-ordinates\n",
    "    [L, theta] = xy_to_polar(x, y)\n",
    "\n",
    "    # Convert velocity to polar co-ordinates\n",
    "    D_L, v_theta = xy_vector_to_polar(theta, D_x, D_y)\n",
    "\n",
    "    # Convert tangential velocity to angular velocity\n",
    "    D_theta = v_theta / L\n",
    "\n",
    "    # Angular acceleration based on forces applied\n",
    "    #  - only gravity here\n",
    "    D2_theta = -g * np.cos(theta) / L\n",
    "\n",
    "    # Compute radial and tangential acceleration of pendulum mass\n",
    "    a_L, a_theta = acceleration_components_polar(L, D_L, D2_L, theta, D_theta, D2_theta)\n",
    "\n",
    "    # Convert back to xy co-ordinates\n",
    "    D2_x, D2_y = polar_vector_to_xy(theta, a_L, a_theta)\n",
    "\n",
    "    return [D_x, D2_x, D_y, D2_y]"
   ]
  },
  {
   "cell_type": "code",
   "execution_count": 7,
   "id": "fde158d1",
   "metadata": {},
   "outputs": [
    {
     "name": "stdout",
     "output_type": "stream",
     "text": [
      "[0, -4.905, 0, -4.905000000000001]\n"
     ]
    },
    {
     "data": {
      "text/plain": [
       "  message: The solver successfully reached the end of the integration interval.\n",
       "  success: True\n",
       "   status: 0\n",
       "        t: [ 0.000e+00  1.000e-02 ...  3.990e+00  4.000e+00]\n",
       "        y: [[ 3.536e+00  3.535e+00 ...  2.335e+00  2.371e+00]\n",
       "            [ 0.000e+00 -4.905e-02 ...  3.687e+00  3.630e+00]\n",
       "            [-3.536e+00 -3.536e+00 ... -4.431e+00 -4.412e+00]\n",
       "            [ 0.000e+00 -4.905e-02 ...  1.935e+00  1.944e+00]]\n",
       "      sol: None\n",
       " t_events: None\n",
       " y_events: None\n",
       "     nfev: 80\n",
       "     njev: 0\n",
       "      nlu: 0"
      ]
     },
     "execution_count": 7,
     "metadata": {},
     "output_type": "execute_result"
    }
   ],
   "source": [
    "params = {\n",
    "    \"L\": 5,  # length of cable\n",
    "    \"g\": 9.81  # acceleration due to gravity\n",
    "}\n",
    "\n",
    "x0, y0 = polar_to_xy(params[\"L\"], -np.pi/4)\n",
    "vx0, vy0 = 0, 0\n",
    "y0 = [x0, vx0, y0, vy0]\n",
    "y = y0\n",
    "t = 0\n",
    "\n",
    "dy = free_pendulum_fixed_length(t, y, params)\n",
    "print(dy)\n",
    "\n",
    "fun = free_pendulum_fixed_length\n",
    "t_stop = 4\n",
    "t_step = 0.01\n",
    "t_eval = np.arange(0, t_stop + t_step, t_step)\n",
    "\n",
    "t_span = [0, t_stop]\n",
    "sol = solve_ivp(fun, t_span, y0, t_eval=t_eval, args=(params, ))\n",
    "if sol.status != 0:\n",
    "    print(sol.message)\n",
    "sol"
   ]
  },
  {
   "cell_type": "code",
   "execution_count": 8,
   "id": "f101295c",
   "metadata": {},
   "outputs": [
    {
     "data": {
      "image/png": "[encoded data removed]",
      "text/plain": [
       "<Figure size 640x480 with 1 Axes>"
      ]
     },
     "metadata": {},
     "output_type": "display_data"
    }
   ],
   "source": [
    "# Function to plot trajectory\n",
    "def plot_pendulum_trajectory(sol, params):\n",
    "\n",
    "    x, vx, y, vy = sol.y\n",
    "    t = sol.t\n",
    "    nT = len(t)\n",
    "    selected_points = np.arange(0, nT, step=(nT - 1) // 10)\n",
    "    r_p = params.get('r_p', 0.25)\n",
    "    \n",
    "    ax = plt.gca()\n",
    "\n",
    "    circ = plt.Circle((0, 0), params['L'], facecolor='none', edgecolor='grey')\n",
    "    ax.add_patch(circ)\n",
    "\n",
    "    load = plt.Circle((y0[0], y0[2]), r_p, color='r')\n",
    "    ax.add_patch(load)\n",
    "\n",
    "    ax.plot(x, y)\n",
    "    ax.plot([0, y0[0]], [0, y0[2]], '-ro')\n",
    "    ax.plot(x[selected_points], y[selected_points], 'ko')\n",
    "    for p in selected_points:\n",
    "        ax.annotate(f\"{t[p]:.1f}\", (x[p] - 0.25, y[p] - 0.4))\n",
    "    ax.set_xlim([-5.5, 5.5])\n",
    "    ax.set_ylim([-6, 0.5])\n",
    "    ax.set_xlabel(\"x\")\n",
    "    ax.set_ylabel(\"y\")\n",
    "    ax.set_aspect('equal')\n",
    "    ax.grid()\n",
    "\n",
    "plot_pendulum_trajectory(sol, params)\n",
    "plt.show()"
   ]
  },
  {
   "cell_type": "markdown",
   "id": "9a71deb1",
   "metadata": {},
   "source": [
    "## Add aerodynamic drag"
   ]
  },
  {
   "cell_type": "code",
   "execution_count": 9,
   "id": "505b4d19",
   "metadata": {},
   "outputs": [],
   "source": [
    "def free_pendulum_with_drag(t, y, params):\n",
    "    \"\"\"\n",
    "    y[0] : x position of pendulum mass\n",
    "    y[1] : dx/dt\n",
    "    y[2] : y position of pendulum mass\n",
    "    y[3] : dy/dt\n",
    "    \"\"\"\n",
    "    g = params[\"g\"]\n",
    "    rho_cd_A = params[\"rho_cd_A\"]\n",
    "    L = params[\"L\"]\n",
    "    m_p = params[\"m_p\"]\n",
    "\n",
    "    # Current states\n",
    "    x, D_x, y, D_y = y\n",
    "\n",
    "    # Convert position to polar co-ordinates\n",
    "    [L, theta] = xy_to_polar(x, y)\n",
    "\n",
    "    # Convert velocity to polar co-ordinates\n",
    "    D_L, v_theta = xy_vector_to_polar(theta, D_x, D_y)\n",
    "\n",
    "    # Convert tangential velocity to angular velocity\n",
    "    D_theta = v_theta / L\n",
    "\n",
    "    # Force due to aerodynamic drag\n",
    "    #F_d = 0.5 * rho_cd_A * (D_r ** 2 + v_theta ** 2)\n",
    "\n",
    "    # Component of drag force in opposite direction to \n",
    "    # velocity of load\n",
    "    F_dtheta = 0.5 * rho_cd_A * D_theta ** 2\n",
    "\n",
    "    # Angular acceleration based on forces applied:\n",
    "    #  - gravity\n",
    "    #  - aerodynamic drag\n",
    "    D2_theta = -g * np.cos(theta) / L - np.sign(D_theta) * F_dtheta / m_p\n",
    "\n",
    "    # Compute radial and tangential acceleration of pendulum mass\n",
    "    a_L, a_theta = acceleration_components_polar(L, D_L, D2_L, theta, D_theta, D2_theta)\n",
    "\n",
    "    # Convert back to xy co-ordinates\n",
    "    D2_x, D2_y = polar_vector_to_xy(theta, a_L, a_theta)\n",
    "\n",
    "    return [D_x, D2_x, D_y, D2_y]"
   ]
  },
  {
   "cell_type": "code",
   "execution_count": 10,
   "id": "796cbe37",
   "metadata": {},
   "outputs": [
    {
     "name": "stdout",
     "output_type": "stream",
     "text": [
      "[0, -4.905, 0, -4.905000000000001]\n"
     ]
    },
    {
     "data": {
      "text/plain": [
       "  message: The solver successfully reached the end of the integration interval.\n",
       "  success: True\n",
       "   status: 0\n",
       "        t: [ 0.000e+00  1.000e-02 ...  3.990e+00  4.000e+00]\n",
       "        y: [[ 3.536e+00  3.535e+00 ...  1.623e+00  1.649e+00]\n",
       "            [ 0.000e+00 -4.905e-02 ...  2.642e+00  2.603e+00]\n",
       "            [-3.536e+00 -3.536e+00 ... -4.722e+00 -4.713e+00]\n",
       "            [ 0.000e+00 -4.904e-02 ...  9.090e-01  9.118e-01]]\n",
       "      sol: None\n",
       " t_events: None\n",
       " y_events: None\n",
       "     nfev: 68\n",
       "     njev: 0\n",
       "      nlu: 0"
      ]
     },
     "execution_count": 10,
     "metadata": {},
     "output_type": "execute_result"
    }
   ],
   "source": [
    "params = {\n",
    "    \"L\": 5,  # length of cable\n",
    "    \"m_p\": 1,  # mass of load\n",
    "    \"g\": 9.81,  # acceleration due to gravity\n",
    "    \"r_p\": 0.5  # radius of load\n",
    "}\n",
    "params[\"rho_cd_A\"] = 1.293 * 0.47 * np.pi * params[\"r_p\"] ** 2\n",
    "\n",
    "x0, y0 = polar_to_xy(params[\"L\"], -np.pi/4)\n",
    "vx0, vy0 = 0, 0\n",
    "y0 = [x0, vx0, y0, vy0]\n",
    "y = y0\n",
    "t = 0\n",
    "\n",
    "dy = free_pendulum_with_drag(t, y, params)\n",
    "print(dy)\n",
    "\n",
    "fun = free_pendulum_with_drag\n",
    "t_stop = 4\n",
    "t_step = 0.01\n",
    "t_eval = np.arange(0, t_stop + t_step, t_step)\n",
    "\n",
    "t_span = [0, t_stop]\n",
    "sol = solve_ivp(fun, t_span, y0, t_eval=t_eval, args=(params, ))\n",
    "if sol.status != 0:\n",
    "    print(sol.message)\n",
    "sol"
   ]
  },
  {
   "cell_type": "code",
   "execution_count": 11,
   "id": "fce59391",
   "metadata": {},
   "outputs": [
    {
     "data": {
      "image/png": "[encoded data removed]",
      "text/plain": [
       "<Figure size 640x480 with 1 Axes>"
      ]
     },
     "metadata": {},
     "output_type": "display_data"
    }
   ],
   "source": [
    "plot_pendulum_trajectory(sol, params)\n",
    "plt.show()"
   ]
  },
  {
   "cell_type": "markdown",
   "id": "3da5ebe0",
   "metadata": {},
   "source": [
    "## Free pendulum with spring arm"
   ]
  },
  {
   "cell_type": "code",
   "execution_count": 12,
   "id": "4c6b0efc",
   "metadata": {},
   "outputs": [],
   "source": [
    "def free_pendulum_with_spring(t, y, params):\n",
    "    \"\"\"\n",
    "    y[0] : x position of pendulum mass\n",
    "    y[1] : dx/dt\n",
    "    y[2] : y position of pendulum mass\n",
    "    y[3] : dy/dt\n",
    "    \"\"\"\n",
    "    g = params[\"g\"]\n",
    "    rho_cd_A = params[\"rho_cd_A\"]\n",
    "    L = params[\"L\"]\n",
    "    m_p = params[\"m_p\"]\n",
    "    k_p = params[\"k_p\"]\n",
    "\n",
    "    # Current states\n",
    "    x, D_x, y, D_y = y\n",
    "\n",
    "    # Convert position to polar co-ordinates\n",
    "    [r, theta] = xy_to_polar(x, y)\n",
    "\n",
    "    # Convert velocity to polar co-ordinates\n",
    "    D_r, v_theta = xy_vector_to_polar(theta, D_x, D_y)\n",
    "\n",
    "    # Convert tangential velocity to angular velocity\n",
    "    D_theta = v_theta / r\n",
    "\n",
    "    # Calculate tension in spring (+ve = tension)\n",
    "    T = k_p * (r - L)\n",
    "\n",
    "    # Force due to aerodynamic drag\n",
    "    #F_d = 0.5 * rho_cd_A * (D_r ** 2 + v_theta ** 2)\n",
    "\n",
    "    # Tangential component of drag force\n",
    "    #F_dtheta = 0.5 * rho_cd_A * D_theta ** 2\n",
    "\n",
    "    # Radial component of drag force\n",
    "    #F_dr = 0.5 * rho_cd_A * D_r ** 2\n",
    "\n",
    "    # Radial component of angular acceleration based on forces applied:\n",
    "    #  - gravity\n",
    "    #  - spring tension\n",
    "    D2_r = -g * np.sin(theta) / r - T / m_p\n",
    "\n",
    "    # Tangential component of angular acceleration based on forces applied:\n",
    "    #  - gravity\n",
    "    D2_theta = -g * np.cos(theta) / r\n",
    "\n",
    "    #  - aerodynamic drag\n",
    "    #D2_theta = -g * np.cos(theta) / r - np.sign(D_theta) * F_dtheta / m_p\n",
    "\n",
    "    # Compute radial and tangential acceleration of pendulum mass\n",
    "    a_L, a_theta = acceleration_components_polar(r, D_r, D2_r, theta, D_theta, D2_theta)\n",
    "\n",
    "    # Convert back to xy co-ordinates\n",
    "    D2_x, D2_y = polar_vector_to_xy(theta, a_L, a_theta)\n",
    "\n",
    "    return [D_x, D2_x, D_y, D2_y]"
   ]
  },
  {
   "cell_type": "code",
   "execution_count": 13,
   "id": "5e063f83",
   "metadata": {},
   "outputs": [
    {
     "name": "stdout",
     "output_type": "stream",
     "text": [
      "[0, -3.9240000000000004, 0, -5.886000000000001]\n"
     ]
    },
    {
     "data": {
      "text/plain": [
       "  message: The solver successfully reached the end of the integration interval.\n",
       "  success: True\n",
       "   status: 0\n",
       "        t: [ 0.000e+00  1.000e-02 ...  4.990e+00  5.000e+00]\n",
       "        y: [[ 3.536e+00  3.535e+00 ...  3.914e+00  3.896e+00]\n",
       "            [ 0.000e+00 -3.924e-02 ... -1.799e+00 -1.844e+00]\n",
       "            [-3.536e+00 -3.536e+00 ... -3.433e+00 -3.435e+00]\n",
       "            [ 0.000e+00 -5.886e-02 ... -1.328e-01 -1.827e-01]]\n",
       "      sol: None\n",
       " t_events: None\n",
       " y_events: None\n",
       "     nfev: 116\n",
       "     njev: 0\n",
       "      nlu: 0"
      ]
     },
     "execution_count": 13,
     "metadata": {},
     "output_type": "execute_result"
    }
   ],
   "source": [
    "params = {\n",
    "    \"L\": 5,  # length of cable\n",
    "    \"m_p\": 1,  # mass of load\n",
    "    \"g\": 9.81,  # acceleration due to gravity\n",
    "    \"r_p\": 0.5,  # radius of load\n",
    "    \"k_p\": 5  # spring constant of cable\n",
    "}\n",
    "params[\"rho_cd_A\"] = 1.293 * 0.47 * np.pi * params[\"r_p\"] ** 2\n",
    "\n",
    "x0, y0 = polar_to_xy(params[\"L\"], -np.pi/4)\n",
    "vx0, vy0 = 0, 0\n",
    "y0 = [x0, vx0, y0, vy0]\n",
    "y = y0\n",
    "t = 0\n",
    "\n",
    "dy = free_pendulum_with_spring(t, y, params)\n",
    "print(dy)\n",
    "\n",
    "fun = free_pendulum_with_spring\n",
    "t_stop = 5\n",
    "t_step = 0.01\n",
    "t_eval = np.arange(0, t_stop + t_step, t_step)\n",
    "\n",
    "t_span = [0, t_stop]\n",
    "sol = solve_ivp(fun, t_span, y0, t_eval=t_eval, args=(params, ))\n",
    "if sol.status != 0:\n",
    "    print(sol.message)\n",
    "sol"
   ]
  },
  {
   "cell_type": "code",
   "execution_count": 14,
   "id": "bd1486c5",
   "metadata": {},
   "outputs": [
    {
     "data": {
      "image/png": "[encoded data removed]",
      "text/plain": [
       "<Figure size 640x480 with 1 Axes>"
      ]
     },
     "metadata": {},
     "output_type": "display_data"
    }
   ],
   "source": [
    "plot_pendulum_trajectory(sol, params)\n",
    "plt.show()"
   ]
  },
  {
   "cell_type": "markdown",
   "id": "02bf1885",
   "metadata": {},
   "source": [
    "## Free pendulum with spring arm and aerodynamic drag"
   ]
  },
  {
   "cell_type": "code",
   "execution_count": 15,
   "id": "077c41bf",
   "metadata": {},
   "outputs": [],
   "source": [
    "def free_pendulum_with_spring_and_drag(t, y, params):\n",
    "    \"\"\"\n",
    "    y[0] : x position of pendulum mass\n",
    "    y[1] : dx/dt\n",
    "    y[2] : y position of pendulum mass\n",
    "    y[3] : dy/dt\n",
    "    \"\"\"\n",
    "    g = params[\"g\"]\n",
    "    rho_cd_A = params[\"rho_cd_A\"]\n",
    "    L = params[\"L\"]\n",
    "    m_p = params[\"m_p\"]\n",
    "    k_p = params[\"k_p\"]\n",
    "\n",
    "    # Current states\n",
    "    x, D_x, y, D_y = y\n",
    "\n",
    "    # Convert position to polar co-ordinates\n",
    "    [r, theta] = xy_to_polar(x, y)\n",
    "\n",
    "    # Convert velocity to polar co-ordinates\n",
    "    D_r, v_theta = xy_vector_to_polar(theta, D_x, D_y)\n",
    "\n",
    "    # Convert tangential velocity to angular velocity\n",
    "    D_theta = v_theta / r\n",
    "\n",
    "    # Calculate tension in spring (+ve = tension)\n",
    "    T = k_p * (r - L)\n",
    "\n",
    "    # Force due to aerodynamic drag\n",
    "    #F_d = 0.5 * rho_cd_A * (D_r ** 2 + v_theta ** 2)\n",
    "\n",
    "    # Tangential component of drag force\n",
    "    F_dtheta = 0.5 * rho_cd_A * D_theta ** 2\n",
    "\n",
    "    # Radial component of drag force\n",
    "    F_dr = 0.5 * rho_cd_A * D_r ** 2\n",
    "\n",
    "    # Radial component of angular acceleration based on forces applied:\n",
    "    #  - gravity\n",
    "    #  - spring tension\n",
    "    #  - aerodynamic drag\n",
    "    D2_r = -g * np.sin(theta) / r - T / m_p - np.sign(D_r) * F_dr / m_p\n",
    "\n",
    "    # Tangential component of angular acceleration based on forces applied:\n",
    "    #  - gravity\n",
    "    D2_theta = -g * np.cos(theta) / r - np.sign(D_theta) * F_dtheta / m_p\n",
    "\n",
    "    # Compute radial and tangential acceleration of pendulum mass\n",
    "    a_L, a_theta = acceleration_components_polar(r, D_r, D2_r, theta, D_theta, D2_theta)\n",
    "\n",
    "    # Convert back to xy co-ordinates\n",
    "    D2_x, D2_y = polar_vector_to_xy(theta, a_L, a_theta)\n",
    "\n",
    "    return [D_x, D2_x, D_y, D2_y]"
   ]
  },
  {
   "cell_type": "code",
   "execution_count": 16,
   "id": "91e4942a",
   "metadata": {},
   "outputs": [
    {
     "name": "stdout",
     "output_type": "stream",
     "text": [
      "[0, -3.9240000000000004, 0, -5.886000000000001]\n"
     ]
    },
    {
     "data": {
      "text/plain": [
       "  message: The solver successfully reached the end of the integration interval.\n",
       "  success: True\n",
       "   status: 0\n",
       "        t: [ 0.000e+00  1.000e-02 ...  4.990e+00  5.000e+00]\n",
       "        y: [[ 3.536e+00  3.535e+00 ...  2.670e+00  2.656e+00]\n",
       "            [ 0.000e+00 -3.924e-02 ... -1.370e+00 -1.409e+00]\n",
       "            [-3.536e+00 -3.536e+00 ... -4.574e+00 -4.573e+00]\n",
       "            [ 0.000e+00 -5.886e-02 ...  6.511e-02  4.213e-02]]\n",
       "      sol: None\n",
       " t_events: None\n",
       " y_events: None\n",
       "     nfev: 122\n",
       "     njev: 0\n",
       "      nlu: 0"
      ]
     },
     "execution_count": 16,
     "metadata": {},
     "output_type": "execute_result"
    }
   ],
   "source": [
    "params = {\n",
    "    \"L\": 5,  # length of cable\n",
    "    \"m_p\": 1,  # mass of load\n",
    "    \"g\": 9.81,  # acceleration due to gravity\n",
    "    \"r_p\": 0.5,  # radius of load\n",
    "    \"k_p\": 5  # spring constant of cable\n",
    "}\n",
    "params[\"rho_cd_A\"] = 1.293 * 0.47 * np.pi * params[\"r_p\"] ** 2\n",
    "\n",
    "x0, y0 = polar_to_xy(params[\"L\"], -np.pi/4)\n",
    "vx0, vy0 = 0, 0\n",
    "y0 = [x0, vx0, y0, vy0]\n",
    "y = y0\n",
    "t = 0\n",
    "\n",
    "dy = free_pendulum_with_spring_and_drag(t, y, params)\n",
    "print(dy)\n",
    "\n",
    "fun = free_pendulum_with_spring_and_drag\n",
    "t_stop = 5\n",
    "t_step = 0.01\n",
    "t_eval = np.arange(0, t_stop + t_step, t_step)\n",
    "\n",
    "t_span = [0, t_stop]\n",
    "sol = solve_ivp(fun, t_span, y0, t_eval=t_eval, args=(params, ))\n",
    "if sol.status != 0:\n",
    "    print(sol.message)\n",
    "sol"
   ]
  },
  {
   "cell_type": "code",
   "execution_count": 17,
   "id": "7342ac33",
   "metadata": {},
   "outputs": [
    {
     "data": {
      "image/png": "[encoded data removed]",
      "text/plain": [
       "<Figure size 640x480 with 1 Axes>"
      ]
     },
     "metadata": {},
     "output_type": "display_data"
    }
   ],
   "source": [
    "plot_pendulum_trajectory(sol, params)\n",
    "plt.show()"
   ]
  },
  {
   "cell_type": "markdown",
   "id": "9322fd08",
   "metadata": {},
   "source": [
    "## Free pendulum with damped spring arm and aerodynamic drag"
   ]
  },
  {
   "cell_type": "code",
   "execution_count": 18,
   "id": "21a2d20f",
   "metadata": {},
   "outputs": [],
   "source": [
    "def free_pendulum_with_damped_spring_and_drag(t, y, params):\n",
    "    \"\"\"\n",
    "    y[0] : x position of pendulum mass\n",
    "    y[1] : dx/dt\n",
    "    y[2] : y position of pendulum mass\n",
    "    y[3] : dy/dt\n",
    "    \"\"\"\n",
    "    g = params[\"g\"]\n",
    "    rho_cd_A = params[\"rho_cd_A\"]\n",
    "    L = params[\"L\"]\n",
    "    m_p = params[\"m_p\"]\n",
    "    k_p = params[\"k_p\"]\n",
    "    c = params[\"c\"]\n",
    "\n",
    "    # Current states\n",
    "    x, D_x, y, D_y = y\n",
    "\n",
    "    # Convert position to polar co-ordinates\n",
    "    [r, theta] = xy_to_polar(x, y)\n",
    "\n",
    "    # Convert velocity to polar co-ordinates\n",
    "    D_r, v_theta = xy_vector_to_polar(theta, D_x, D_y)\n",
    "\n",
    "    # Convert tangential velocity to angular velocity\n",
    "    D_theta = v_theta / r\n",
    "\n",
    "    # Calculate tension in spring (+ve = tension)\n",
    "    T = k_p * (r - L)\n",
    "\n",
    "    # Force due to aerodynamic drag\n",
    "    #F_d = 0.5 * rho_cd_A * (D_r ** 2 + v_theta ** 2)\n",
    "\n",
    "    # Tangential component of drag force\n",
    "    F_dtheta = 0.5 * rho_cd_A * D_theta ** 2\n",
    "\n",
    "    # Radial component of drag force\n",
    "    F_dr = 0.5 * rho_cd_A * D_r ** 2\n",
    "\n",
    "    # Radial component of angular acceleration based on forces applied:\n",
    "    #  - gravity\n",
    "    #  - spring tension\n",
    "    #  - aerodynamic drag\n",
    "    D2_r = -g * np.sin(theta) / r - T / m_p - np.sign(D_r) * F_dr / m_p - c * D_r\n",
    "\n",
    "    # Tangential component of angular acceleration based on forces applied:\n",
    "    #  - gravity\n",
    "    D2_theta = -g * np.cos(theta) / r - np.sign(D_theta) * F_dtheta / m_p\n",
    "\n",
    "    # Compute radial and tangential acceleration of pendulum mass\n",
    "    a_L, a_theta = acceleration_components_polar(r, D_r, D2_r, theta, D_theta, D2_theta)\n",
    "\n",
    "    # Convert back to xy co-ordinates\n",
    "    D2_x, D2_y = polar_vector_to_xy(theta, a_L, a_theta)\n",
    "\n",
    "    return [D_x, D2_x, D_y, D2_y]"
   ]
  },
  {
   "cell_type": "code",
   "execution_count": 27,
   "id": "c14cb1d9",
   "metadata": {},
   "outputs": [
    {
     "name": "stdout",
     "output_type": "stream",
     "text": [
      "[0, -3.9240000000000004, 0, -5.886000000000001]\n"
     ]
    },
    {
     "data": {
      "text/plain": [
       "  message: The solver successfully reached the end of the integration interval.\n",
       "  success: True\n",
       "   status: 0\n",
       "        t: [ 0.000e+00  1.000e-02 ...  4.990e+00  5.000e+00]\n",
       "        y: [[ 3.536e+00  3.535e+00 ...  2.566e+00  2.556e+00]\n",
       "            [ 0.000e+00 -3.939e-02 ... -1.034e+00 -1.076e+00]\n",
       "            [-3.536e+00 -3.536e+00 ... -4.680e+00 -4.685e+00]\n",
       "            [ 0.000e+00 -5.871e-02 ... -5.239e-01 -5.441e-01]]\n",
       "      sol: None\n",
       " t_events: None\n",
       " y_events: None\n",
       "     nfev: 128\n",
       "     njev: 0\n",
       "      nlu: 0"
      ]
     },
     "execution_count": 27,
     "metadata": {},
     "output_type": "execute_result"
    }
   ],
   "source": [
    "params = {\n",
    "    \"L\": 5,  # length of cable\n",
    "    \"m_p\": 1,  # mass of load\n",
    "    \"g\": 9.81,  # acceleration due to gravity\n",
    "    \"r_p\": 0.5,  # radius of load\n",
    "    \"k_p\": 5,  # spring constant of cable\n",
    "    \"c\": 3\n",
    "}\n",
    "params[\"rho_cd_A\"] = 1.293 * 0.47 * np.pi * params[\"r_p\"] ** 2\n",
    "\n",
    "x0, y0 = polar_to_xy(params[\"L\"], -np.pi/4)\n",
    "vx0, vy0 = 0, 0\n",
    "y0 = [x0, vx0, y0, vy0]\n",
    "y = y0\n",
    "t = 0\n",
    "\n",
    "dy = free_pendulum_with_spring_and_drag(t, y, params)\n",
    "print(dy)\n",
    "\n",
    "fun = free_pendulum_with_damped_spring_and_drag\n",
    "t_stop = 5\n",
    "t_step = 0.01\n",
    "t_eval = np.arange(0, t_stop + t_step, t_step)\n",
    "\n",
    "t_span = [0, t_stop]\n",
    "sol = solve_ivp(fun, t_span, y0, t_eval=t_eval, args=(params, ))\n",
    "if sol.status != 0:\n",
    "    print(sol.message)\n",
    "sol"
   ]
  },
  {
   "cell_type": "code",
   "execution_count": 28,
   "id": "a3878074",
   "metadata": {},
   "outputs": [
    {
     "data": {
      "image/png": "[encoded data removed]",
      "text/plain": [
       "<Figure size 640x480 with 1 Axes>"
      ]
     },
     "metadata": {},
     "output_type": "display_data"
    }
   ],
   "source": [
    "plot_pendulum_trajectory(sol, params)\n",
    "plt.show()"
   ]
  },
  {
   "cell_type": "code",
   "execution_count": null,
   "id": "1b8ba85d",
   "metadata": {},
   "outputs": [],
   "source": []
  },
  {
   "cell_type": "code",
   "execution_count": null,
   "id": "1c1cc303",
   "metadata": {},
   "outputs": [],
   "source": []
  },
  {
   "cell_type": "code",
   "execution_count": null,
   "id": "16f1994d",
   "metadata": {},
   "outputs": [],
   "source": []
  },
  {
   "cell_type": "code",
   "execution_count": null,
   "id": "46b40c97",
   "metadata": {},
   "outputs": [],
   "source": []
  }
 ],
 "metadata": {
  "kernelspec": {
   "display_name": "Python (torch)",
   "language": "python",
   "name": "torch"
  },
  "language_info": {
   "codemirror_mode": {
    "name": "ipython",
    "version": 3
   },
   "file_extension": ".py",
   "mimetype": "text/x-python",
   "name": "python",
   "nbconvert_exporter": "python",
   "pygments_lexer": "ipython3",
   "version": "3.9.15"
  }
 },
 "nbformat": 4,
 "nbformat_minor": 5
}

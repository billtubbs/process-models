{
 "cells": [
  {
   "cell_type": "markdown",
   "id": "ef34f5ed",
   "metadata": {},
   "source": [
    "# Differential equations for a pendulum with time-varying length"
   ]
  },
  {
   "cell_type": "markdown",
   "id": "a6ed159a",
   "metadata": {},
   "source": [
    "Based on derivations from\n",
    " - https://en.wikipedia.org/wiki/Centripetal_force#Nonuniform_circular_motion"
   ]
  },
  {
   "cell_type": "code",
   "execution_count": 1,
   "id": "ad9b047d",
   "metadata": {},
   "outputs": [],
   "source": [
    "import numpy as np\n",
    "from scipy.integrate import solve_ivp\n",
    "import matplotlib.pyplot as plt"
   ]
  },
  {
   "cell_type": "markdown",
   "id": "dc88c2e5",
   "metadata": {},
   "source": [
    "## General planar motion\n",
    "(not limited to circular motion)"
   ]
  },
  {
   "cell_type": "markdown",
   "id": "25dfc2e1",
   "metadata": {},
   "source": [
    "Position of the point load at the end of pendulum arm relative to pivot:\n",
    "\n",
    "$$\\mathbf{r} = r \\cos{(\\theta)} \\mathbf{u}_x + r \\sin{(\\theta)} \\mathbf{u}_y$$\n",
    "\n",
    "where $\\mathbf{u}_x$ and $\\mathbf{u}_y$ are unit vectors in the cartesian plane, and $r$, $\\theta$ may be time varying"
   ]
  },
  {
   "cell_type": "markdown",
   "id": "d1c933c5",
   "metadata": {},
   "source": [
    "Translate into a polar co-ordinate system which has a radial unit vector $\\mathbf{u}_\\rho$ and an angular unit vector $\\mathbf{u}_\\theta$, and moves with the particle.\n",
    "\n",
    "<img src=\"images/Polar_unit_vectors.png\" width=\"40%\">\n",
    "\n",
    "\n",
    "$$\\mathbf{r} = \\rho \\mathbf{u}_\\rho$$\n",
    "\n",
    "The unit vector $\\mathbf{u}_p$ travels with the particle and always points in the same direction as $\\mathbf{r}(t)$. Unit vector $\\mathbf{u}_\\theta$ also travels with the particle and remains orthogonal to $\\mathbf{u}_\\rho$. Thus, $\\mathbf{u}_\\rho$ and $\\mathbf{u}_\\theta$ form a local Cartesian coordinate system attached to the particle, and tied to the path traveled by the particle."
   ]
  },
  {
   "cell_type": "code",
   "execution_count": 2,
   "id": "74871d05",
   "metadata": {},
   "outputs": [],
   "source": [
    "def xy_to_polar(x, y):\n",
    "    theta = np.arctan2(y, x)\n",
    "    L = np.sqrt(x**2 + y**2)\n",
    "    return [L, theta]\n",
    "\n",
    "assert(xy_to_polar(0, 0) == [0, 0])\n",
    "assert(xy_to_polar(1, 0) == [1, 0])\n",
    "assert(xy_to_polar(0, 2) == [2, 0.5*np.pi])\n",
    "assert(xy_to_polar(-3, 0) == [3, np.pi])\n",
    "assert(np.all(np.isclose(xy_to_polar(3, -4), [5, -np.radians(53.13)])))\n",
    "\n",
    "def polar_to_xy(L, theta):\n",
    "    x = L * np.cos(theta)\n",
    "    y = L * np.sin(theta)\n",
    "    return [x, y]"
   ]
  },
  {
   "cell_type": "markdown",
   "id": "18d8a50f",
   "metadata": {},
   "source": [
    "Velocity of the particle:\n",
    "\n",
    "$$\\mathbf{v} = \\frac{d\\rho}{dt} \\mathbf{u}_p + \\rho \\frac{d\\mathbf{u}_p}{dt}$$\n",
    "\n",
    "where $\\rho$ is used to describe the distance of the path from the origin instead of $r$ to emphasize that it is time-varying."
   ]
  },
  {
   "cell_type": "markdown",
   "id": "71293bbc",
   "metadata": {},
   "source": [
    "Considering that $\\mathbf{u}_p$ and $\\mathbf{u}_\\theta$ always form a right-angled pair with tips on the unit circle, their time derivatives are \n",
    "\n",
    "$$\\frac{d\\mathbf{u}_\\rho}{dt} = \\mathbf{u}_\\theta \\frac{d\\theta}{dt},\n",
    "\\frac{d\\mathbf{u}_\\theta}{dt} = - \\frac{d\\theta}{dt} \\mathbf{u}_\\rho$$\n",
    "\n",
    "Note: in the image above, to maintain orthogonality, if $d\\mathbf{u}_\\rho$ is positive with $d\\theta$, then $d\\mathbf{u}_\\theta$ must decrease."
   ]
  },
  {
   "cell_type": "markdown",
   "id": "91cedf72",
   "metadata": {},
   "source": [
    "Substituting above into the equation for velocity gives\n",
    "\n",
    "$$\\mathbf{v} = \\frac{d\\rho}{dt} \\mathbf{u}_\\rho + \\rho \\mathbf{u}_\\theta \\frac{d\\theta}{dt}$$"
   ]
  },
  {
   "cell_type": "markdown",
   "id": "43a04d66",
   "metadata": {},
   "source": [
    "To obtain the acceleration, differentiate again w.r.t. time\n",
    "\n",
    "$$\n",
    "\\begin{aligned}\n",
    "    \\mathbf{a} &= \\frac{d}{dt} \\left[ \n",
    "        \\frac{d\\rho}{dt} \\mathbf{u}_\\rho + \\rho \\mathbf{u}_\\theta \\frac{d\\theta}{dt}\n",
    "    \\right] \\\\\n",
    "    &= \\frac{d^2\\rho}{{dt}^2} \\mathbf{u}_\\rho \n",
    "        + \\frac{d\\rho}{dt} \\frac{d\\mathbf{u}_\\rho}{dt}\n",
    "        + \\frac{d\\rho}{dt} \\mathbf{u}_\\theta \\frac{d\\theta}{dt}\n",
    "        + \\rho \\frac{d\\mathbf{u}_\\theta}{dt} \\frac{d\\theta}{dt}\n",
    "        + \\rho \\mathbf{u}_\\theta \\frac{d^2\\theta}{{dt}^2} \\\\\n",
    "    &= \\frac{d^2\\rho}{{dt}^2} \\mathbf{u}_\\rho \n",
    "        + \\frac{d\\rho}{dt} \\mathbf{u}_\\theta \\frac{d\\theta}{dt}\n",
    "        + \\frac{d\\rho}{dt} \\mathbf{u}_\\theta \\frac{d\\theta}{dt}\n",
    "        - \\rho \\frac{d\\theta}{dt} \\mathbf{u}_\\rho \\frac{d\\theta}{dt}\n",
    "        + \\rho \\mathbf{u}_\\theta \\frac{d^2\\theta}{{dt}^2} \\\\\n",
    "    &= \\frac{d^2\\rho}{{dt}^2} \\mathbf{u}_\\rho\n",
    "        + 2 \\frac{d\\rho}{dt} \\mathbf{u}_\\theta \\frac{d\\theta}{dt}\n",
    "        - \\rho \\mathbf{u}_\\rho \\left(\\frac{d\\theta}{dt}\\right)^2\n",
    "        + \\rho \\mathbf{u}_\\theta \\frac{d^2\\theta}{{dt}^2} \\\\\n",
    "    &= \\mathbf{u}_\\rho \\left[ \n",
    "            \\frac{d^2\\rho}{{dt}^2}\n",
    "            - \\rho \\left(\\frac{d\\theta}{dt}\\right)^2 \\right]\n",
    "        + \\mathbf{u}_\\theta \\left[\n",
    "            2 \\frac{d\\rho}{dt} \\frac{d\\theta}{dt} \n",
    "            + \\rho \\frac{d^2\\theta}{{dt}^2} \\right]\n",
    "\\end{aligned}\n",
    "$$"
   ]
  },
  {
   "cell_type": "markdown",
   "id": "d5c20573",
   "metadata": {},
   "source": [
    "Since $\\frac{d\\rho}{dt} = v_p$ and $\\rho \\frac{d\\theta}{dt} = v_\\theta$, we can also write\n",
    "\n",
    "$$\n",
    "\\mathbf{a} = \\mathbf{u}_\\rho \\left[ \n",
    "            \\frac{dv_p}{dt}\n",
    "            - \\frac{v_\\theta^2}{\\rho} \\right]\n",
    "        + \\mathbf{u}_\\theta \\left[\n",
    "            \\frac{2 v_p v_\\theta}{\\rho} \n",
    "            + \\rho \\frac{d}{dt} \\left( \\frac{v_\\theta}{\\rho} \\right) \\right]\n",
    "$$"
   ]
  },
  {
   "cell_type": "markdown",
   "id": "57c31019",
   "metadata": {},
   "source": [
    "For comparison, the case of circular motion when $\\frac{d\\rho}{dt} = v_p = 0$, $\\mathbf{v} = \\mathbf{v_\\theta}$, and $v = v_\\theta = \\rho\\frac{d\\theta}{dt}$:\n",
    "\n",
    "$$\n",
    "\\begin{aligned}\n",
    "\\mathbf{a} &= \\mathbf{u}_\\rho \\left[ \n",
    "            - \\rho \\left( \\frac{d\\theta}{dt} \\right)^2 \\right]\n",
    "        + \\mathbf{u}_\\theta \\left[\n",
    "            \\rho \\frac{d^2\\theta}{{dt}^2} \\right] \\\\\n",
    "            &= \\mathbf{u}_\\rho \\left[ \n",
    "            - \\frac{v^2}{r} \\right]\n",
    "        + \\mathbf{u}_\\theta \\left[\n",
    "            \\frac{dv}{dt} \\right]\n",
    "\\end{aligned}\n",
    "$$"
   ]
  },
  {
   "cell_type": "markdown",
   "id": "1f106845",
   "metadata": {},
   "source": [
    "## Pendulum system equations\n",
    "\n",
    "Deriving the differential equation\n",
    "\n",
    "Using Newton's second law ($\\mathbf{F} = m \\mathbf{a})$)\n",
    "\n",
    "$$\\mathbf{N} + \\mathbf{G_p} = m_p \\mathbf{a}$$\n",
    "\n",
    "where $\\mathbf{N} = N_x \\mathbf{u}_x + N_y \\mathbf{u}_y$ is the force on the pendulum arm due to pivot, and $\\mathbf{G_p} = -m_p g \\mathbf{u}_y$ is the downwards force on the mass due to gravity."
   ]
  },
  {
   "cell_type": "markdown",
   "id": "e3e29079",
   "metadata": {},
   "source": [
    "$$\\mathbf{N} - m_p g \\mathbf{u}_y = m_p \\mathbf{a}$$"
   ]
  },
  {
   "cell_type": "markdown",
   "id": "460d5521",
   "metadata": {},
   "source": [
    "Equation from above is in the polar frame of refernce:\n",
    "\n",
    "$$\n",
    "\\begin{aligned}\n",
    "\\mathbf{a} &= \\mathbf{u}_\\rho \\left[ \n",
    "            \\frac{d^2\\rho}{{dt}^2}\n",
    "            - \\rho \\left(\\frac{d\\theta}{dt}\\right)^2 \\right]\n",
    "        + \\mathbf{u}_\\theta \\left[\n",
    "            2 \\frac{d\\rho}{dt} \\frac{d\\theta}{dt} \n",
    "            + \\rho \\frac{d^2\\theta}{{dt}^2} \\right] \\\\\n",
    "            &= a_\\rho \\mathbf{u}_\\rho\n",
    "        + a_\\theta \\mathbf{u}_\\theta\n",
    "\\end{aligned}\n",
    "$$\n",
    "\n",
    "Translate it into cartesian co-ordinates."
   ]
  },
  {
   "cell_type": "markdown",
   "id": "e8e1c5ca",
   "metadata": {},
   "source": [
    "From the definition of the co-ordinate systems above,\n",
    "\n",
    "$$\n",
    "\\begin{aligned}\n",
    "\\mathbf{u}_\\rho &= \\mathbf{u}_x \\cos(\\theta) + \\mathbf{u}_y \\sin(\\theta) \\\\\n",
    "\\mathbf{u}_\\theta &= -\\mathbf{u}_x \\sin(\\theta) + \\mathbf{u}_y \\cos(\\theta)\n",
    "\\end{aligned}\n",
    "$$"
   ]
  },
  {
   "cell_type": "code",
   "execution_count": 3,
   "id": "3ec8e4cd",
   "metadata": {},
   "outputs": [],
   "source": [
    "def xy_vector_to_polar(theta, v_x, v_y):\n",
    "    h = np.cos(theta) ** 2 + np.sin(theta) ** 2\n",
    "    u_L = (v_x * np.cos(theta) + v_y * np.sin(theta)) / h\n",
    "    u_theta = (v_y * np.cos(theta) - v_x * np.sin(theta)) / h\n",
    "    return [u_L, u_theta]\n",
    "\n",
    "assert(xy_vector_to_polar(0, 0, 0) == [0, 0])\n",
    "assert(xy_vector_to_polar(0, 1, 0) == [1, 0])\n",
    "assert(xy_vector_to_polar(0, 0, 2) == [0, 2])\n",
    "assert(np.all(np.isclose(xy_vector_to_polar(0.25*np.pi, 2, 0), [np.sqrt(2), -np.sqrt(2)])))\n",
    "assert(np.all(np.isclose(xy_vector_to_polar(0.5*np.pi, 4, 3), [3, -4])))\n",
    "assert(np.all(np.isclose(xy_vector_to_polar(1.5*np.pi, 2, 0), [0, 2])))\n",
    "\n",
    "def polar_vector_to_xy(theta, u_L, u_theta):\n",
    "    v_x = u_L * np.cos(theta) - u_theta * np.sin(theta)\n",
    "    v_y = u_L * np.sin(theta) + u_theta * np.cos(theta)\n",
    "    return [v_x, v_y]\n",
    "\n",
    "assert(polar_vector_to_xy(0, 0, 0) == [0, 0])\n",
    "assert(polar_vector_to_xy(0, 1, 0) == [1, 0])\n",
    "assert(polar_vector_to_xy(0, 0, 2) == [0, 2])\n",
    "assert(np.all(np.isclose(polar_vector_to_xy(0.25*np.pi, 2, 0), [np.sqrt(2), np.sqrt(2)])))\n",
    "assert(np.all(np.isclose(polar_vector_to_xy(0.5*np.pi, 4, 3), [-3, 4])))\n",
    "assert(np.all(np.isclose(polar_vector_to_xy(1.5*np.pi, 2, 0), [0, -2])))\n",
    "\n",
    "# Check round trip\n",
    "v1, v2 = np.random.randn(2)\n",
    "theta = np.random.random() * 2 * np.pi\n",
    "v_x, v_y = polar_vector_to_xy(theta, v1, v2)\n",
    "assert(np.all(np.isclose(xy_vector_to_polar(theta, v_x, v_y), [v1, v2])))\n",
    "v_L, v_theta = xy_vector_to_polar(theta, v1, v2)\n",
    "assert(np.all(np.isclose(polar_vector_to_xy(theta, v_L, v_theta), [v1, v2])))"
   ]
  },
  {
   "cell_type": "markdown",
   "id": "2a8128e8",
   "metadata": {},
   "source": [
    "Therefore we can write\n",
    "\n",
    "$$\n",
    "\\mathbf{a} = \n",
    "    \\left( \\mathbf{u}_x \\cos(\\theta) + \\mathbf{u}_y \\sin(\\theta) \\right) \n",
    "             \\left[ \\frac{d^2\\rho}{{dt}^2}\n",
    "                - \\rho \\left(\\frac{d\\theta}{dt}\\right)^2 \\right]\n",
    "    + \\left( -\\mathbf{u}_x \\sin(\\theta) + \\mathbf{u}_y \\cos(\\theta) \\right)\n",
    "             \\left[ 2 \\frac{d\\rho}{dt} \\frac{d\\theta}{dt} \n",
    "                + \\rho \\frac{d^2\\theta}{{dt}^2} \\right]\n",
    "$$"
   ]
  },
  {
   "cell_type": "markdown",
   "id": "d658e0ca",
   "metadata": {},
   "source": [
    "Decomposing into x and y directions,\n",
    "\n",
    "$$\n",
    "\\begin{aligned}\n",
    "a_x &= \n",
    "    \\cos(\\theta) \n",
    "             \\left[ \\frac{d^2\\rho}{{dt}^2}\n",
    "                - \\rho \\left(\\frac{d\\theta}{dt}\\right)^2 \\right]\n",
    "    - \\sin(\\theta)\n",
    "             \\left[ 2 \\frac{d\\rho}{dt} \\frac{d\\theta}{dt} \n",
    "                + \\rho \\frac{d^2\\theta}{{dt}^2} \\right] \\\\\n",
    "a_y &= \n",
    "    \\sin(\\theta) \n",
    "             \\left[ \\frac{d^2\\rho}{{dt}^2}\n",
    "                - \\rho \\left(\\frac{d\\theta}{dt}\\right)^2 \\right]\n",
    "    + \\cos(\\theta)\n",
    "             \\left[ 2 \\frac{d\\rho}{dt} \\frac{d\\theta}{dt} \n",
    "                + \\rho \\frac{d^2\\theta}{{dt}^2} \\right]\n",
    "\\end{aligned}\n",
    "$$"
   ]
  },
  {
   "cell_type": "markdown",
   "id": "582dd13b",
   "metadata": {},
   "source": [
    "or\n",
    "\n",
    "$$\n",
    "\\begin{aligned}\n",
    "a_x &= a_\\rho \\cos(\\theta)\n",
    "        - a_\\theta \\sin(\\theta) \\\\\n",
    "a_y &= a_\\rho \\sin(\\theta) \n",
    "        + a_\\theta \\cos(\\theta)\n",
    "\\end{aligned}\n",
    "$$\n",
    "\n",
    "where\n",
    "\n",
    "$$\n",
    "a_\\rho = \\frac{d^2\\rho}{{dt}^2}\n",
    "                - \\rho \\left(\\frac{d\\theta}{dt}\\right)^2 \\\\\n",
    "a_\\theta = 2 \\frac{d\\rho}{dt} \\frac{d\\theta}{dt} \n",
    "                + \\rho \\frac{d^2\\theta}{{dt}^2}   \n",
    "$$"
   ]
  },
  {
   "cell_type": "code",
   "execution_count": 4,
   "id": "96690c05",
   "metadata": {},
   "outputs": [],
   "source": [
    "def acceleration_components_polar(L, D_L, D2_L, theta, D_theta, D2_theta):\n",
    "    a_L = D2_L - L * (D_theta) ** 2\n",
    "    a_theta = 2 * D_L * D_theta + L * D2_theta\n",
    "    return a_L, a_theta"
   ]
  },
  {
   "cell_type": "code",
   "execution_count": 5,
   "id": "38a82177",
   "metadata": {},
   "outputs": [
    {
     "data": {
      "text/plain": [
       "(0, 5)"
      ]
     },
     "execution_count": 5,
     "metadata": {},
     "output_type": "execute_result"
    }
   ],
   "source": [
    "L = 5\n",
    "D_L = 0\n",
    "D2_L = 0\n",
    "theta = 0\n",
    "D_theta = 0\n",
    "D2_theta = 1\n",
    "a_L, a_theta = acceleration_components_polar(L, D_L, D2_L, theta, D_theta, D2_theta)\n",
    "a_L, a_theta"
   ]
  },
  {
   "cell_type": "markdown",
   "id": "bce84f9f",
   "metadata": {},
   "source": [
    "### Free (unforced) pendulum\n",
    "\n",
    "Substituting these equations into the $(\\mathbf{F} = m \\mathbf{a})$ equation above and assuming $\\mathbf{N}=0$, \n",
    "\n",
    "$$- m_p g \\mathbf{u}_y = m_p \\mathbf{a}$$\n",
    "\n",
    "Therefore\n",
    "\n",
    "$$\n",
    "\\begin{aligned}\n",
    "0 &= a_\\rho \\cos(\\theta)\n",
    "        - a_\\theta \\sin(\\theta) \\\\\n",
    "-g &= a_\\rho \\sin(\\theta) \n",
    "        + a_\\theta \\cos(\\theta)\n",
    "\\end{aligned}\n",
    "$$"
   ]
  },
  {
   "cell_type": "markdown",
   "id": "975f78cc",
   "metadata": {},
   "source": [
    "Substituting $a_\\rho$ and $a_\\theta$ with expressions above\n",
    "\n",
    "$$\n",
    "\\begin{aligned}\n",
    "0 &= \\left( \\frac{d^2\\rho}{{dt}^2}\n",
    "                - \\rho \\left(\\frac{d\\theta}{dt}\\right)^2 \\right) \\cos(\\theta)\n",
    "        - \\left( 2 \\frac{d\\rho}{dt} \\frac{d\\theta}{dt} \n",
    "                + \\rho \\frac{d^2\\theta}{{dt}^2} \\right) \\sin(\\theta) \\\\\n",
    "-g &= \\left( \\frac{d^2\\rho}{{dt}^2}\n",
    "                - \\rho \\left(\\frac{d\\theta}{dt}\\right)^2 \\right) \\sin(\\theta) \n",
    "        + \\left( 2 \\frac{d\\rho}{dt} \\frac{d\\theta}{dt} \n",
    "                + \\rho \\frac{d^2\\theta}{{dt}^2} \\right) \\cos(\\theta)\n",
    "\\end{aligned}\n",
    "$$"
   ]
  },
  {
   "cell_type": "code",
   "execution_count": 6,
   "id": "669ee6e2",
   "metadata": {},
   "outputs": [],
   "source": [
    "# Free unforced pendulum with no friction, and fixed length\n",
    "\n",
    "# For reasons that may later turn out to true, I am \n",
    "# adopting the x-y co-ordinate system for the state \n",
    "# representation:\n",
    "#\n",
    "# y[0] : x position of pendulum mass\n",
    "# y[1] : dx/dt\n",
    "# y[2] : y position of pendulum mass\n",
    "# y[3] : dy/dt\n",
    "#\n",
    "\n",
    "def free_pendulum_fixed_length(t, y, params):\n",
    "    \"\"\"\n",
    "    y[0] : x position of pendulum mass\n",
    "    y[1] : dx/dt\n",
    "    y[2] : y position of pendulum mass\n",
    "    y[3] : dy/dt\n",
    "    \"\"\"\n",
    "    g = params[\"g\"]\n",
    "    x, D_x, y, D_y = y\n",
    "\n",
    "    # Convert position to polar co-ordinates\n",
    "    [L, theta] = xy_to_polar(x, y)\n",
    "\n",
    "    # Convert velocity to polar co-ordinates\n",
    "    D_L, v_theta = xy_vector_to_polar(theta, D_x, D_y)\n",
    "\n",
    "    # Convert tangential velocity to angular velocity\n",
    "    D_theta = v_theta / L\n",
    "\n",
    "    # Angular acceleration based on forces applied\n",
    "    #  - only gravity here\n",
    "    D2_theta = -g * np.cos(theta) / L\n",
    "\n",
    "    # Compute radial and tangential acceleration of pendulum mass\n",
    "    a_L, a_theta = acceleration_components_polar(L, D_L, D2_L, theta, D_theta, D2_theta)\n",
    "\n",
    "    # Convert back to xy co-ordinates\n",
    "    D2_x, D2_y = polar_vector_to_xy(theta, a_L, a_theta * L)\n",
    "\n",
    "    return [D_x, D2_x, D_y, D2_y]"
   ]
  },
  {
   "cell_type": "code",
   "execution_count": 7,
   "id": "fde158d1",
   "metadata": {},
   "outputs": [
    {
     "name": "stdout",
     "output_type": "stream",
     "text": [
      "[0, -24.525000000000002, 0, -24.525000000000006]\n"
     ]
    },
    {
     "data": {
      "text/plain": [
       "  message: The solver successfully reached the end of the integration interval.\n",
       "  success: True\n",
       "   status: 0\n",
       "        t: [ 0.000e+00  1.000e-02 ...  1.990e+00  2.000e+00]\n",
       "        y: [[ 3.536e+00  3.534e+00 ...  3.417e+00  3.439e+00]\n",
       "            [ 0.000e+00 -2.453e-01 ...  2.362e+00  2.103e+00]\n",
       "            [-3.536e+00 -3.537e+00 ... -3.655e+00 -3.634e+00]\n",
       "            [ 0.000e+00 -2.451e-01 ...  2.202e+00  1.984e+00]]\n",
       "      sol: None\n",
       " t_events: None\n",
       " y_events: None\n",
       "     nfev: 110\n",
       "     njev: 0\n",
       "      nlu: 0"
      ]
     },
     "execution_count": 7,
     "metadata": {},
     "output_type": "execute_result"
    }
   ],
   "source": [
    "params = {\n",
    "    \"L\": 5,\n",
    "    \"g\": 9.81\n",
    "}\n",
    "\n",
    "x0, y0 = polar_to_xy(params[\"L\"], -np.pi/4)\n",
    "vx0, vy0 = 0, 0\n",
    "y0 = [x0, vx0, y0, vy0]\n",
    "y = y0\n",
    "t = 0\n",
    "\n",
    "dy = free_pendulum_fixed_length(t, y, params)\n",
    "print(dy)\n",
    "\n",
    "fun = free_pendulum_fixed_length\n",
    "t_stop = 2\n",
    "t_step = 0.01\n",
    "t_eval = np.arange(0, t_stop + t_step, t_step)\n",
    "\n",
    "t_span = [0, t_stop]\n",
    "sol = solve_ivp(fun, t_span, y0, t_eval=t_eval, args=(params, ))\n",
    "if sol.status != 0:\n",
    "    print(sol.message)\n",
    "sol"
   ]
  },
  {
   "cell_type": "code",
   "execution_count": 8,
   "id": "f101295c",
   "metadata": {},
   "outputs": [
    {
     "data": {
      "image/png": "[encoded data removed]",
      "text/plain": [
       "<Figure size 640x480 with 1 Axes>"
      ]
     },
     "metadata": {},
     "output_type": "display_data"
    }
   ],
   "source": [
    "t = sol.t\n",
    "x, vx, y, vy = sol.y\n",
    "\n",
    "fig, ax = plt.subplots()\n",
    "\n",
    "nT = len(sol.t)\n",
    "selected_points = np.arange(0, nT, step = (nT-1)//10)\n",
    "\n",
    "circ = plt.Circle((y0[0], y0[2]), 0.25, color='r')\n",
    "ax.add_patch(circ)\n",
    "\n",
    "ax.plot(x, y)\n",
    "ax.plot([0, y0[0]], [0, y0[2]], '-ro')\n",
    "ax.plot(x[selected_points], y[selected_points], 'ko')\n",
    "for p in selected_points:\n",
    "    ax.annotate(f\"{t[p]:.1f}\", (x[p] - 0.25, y[p] - 0.4))\n",
    "ax.set_xlim([-5.5, 5.5])\n",
    "ax.set_ylim([-6, 0.5])\n",
    "ax.set_xlabel(\"x\")\n",
    "ax.set_ylabel(\"y\")\n",
    "ax.set_aspect('equal')\n",
    "ax.grid()\n",
    "\n",
    "plt.show()"
   ]
  },
  {
   "cell_type": "code",
   "execution_count": 9,
   "id": "1e35f7b5",
   "metadata": {},
   "outputs": [],
   "source": [
    "def free_pendulum_with_drag(t, y, params):\n",
    "    \"\"\"\n",
    "    y[0] : x position of pendulum mass\n",
    "    y[1] : dx/dt\n",
    "    y[2] : y position of pendulum mass\n",
    "    y[3] : dy/dt\n",
    "    \"\"\"\n",
    "    g = params[\"g\"]\n",
    "    rho_cd_pi = params[\"rho_cd_pi\"]\n",
    "    x, D_x, y, D_y = y\n",
    "    L = params[\"L\"]\n",
    "    m_p = params[\"m_p\"]\n",
    "    r = params[\"r\"]\n",
    "\n",
    "    # Convert position to polar co-ordinates\n",
    "    [L, theta] = xy_to_polar(x, y)\n",
    "\n",
    "    # Convert velocity to polar co-ordinates\n",
    "    D_L, v_theta = xy_vector_to_polar(theta, D_x, D_y)\n",
    "\n",
    "    # Convert tangential velocity to angular velocity\n",
    "    D_theta = v_theta / L\n",
    "\n",
    "    # Force due to aerodynamic drag\n",
    "    #F_d = 0.5 * rho_cd_pi * L^2 * (v_L ** 2 + v_theta ** 2)\n",
    "\n",
    "    # Component of drag force in opposite direction to \n",
    "    # velocity of load\n",
    "    F_dx = 0.5 * rho_cd_pi * r ** 2 * D_theta ** 2\n",
    "\n",
    "    # Angular acceleration based on forces applied:\n",
    "    #  - gravity\n",
    "    #  - aerodynamic drag\n",
    "    D2_theta = -g * np.cos(theta) / L - np.sign(D_theta) * F_dx / m_p\n",
    "\n",
    "    # Compute radial and tangential acceleration of pendulum mass\n",
    "    a_L, a_theta = acceleration_components_polar(L, D_L, D2_L, theta, D_theta, D2_theta)\n",
    "\n",
    "    # Convert back to xy co-ordinates\n",
    "    D2_x, D2_y = polar_vector_to_xy(theta, a_L, a_theta * L)\n",
    "\n",
    "    return [D_x, D2_x, D_y, D2_y]"
   ]
  },
  {
   "cell_type": "code",
   "execution_count": 10,
   "id": "0ae95310",
   "metadata": {},
   "outputs": [
    {
     "name": "stdout",
     "output_type": "stream",
     "text": [
      "[0, -24.525000000000002, 0, -24.525000000000006]\n"
     ]
    },
    {
     "data": {
      "text/plain": [
       "  message: The solver successfully reached the end of the integration interval.\n",
       "  success: True\n",
       "   status: 0\n",
       "        t: [ 0.000e+00  1.000e-02 ...  1.990e+00  2.000e+00]\n",
       "        y: [[ 3.536e+00  3.534e+00 ...  9.787e-01  9.918e-01]\n",
       "            [ 0.000e+00 -2.452e-01 ...  1.360e+00  1.261e+00]\n",
       "            [-3.536e+00 -3.537e+00 ... -4.906e+00 -4.903e+00]\n",
       "            [ 0.000e+00 -2.451e-01 ...  2.690e-01  2.526e-01]]\n",
       "      sol: None\n",
       " t_events: None\n",
       " y_events: None\n",
       "     nfev: 98\n",
       "     njev: 0\n",
       "      nlu: 0"
      ]
     },
     "execution_count": 10,
     "metadata": {},
     "output_type": "execute_result"
    }
   ],
   "source": [
    "params = {\n",
    "    \"L\": 5,\n",
    "    \"m_p\": 1,\n",
    "    \"r\": 0.5,\n",
    "    \"g\": 9.81,\n",
    "    \"rho_cd_pi\": 1.293 * 0.47 * np.pi\n",
    "}\n",
    "\n",
    "x0, y0 = polar_to_xy(params[\"L\"], -np.pi/4)\n",
    "vx0, vy0 = 0, 0\n",
    "y0 = [x0, vx0, y0, vy0]\n",
    "y = y0\n",
    "t = 0\n",
    "\n",
    "dy = free_pendulum_with_drag(t, y, params)\n",
    "print(dy)\n",
    "\n",
    "fun = free_pendulum_with_drag\n",
    "t_stop = 2\n",
    "t_step = 0.01\n",
    "t_eval = np.arange(0, t_stop + t_step, t_step)\n",
    "\n",
    "t_span = [0, t_stop]\n",
    "sol = solve_ivp(fun, t_span, y0, t_eval=t_eval, args=(params, ))\n",
    "if sol.status != 0:\n",
    "    print(sol.message)\n",
    "sol"
   ]
  },
  {
   "cell_type": "code",
   "execution_count": 11,
   "id": "0c5e2459",
   "metadata": {},
   "outputs": [
    {
     "data": {
      "image/png": "[encoded data removed]",
      "text/plain": [
       "<Figure size 640x480 with 1 Axes>"
      ]
     },
     "metadata": {},
     "output_type": "display_data"
    }
   ],
   "source": [
    "t = sol.t\n",
    "x, vx, y, vy = sol.y\n",
    "\n",
    "fig, ax = plt.subplots()\n",
    "\n",
    "circ = plt.Circle((y0[0], y0[2]), params['r'], color='r')\n",
    "ax.add_patch(circ)\n",
    "\n",
    "nT = len(sol.t)\n",
    "selected_points = np.arange(0, nT, step = (nT-1)//10)\n",
    "\n",
    "ax.plot(x, y)\n",
    "ax.plot([0, y0[0]], [0, y0[2]], '-ro')\n",
    "ax.plot(x[selected_points], y[selected_points], 'ko')\n",
    "for p in selected_points:\n",
    "    ax.annotate(f\"{t[p]:.1f}\", (x[p] - 0.25, y[p] - 0.4))\n",
    "ax.set_xlim([-5.5, 5.5])\n",
    "ax.set_ylim([-6, 0.5])\n",
    "ax.set_xlabel(\"x\")\n",
    "ax.set_ylabel(\"y\")\n",
    "ax.set_aspect('equal')\n",
    "ax.grid()\n",
    "\n",
    "plt.show()"
   ]
  },
  {
   "cell_type": "code",
   "execution_count": null,
   "id": "9134b4df",
   "metadata": {},
   "outputs": [],
   "source": []
  },
  {
   "cell_type": "code",
   "execution_count": null,
   "id": "0fd6ef2e",
   "metadata": {},
   "outputs": [],
   "source": []
  }
 ],
 "metadata": {
  "kernelspec": {
   "display_name": "Python (torch)",
   "language": "python",
   "name": "torch"
  },
  "language_info": {
   "codemirror_mode": {
    "name": "ipython",
    "version": 3
   },
   "file_extension": ".py",
   "mimetype": "text/x-python",
   "name": "python",
   "nbconvert_exporter": "python",
   "pygments_lexer": "ipython3",
   "version": "3.9.15"
  }
 },
 "nbformat": 4,
 "nbformat_minor": 5
}

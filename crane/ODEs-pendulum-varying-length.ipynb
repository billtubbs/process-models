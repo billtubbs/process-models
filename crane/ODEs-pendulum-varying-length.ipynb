{
 "cells": [
  {
   "cell_type": "markdown",
   "id": "ef34f5ed",
   "metadata": {},
   "source": [
    "# Differential equations for a pendulum with time-varying length"
   ]
  },
  {
   "cell_type": "markdown",
   "id": "a6ed159a",
   "metadata": {},
   "source": [
    "Based on derivations from\n",
    " - https://en.wikipedia.org/wiki/Centripetal_force#Nonuniform_circular_motion"
   ]
  },
  {
   "cell_type": "markdown",
   "id": "dc88c2e5",
   "metadata": {},
   "source": [
    "## General planar motion\n",
    "(not limited to circular motion)"
   ]
  },
  {
   "cell_type": "markdown",
   "id": "25dfc2e1",
   "metadata": {},
   "source": [
    "Position of the point load at the end of pendulum arm relative to pivot:\n",
    "\n",
    "$$\\mathbf{r} = r \\cos{(\\theta)} \\mathbf{u}_x + r \\sin{(\\theta)} \\mathbf{u}_y$$\n",
    "\n",
    "where $\\mathbf{u}_x$ and $\\mathbf{u}_y$ are unit vectors in the cartesian plane, and $r$, $\\theta$ may be time varying"
   ]
  },
  {
   "cell_type": "markdown",
   "id": "d1c933c5",
   "metadata": {},
   "source": [
    "Translate into a polar co-ordinate system which has a radial unit vector $\\mathbf{u}_\\rho$ and an angular unit vector $\\mathbf{u}_\\theta$, and moves with the particle.\n",
    "\n",
    "<img src=\"images/Polar_unit_vectors.png\" width=\"40%\">\n",
    "\n",
    "\n",
    "$$\\mathbf{r} = \\rho \\mathbf{u}_\\rho$$\n",
    "\n",
    "The unit vector $\\mathbf{u}_p$ travels with the particle and always points in the same direction as $\\mathbf{r}(t)$. Unit vector $\\mathbf{u}_\\theta$ also travels with the particle and remains orthogonal to $\\mathbf{u}_\\rho$. Thus, $\\mathbf{u}_\\rho$ and $\\mathbf{u}_\\theta$ form a local Cartesian coordinate system attached to the particle, and tied to the path traveled by the particle."
   ]
  },
  {
   "cell_type": "markdown",
   "id": "18d8a50f",
   "metadata": {},
   "source": [
    "Velocity of the particle:\n",
    "\n",
    "$$\\mathbf{v} = \\frac{d\\rho}{dt} \\mathbf{u}_p + \\rho \\frac{d\\mathbf{u}_p}{dt}$$\n",
    "\n",
    "where $\\rho$ is used to describe the distance of the path from the origin instead of $r$ to emphasize that it is time-varying."
   ]
  },
  {
   "cell_type": "markdown",
   "id": "71293bbc",
   "metadata": {},
   "source": [
    "Considering that $\\mathbf{u}_p$ and $\\mathbf{u}_\\theta$ always form a right-angled pair with tips on the unit circle, their time derivatives are \n",
    "\n",
    "$$\\frac{d\\mathbf{u}_\\rho}{dt} = \\mathbf{u}_\\theta \\frac{d\\theta}{dt},\n",
    "\\frac{d\\mathbf{u}_\\theta}{dt} = - \\frac{d\\theta}{dt} \\mathbf{u}_\\rho$$\n",
    "\n",
    "Note: in the image above, to maintain orthogonality, if $d\\mathbf{u}_\\rho$ is positive with $d\\theta$, then $d\\mathbf{u}_\\theta$ must decrease."
   ]
  },
  {
   "cell_type": "markdown",
   "id": "91cedf72",
   "metadata": {},
   "source": [
    "Substituting above into the equation for velocity gives\n",
    "\n",
    "$$\\mathbf{v} = \\frac{d\\rho}{dt} \\mathbf{u}_\\rho + \\rho \\mathbf{u}_\\theta \\frac{d\\theta}{dt}$$"
   ]
  },
  {
   "cell_type": "markdown",
   "id": "43a04d66",
   "metadata": {},
   "source": [
    "To obtain the acceleration, differentiate again w.r.t. time\n",
    "\n",
    "$$\n",
    "\\begin{aligned}\n",
    "    \\mathbf{a} &= \\frac{d}{dt} \\left[ \n",
    "        \\frac{d\\rho}{dt} \\mathbf{u}_\\rho + \\rho \\mathbf{u}_\\theta \\frac{d\\theta}{dt}\n",
    "    \\right] \\\\\n",
    "    &= \\frac{d^2\\rho}{{dt}^2} \\mathbf{u}_\\rho \n",
    "        + \\frac{d\\rho}{dt} \\frac{d\\mathbf{u}_\\rho}{dt}\n",
    "        + \\frac{d\\rho}{dt} \\mathbf{u}_\\theta \\frac{d\\theta}{dt}\n",
    "        + \\rho \\frac{d\\mathbf{u}_\\theta}{dt} \\frac{d\\theta}{dt}\n",
    "        + \\rho \\mathbf{u}_\\theta \\frac{d^2\\theta}{{dt}^2} \\\\\n",
    "    &= \\frac{d^2\\rho}{{dt}^2} \\mathbf{u}_\\rho \n",
    "        + \\frac{d\\rho}{dt} \\mathbf{u}_\\theta \\frac{d\\theta}{dt}\n",
    "        + \\frac{d\\rho}{dt} \\mathbf{u}_\\theta \\frac{d\\theta}{dt}\n",
    "        - \\rho \\frac{d\\theta}{dt} \\mathbf{u}_\\rho \\frac{d\\theta}{dt}\n",
    "        + \\rho \\mathbf{u}_\\theta \\frac{d^2\\theta}{{dt}^2} \\\\\n",
    "    &= \\frac{d^2\\rho}{{dt}^2} \\mathbf{u}_\\rho\n",
    "        + 2 \\frac{d\\rho}{dt} \\mathbf{u}_\\theta \\frac{d\\theta}{dt}\n",
    "        - \\rho \\mathbf{u}_\\rho \\left(\\frac{d\\theta}{dt}\\right)^2\n",
    "        + \\rho \\mathbf{u}_\\theta \\frac{d^2\\theta}{{dt}^2} \\\\\n",
    "    &= \\mathbf{u}_\\rho \\left[ \n",
    "            \\frac{d^2\\rho}{{dt}^2}\n",
    "            - \\rho \\left(\\frac{d\\theta}{dt}\\right)^2 \\right]\n",
    "        + \\mathbf{u}_\\theta \\left[\n",
    "            2 \\frac{d\\rho}{dt} \\frac{d\\theta}{dt} \n",
    "            + \\rho \\frac{d^2\\theta}{{dt}^2} \\right]\n",
    "\\end{aligned}\n",
    "$$"
   ]
  },
  {
   "cell_type": "markdown",
   "id": "d5c20573",
   "metadata": {},
   "source": [
    "Since $\\frac{d\\rho}{dt} = v_p$ and $\\rho \\frac{d\\theta}{dt} = v_\\theta$, we can also write\n",
    "\n",
    "$$\n",
    "\\mathbf{a} = \\mathbf{u}_\\rho \\left[ \n",
    "            \\frac{dv_p}{dt}\n",
    "            - \\frac{v_\\theta^2}{\\rho} \\right]\n",
    "        + \\mathbf{u}_\\theta \\left[\n",
    "            \\frac{2 v_p v_\\theta}{\\rho} \n",
    "            + \\rho \\frac{d}{dt} \\left( \\frac{v_\\theta}{\\rho} \\right) \\right]\n",
    "$$"
   ]
  },
  {
   "cell_type": "markdown",
   "id": "57c31019",
   "metadata": {},
   "source": [
    "For comparison, the case of circular motion when $\\frac{d\\rho}{dt} = v_p = 0$, $\\mathbf{v} = \\mathbf{v_\\theta}$, and $v = v_\\theta = \\rho\\frac{d\\theta}{dt}$:\n",
    "\n",
    "$$\n",
    "\\begin{aligned}\n",
    "\\mathbf{a} &= \\mathbf{u}_\\rho \\left[ \n",
    "            - \\rho \\left( \\frac{d\\theta}{dt} \\right)^2 \\right]\n",
    "        + \\mathbf{u}_\\theta \\left[\n",
    "            \\rho \\frac{d^2\\theta}{{dt}^2} \\right] \\\\\n",
    "            &= \\mathbf{u}_\\rho \\left[ \n",
    "            - \\frac{v^2}{r} \\right]\n",
    "        + \\mathbf{u}_\\theta \\left[\n",
    "            \\frac{dv}{dt} \\right]\n",
    "\\end{aligned}\n",
    "$$"
   ]
  },
  {
   "cell_type": "markdown",
   "id": "1f106845",
   "metadata": {},
   "source": [
    "## Pendulum system equations\n",
    "\n",
    "Deriving the differential equation\n",
    "\n",
    "Using Newton's second law ($\\mathbf{F} = m \\mathbf{a})$)\n",
    "\n",
    "$$\\mathbf{N} + \\mathbf{G_p} = m_p \\mathbf{a}$$\n",
    "\n",
    "where $\\mathbf{N} = N_x \\mathbf{u}_x + N_y \\mathbf{u}_y$ is the force on the pendulum arm due to pivot, and $\\mathbf{G_p} = -m_p g \\mathbf{u}_y$ is the downwards force on the mass due to gravity."
   ]
  },
  {
   "cell_type": "markdown",
   "id": "e3e29079",
   "metadata": {},
   "source": [
    "$$\\mathbf{N} - m_p g \\mathbf{u}_y = m_p \\mathbf{a}$$"
   ]
  },
  {
   "cell_type": "markdown",
   "id": "460d5521",
   "metadata": {},
   "source": [
    "Equation from above is in the polar frame of refernce:\n",
    "\n",
    "$$\n",
    "\\begin{aligned}\n",
    "\\mathbf{a} &= \\mathbf{u}_\\rho \\left[ \n",
    "            \\frac{d^2\\rho}{{dt}^2}\n",
    "            - \\rho \\left(\\frac{d\\theta}{dt}\\right)^2 \\right]\n",
    "        + \\mathbf{u}_\\theta \\left[\n",
    "            2 \\frac{d\\rho}{dt} \\frac{d\\theta}{dt} \n",
    "            + \\rho \\frac{d^2\\theta}{{dt}^2} \\right] \\\\\n",
    "            &= a_\\rho \\mathbf{u}_\\rho\n",
    "        + a_\\theta \\mathbf{u}_\\theta\n",
    "\\end{aligned}\n",
    "$$\n",
    "\n",
    "Translate it into cartesian co-ordinates."
   ]
  },
  {
   "cell_type": "markdown",
   "id": "e8e1c5ca",
   "metadata": {},
   "source": [
    "From the definition of the co-ordinate systems above,\n",
    "\n",
    "$$\n",
    "\\begin{aligned}\n",
    "\\mathbf{u}_\\rho &= \\mathbf{u}_x \\cos(\\theta) + \\mathbf{u}_y \\sin(\\theta) \\\\\n",
    "\\mathbf{u}_\\theta &= -\\mathbf{u}_x \\sin(\\theta) + \\mathbf{u}_y \\cos(\\theta)\n",
    "\\end{aligned}\n",
    "$$"
   ]
  },
  {
   "cell_type": "markdown",
   "id": "2a8128e8",
   "metadata": {},
   "source": [
    "Therefore we can write\n",
    "\n",
    "$$\n",
    "\\mathbf{a} = \n",
    "    \\left( \\mathbf{u}_x \\cos(\\theta) + \\mathbf{u}_y \\sin(\\theta) \\right) \n",
    "             \\left[ \\frac{d^2\\rho}{{dt}^2}\n",
    "                - \\rho \\left(\\frac{d\\theta}{dt}\\right)^2 \\right]\n",
    "    + \\left( -\\mathbf{u}_x \\sin(\\theta) + \\mathbf{u}_y \\cos(\\theta) \\right)\n",
    "             \\left[ 2 \\frac{d\\rho}{dt} \\frac{d\\theta}{dt} \n",
    "                + \\rho \\frac{d^2\\theta}{{dt}^2} \\right]\n",
    "$$"
   ]
  },
  {
   "cell_type": "markdown",
   "id": "d658e0ca",
   "metadata": {},
   "source": [
    "Decomposing into x and y directions,\n",
    "\n",
    "$$\n",
    "\\begin{aligned}\n",
    "a_x &= \n",
    "    \\cos(\\theta) \n",
    "             \\left[ \\frac{d^2\\rho}{{dt}^2}\n",
    "                - \\rho \\left(\\frac{d\\theta}{dt}\\right)^2 \\right]\n",
    "    - \\sin(\\theta)\n",
    "             \\left[ 2 \\frac{d\\rho}{dt} \\frac{d\\theta}{dt} \n",
    "                + \\rho \\frac{d^2\\theta}{{dt}^2} \\right] \\\\\n",
    "a_y &= \n",
    "    \\sin(\\theta) \n",
    "             \\left[ \\frac{d^2\\rho}{{dt}^2}\n",
    "                - \\rho \\left(\\frac{d\\theta}{dt}\\right)^2 \\right]\n",
    "    + \\cos(\\theta)\n",
    "             \\left[ 2 \\frac{d\\rho}{dt} \\frac{d\\theta}{dt} \n",
    "                + \\rho \\frac{d^2\\theta}{{dt}^2} \\right]\n",
    "\\end{aligned}\n",
    "$$"
   ]
  },
  {
   "cell_type": "markdown",
   "id": "582dd13b",
   "metadata": {},
   "source": [
    "or\n",
    "\n",
    "$$\n",
    "\\begin{aligned}\n",
    "a_x &= a_\\rho \\cos(\\theta)\n",
    "        - a_\\theta \\sin(\\theta) \\\\\n",
    "a_y &= a_\\rho \\sin(\\theta) \n",
    "        + a_\\theta \\cos(\\theta)\n",
    "\\end{aligned}\n",
    "$$\n",
    "\n",
    "where\n",
    "\n",
    "$$\n",
    "a_\\rho = \\frac{d^2\\rho}{{dt}^2}\n",
    "                - \\rho \\left(\\frac{d\\theta}{dt}\\right)^2 \\\\\n",
    "a_\\theta = 2 \\frac{d\\rho}{dt} \\frac{d\\theta}{dt} \n",
    "                + \\rho \\frac{d^2\\theta}{{dt}^2}   \n",
    "$$"
   ]
  },
  {
   "cell_type": "markdown",
   "id": "bce84f9f",
   "metadata": {},
   "source": [
    "Substituting these equations into the $(\\mathbf{F} = m \\mathbf{a})$ equation above and assuming $\\mathbf{N}=0$, \n",
    "\n",
    "$$- m_p g \\mathbf{u}_y = m_p \\mathbf{a}$$\n",
    "\n",
    "Therefore\n",
    "\n",
    "$$\n",
    "\\begin{aligned}\n",
    "0 &= a_\\rho \\cos(\\theta)\n",
    "        - a_\\theta \\sin(\\theta) \\\\\n",
    "-g &= a_\\rho \\sin(\\theta) \n",
    "        + a_\\theta \\cos(\\theta)\n",
    "\\end{aligned}\n",
    "$$"
   ]
  },
  {
   "cell_type": "markdown",
   "id": "975f78cc",
   "metadata": {},
   "source": [
    "Substituting $a_\\rho$ and $a_\\theta$ with expressions above\n",
    "\n",
    "$$\n",
    "\\begin{aligned}\n",
    "0 &= \\left( \\frac{d^2\\rho}{{dt}^2}\n",
    "                - \\rho \\left(\\frac{d\\theta}{dt}\\right)^2 \\right) \\cos(\\theta)\n",
    "        - \\left( 2 \\frac{d\\rho}{dt} \\frac{d\\theta}{dt} \n",
    "                + \\rho \\frac{d^2\\theta}{{dt}^2} \\right) \\sin(\\theta) \\\\\n",
    "-g &= \\left( \\frac{d^2\\rho}{{dt}^2}\n",
    "                - \\rho \\left(\\frac{d\\theta}{dt}\\right)^2 \\right) \\sin(\\theta) \n",
    "        + \\left( 2 \\frac{d\\rho}{dt} \\frac{d\\theta}{dt} \n",
    "                + \\rho \\frac{d^2\\theta}{{dt}^2} \\right) \\cos(\\theta)\n",
    "\\end{aligned}\n",
    "$$"
   ]
  },
  {
   "cell_type": "code",
   "execution_count": null,
   "id": "669ee6e2",
   "metadata": {},
   "outputs": [],
   "source": []
  },
  {
   "cell_type": "code",
   "execution_count": null,
   "id": "554b6eb5",
   "metadata": {},
   "outputs": [],
   "source": []
  }
 ],
 "metadata": {
  "kernelspec": {
   "display_name": "Python (torch)",
   "language": "python",
   "name": "torch"
  },
  "language_info": {
   "codemirror_mode": {
    "name": "ipython",
    "version": 3
   },
   "file_extension": ".py",
   "mimetype": "text/x-python",
   "name": "python",
   "nbconvert_exporter": "python",
   "pygments_lexer": "ipython3",
   "version": "3.9.15"
  }
 },
 "nbformat": 4,
 "nbformat_minor": 5
}
